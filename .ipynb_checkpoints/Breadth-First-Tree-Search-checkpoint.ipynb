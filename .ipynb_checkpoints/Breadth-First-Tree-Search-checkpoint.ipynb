{
 "cells": [
  {
   "attachments": {
    "graph-bfs-step-0.jpg": {
     "image/jpeg": "[encoded data removed]"
    }
   },
   "cell_type": "markdown",
   "metadata": {},
   "source": [
    "# Breadth First Tree Search\n",
    "\n",
    "https://www.programiz.com/dsa/graph-bfs\n",
    "\n",
    "A standard DFS implementation puts each vertex of the graph into one of two categories:\n",
    "- Visited\n",
    "- Not Visited\n",
    "\n",
    "The purpose of the algorithm is to mark each vertex as visited while avoiding cycles.\n",
    "\n",
    "The algorithm works as follows:\n",
    "\n",
    "- Start by putting any one of the graph's vertices at the back of a queue.\n",
    "- Take the front item of the queue and add it to the visited list.\n",
    "- Create a list of that vertex's adjacent nodes. Add the ones which aren't in the visited list to the back of the queue.\n",
    "- Keep repeating steps 2 and 3 until the queue is empty.\n",
    "\n",
    "The graph might have two different disconnected parts so to make sure that we cover every vertex, we can also run the BFS algorithm on every node\n",
    "\n",
    "### BFS example\n",
    "Let's see how the Breadth First Search algorithm works with an example. We use an undirected graph with 5 vertices.\n",
    "![graph-bfs-step-0.jpg](attachment:graph-bfs-step-0.jpg)\n",
    "\n",
    "- We start from vertex 0, the BFS algorithm starts by putting it in the Visited list and putting all its adjacent vertices in the stack.\n",
    "- Next, we visit the element at the front of queue i.e. 1 and go to its adjacent nodes. Since 0 has already been visited, we visit 2 instead.\n",
    "- Vertex 2 has an unvisited adjacent vertex in 4, so we add that to the back of the queue and visit 3, which is at the front of the queue.\n",
    "- Only 4 remains in the queue since the only adjacent node of 3 i.e. 0 is already visited. We visit it.\n",
    "- Since the queue is empty, we have completed the Breadth First Traversal of the graph."
   ]
  },
  {
   "cell_type": "code",
   "execution_count": 19,
   "metadata": {},
   "outputs": [],
   "source": [
    "from collections import deque\n",
    "class Graph:\n",
    "    def __init__(self, graph_structure,root):\n",
    "        self.visited = set()\n",
    "        self.root = root\n",
    "        self.queue = deque([self.root])\n",
    "        self.graph_structure = graph_structure\n",
    "        \n",
    "    def breadth_first_search(self):\n",
    "        while self.queue:\n",
    "            vertex = self.queue.popleft()\n",
    "            self.visited.add(vertex)\n",
    "            print('vertex:',vertex)\n",
    "            print('queue:',self.queue)\n",
    "            print('visited:',self.visited)\n",
    "            for neighbor in self.graph_structure[vertex]:\n",
    "                if neighbor not in self.visited:\n",
    "                    self.visited.add(neighbor)\n",
    "                    self.queue.append(neighbor)\n",
    "                    print('adjusted queue:',self.queue)\n",
    "                    print('adjusted visited:',self.visited)"
   ]
  },
  {
   "cell_type": "code",
   "execution_count": 20,
   "metadata": {},
   "outputs": [
    {
     "name": "stdout",
     "output_type": "stream",
     "text": [
      "vertex: 0\n",
      "queue: deque([])\n",
      "visited: {0}\n",
      "adjusted queue: deque([1])\n",
      "adjusted visited: {0, 1}\n",
      "adjusted queue: deque([1, 2])\n",
      "adjusted visited: {0, 1, 2}\n",
      "vertex: 1\n",
      "queue: deque([2])\n",
      "visited: {0, 1, 2}\n",
      "vertex: 2\n",
      "queue: deque([])\n",
      "visited: {0, 1, 2}\n",
      "adjusted queue: deque([3])\n",
      "adjusted visited: {0, 1, 2, 3}\n",
      "vertex: 3\n",
      "queue: deque([])\n",
      "visited: {0, 1, 2, 3}\n"
     ]
    }
   ],
   "source": [
    "graph_structure = {0: [1, 2], 1: [2], 2: [3], 3: [1,2]} \n",
    "graph = Graph(graph_structure=graph_structure,root=0)\n",
    "graph.breadth_first_search()"
   ]
  },
  {
   "cell_type": "code",
   "execution_count": 24,
   "metadata": {},
   "outputs": [
    {
     "name": "stdout",
     "output_type": "stream",
     "text": [
      "vertex: 3\n",
      "queue: deque([])\n",
      "visited: {3}\n",
      "adjusted queue: deque([9])\n",
      "adjusted visited: {9, 3}\n",
      "adjusted queue: deque([9, 20])\n",
      "adjusted visited: {9, 3, 20}\n",
      "vertex: 9\n",
      "queue: deque([20])\n",
      "visited: {9, 3, 20}\n",
      "vertex: 20\n",
      "queue: deque([])\n",
      "visited: {9, 3, 20}\n",
      "adjusted queue: deque([15])\n",
      "adjusted visited: {9, 3, 20, 15}\n",
      "adjusted queue: deque([15, 7])\n",
      "adjusted visited: {3, 7, 9, 15, 20}\n",
      "vertex: 15\n",
      "queue: deque([7])\n",
      "visited: {3, 7, 9, 15, 20}\n",
      "vertex: 7\n",
      "queue: deque([])\n",
      "visited: {3, 7, 9, 15, 20}\n"
     ]
    }
   ],
   "source": [
    "# Python program to find minimum depth of a given Binary Tree (note: tree does not have loops)\n",
    "#    3\n",
    "#   / \\\n",
    "#  9   20\n",
    "#      / \\\n",
    "#   15    7\n",
    "tree_structure = {3: [9, 20], 9: [], 20: [15,7], 15:[], 7:[]}\n",
    "graph = Graph(graph_structure=tree_structure,root=3)\n",
    "graph.breadth_first_search()"
   ]
  },
  {
   "cell_type": "code",
   "execution_count": null,
   "metadata": {},
   "outputs": [],
   "source": []
  }
 ],
 "metadata": {
  "kernelspec": {
   "display_name": "Python 3",
   "language": "python",
   "name": "python3"
  },
  "language_info": {
   "codemirror_mode": {
    "name": "ipython",
    "version": 3
   },
   "file_extension": ".py",
   "mimetype": "text/x-python",
   "name": "python",
   "nbconvert_exporter": "python",
   "pygments_lexer": "ipython3",
   "version": "3.6.5"
  }
 },
 "nbformat": 4,
 "nbformat_minor": 2
}
