{
 "cells": [
  {
   "cell_type": "markdown",
   "metadata": {},
   "source": [
    "https://app.codility.com/programmers/lessons/10-prime_and_composite_numbers/min_perimeter_rectangle/"
   ]
  },
  {
   "cell_type": "code",
   "execution_count": 2,
   "metadata": {},
   "outputs": [],
   "source": [
    "def solution(n):\n",
    "    i = 1\n",
    "    rectangles = []\n",
    "    while i*i < n:\n",
    "        if n % i == 0:\n",
    "            rectangles.append((i,n/i))\n",
    "        i += 1\n",
    "    \n",
    "    if i*i == n:\n",
    "        rectangles.append((i,i))\n",
    "    \n",
    "    x0,y0 = rectangles[0]\n",
    "    min_perimeter = 2*(x0+y0)\n",
    "    \n",
    "    for x,y in rectangles:\n",
    "        min_perimeter = min(min_perimeter,2*(x+y))\n",
    "    \n",
    "    return min_perimeter"
   ]
  },
  {
   "cell_type": "code",
   "execution_count": 3,
   "metadata": {},
   "outputs": [
    {
     "name": "stdout",
     "output_type": "stream",
     "text": [
      "22.0\n"
     ]
    },
    {
     "data": {
      "text/plain": [
       "22.0"
      ]
     },
     "execution_count": 3,
     "metadata": {},
     "output_type": "execute_result"
    }
   ],
   "source": [
    "solution(30)"
   ]
  },
  {
   "cell_type": "code",
   "execution_count": 4,
   "metadata": {},
   "outputs": [],
   "source": [
    "#less readable version but better space complexity O(1)\n",
    "def solution(n):\n",
    "    i = 1\n",
    "    min_perimeter = 2*(n+1)\n",
    "    while i*i < n:\n",
    "        if n % i == 0:\n",
    "            min_perimeter = min(min_perimeter, 2*(i+(n/i)))\n",
    "        i += 1\n",
    "    \n",
    "    if i*i == n:\n",
    "        min_perimeter = min(min_perimeter, 2*(i+(n/i)))\n",
    "    \n",
    "    return min_perimeter"
   ]
  },
  {
   "cell_type": "code",
   "execution_count": 5,
   "metadata": {},
   "outputs": [
    {
     "data": {
      "text/plain": [
       "22.0"
      ]
     },
     "execution_count": 5,
     "metadata": {},
     "output_type": "execute_result"
    }
   ],
   "source": [
    "solution(30)"
   ]
  },
  {
   "cell_type": "code",
   "execution_count": 10,
   "metadata": {},
   "outputs": [],
   "source": [
    "#employing calculus tricks but same worst case time complexity and space complexity as above\n",
    "#least perimeter of rectangle is when difference between the two sides is minimum\n",
    "import math\n",
    "def solution(N):\n",
    "    if N <= 0:\n",
    "      return 0\n",
    "   \n",
    "    for i in range(int(math.sqrt(N)), 0, -1):\n",
    "        if N % i == 0:\n",
    "            return 2*(i+N/i)\n",
    "             \n",
    "    raise Exception(\"should never reach here!\")  "
   ]
  },
  {
   "cell_type": "code",
   "execution_count": 11,
   "metadata": {},
   "outputs": [
    {
     "data": {
      "text/plain": [
       "22.0"
      ]
     },
     "execution_count": 11,
     "metadata": {},
     "output_type": "execute_result"
    }
   ],
   "source": [
    "solution(30)"
   ]
  },
  {
   "cell_type": "code",
   "execution_count": null,
   "metadata": {},
   "outputs": [],
   "source": []
  }
 ],
 "metadata": {
  "kernelspec": {
   "display_name": "Python 3",
   "language": "python",
   "name": "python3"
  },
  "language_info": {
   "codemirror_mode": {
    "name": "ipython",
    "version": 3
   },
   "file_extension": ".py",
   "mimetype": "text/x-python",
   "name": "python",
   "nbconvert_exporter": "python",
   "pygments_lexer": "ipython3",
   "version": "3.6.5"
  }
 },
 "nbformat": 4,
 "nbformat_minor": 2
}
