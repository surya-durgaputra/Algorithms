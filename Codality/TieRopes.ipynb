{
 "cells": [
  {
   "cell_type": "markdown",
   "metadata": {},
   "source": [
    "https://app.codility.com/programmers/lessons/16-greedy_algorithms/tie_ropes/"
   ]
  },
  {
   "cell_type": "code",
   "execution_count": null,
   "metadata": {},
   "outputs": [],
   "source": [
    "def solution(K,A):\n",
    "    \n",
    "    if sum(A)<K:\n",
    "        return 0\n",
    "\n",
    "    count = 0\n",
    "    index = 0\n",
    "    accumulator = 0\n",
    "    while index < len(A):\n",
    "        if accumulator >= K:\n",
    "            count += 1\n",
    "            accumulator = A[index]\n",
    "        else:\n",
    "            accumulator += A[index]\n",
    "        index += 1\n",
    "    if accumulator >= K:\n",
    "        count += 1\n",
    "    return count"
   ]
  }
 ],
 "metadata": {
  "kernelspec": {
   "display_name": "Python 3",
   "language": "python",
   "name": "python3"
  },
  "language_info": {
   "codemirror_mode": {
    "name": "ipython",
    "version": 3
   },
   "file_extension": ".py",
   "mimetype": "text/x-python",
   "name": "python",
   "nbconvert_exporter": "python",
   "pygments_lexer": "ipython3",
   "version": "3.6.5"
  }
 },
 "nbformat": 4,
 "nbformat_minor": 2
}
