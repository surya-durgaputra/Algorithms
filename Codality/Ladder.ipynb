{
 "cells": [
  {
   "cell_type": "markdown",
   "metadata": {},
   "source": [
    "https://app.codility.com/programmers/lessons/13-fibonacci_numbers/ladder/\n",
    "\n",
    "This is in fact closely related to the Fibonacci sequence: Each step n can be reached from either two steps below (n-2) or one step below (n-1), thus the number of possibilities to reach that step is the sum of the possibilities to reach those other two steps. Finally, there is exactly one possibility to reach the first step (and the zeroth, i.e. staying on the ground).\n",
    "\n",
    "Also, as the number of possibilities for step n depends only on the results for step n-1 and n-2, it is not necessary to store all those intermediate values in a map or in an array -- the last two are enough!\n",
    "\n",
    "Also, for performance tests, replace the modulo with shift. See stack overflow here for discussion:\n",
    "https://stackoverflow.com/questions/6670715/mod-of-power-2-on-bitwise-operators/6670766#6670766"
   ]
  },
  {
   "cell_type": "code",
   "execution_count": 1,
   "metadata": {},
   "outputs": [],
   "source": [
    "def fibo(n,b):\n",
    "    f = [0]*(n+1)\n",
    "    f[0]=f[1]=1\n",
    "    for index in range(2,n+1):\n",
    "        f[index] = (f[index-1] + f[index-2])%(2**b)\n",
    "    return f\n",
    "\n",
    "def solution(A,B):\n",
    "    result = [0]*len(A)\n",
    "    max_a = max(A)\n",
    "    max_b = max(B)\n",
    "    f = fibo(max_a,max_b)\n",
    "    for index in range(len(A)):\n",
    "        result[index] = f[A[index]]%(2**B[index])\n",
    "    return result"
   ]
  },
  {
   "cell_type": "code",
   "execution_count": 2,
   "metadata": {},
   "outputs": [
    {
     "data": {
      "text/plain": [
       "[5, 1, 8, 0, 1]"
      ]
     },
     "execution_count": 2,
     "metadata": {},
     "output_type": "execute_result"
    }
   ],
   "source": [
    "solution([4,4,5,5,1],[3,2,4,3,1])"
   ]
  },
  {
   "cell_type": "code",
   "execution_count": null,
   "metadata": {},
   "outputs": [],
   "source": []
  }
 ],
 "metadata": {
  "kernelspec": {
   "display_name": "Python 3",
   "language": "python",
   "name": "python3"
  },
  "language_info": {
   "codemirror_mode": {
    "name": "ipython",
    "version": 3
   },
   "file_extension": ".py",
   "mimetype": "text/x-python",
   "name": "python",
   "nbconvert_exporter": "python",
   "pygments_lexer": "ipython3",
   "version": "3.6.5"
  }
 },
 "nbformat": 4,
 "nbformat_minor": 2
}
