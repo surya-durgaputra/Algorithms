{
 "cells": [
  {
   "cell_type": "markdown",
   "metadata": {},
   "source": [
    "https://app.codility.com/programmers/lessons/13-fibonacci_numbers/ladder/\n",
    "\n",
    "This is in fact closely related to the Fibonacci sequence: Each step n can be reached from either two steps below (n-2) or one step below (n-1), thus the number of possibilities to reach that step is the sum of the possibilities to reach those other two steps. Finally, there is exactly one possibility to reach the first step (and the zeroth, i.e. staying on the ground).\n",
    "\n",
    "Also, as the number of possibilities for step n depends only on the results for step n-1 and n-2, it is not necessary to store all those intermediate values in a map or in an array -- the last two are enough!\n",
    "\n",
    "Also, for performance tests, replace the modulo with shift. See stack overflow here for discussion:\n",
    "https://stackoverflow.com/questions/6670715/mod-of-power-2-on-bitwise-operators/6670766#6670766"
   ]
  },
  {
   "cell_type": "code",
   "execution_count": 17,
   "metadata": {},
   "outputs": [],
   "source": [
    "def fibonacci(n):\n",
    "    '''Generate and return all fibonacci numbers less than or equal to n in descending order\n",
    "    n must be greater than or equal to one'''\n",
    "    fib = [0]*(n+2) # because fibonacci sequence really starts from F(2). F(0) and F(1) are base conditions.\n",
    "    #also since fibonacci sequence only requires approx log(n) steps, n+2 is the upper bound for size of fibonacci array\n",
    "    fib[1] = 1\n",
    "\n",
    "    for num in range(2,n+2):\n",
    "        fib[num] = fib[num-1] + fib[num-2]\n",
    "        if fib[num] > n:\n",
    "            return fib[num-1:1:-1]\n",
    "        if fib[num] == n:\n",
    "            return fib[num:1:-1]\n",
    "\n",
    "def fibonacci_limit(n,limit):\n",
    "    if n == 0:\n",
    "        return 1\n",
    "    fib = [0]*(n+2)\n",
    "    fib[1] = 1\n",
    "    for index in range(2,n+1):\n",
    "        fib[index] = (fib[index-2] + fib[index-1]) & limit\n",
    "    return fib[n]\n",
    "\n",
    "def solution(A,B):\n",
    "    result = [0]*len(A)\n",
    "    P_max = max(B)\n",
    "    cache = {}\n",
    "    for index,a in enumerate(A):\n",
    "        key = a+1\n",
    "        limit = ((1<<P_max) - 1)\n",
    "        if key not in cache:\n",
    "            cache[key] =  fibonacci_limit(key,limit)\n",
    "        result[index] = cache[key] & ((1<<B[index]) - 1)\n",
    "    return result"
   ]
  },
  {
   "cell_type": "code",
   "execution_count": 18,
   "metadata": {},
   "outputs": [
    {
     "data": {
      "text/plain": [
       "8"
      ]
     },
     "execution_count": 18,
     "metadata": {},
     "output_type": "execute_result"
    }
   ],
   "source": [
    "n = 5\n",
    "fast_fibonacci(n+1)"
   ]
  },
  {
   "cell_type": "code",
   "execution_count": null,
   "metadata": {},
   "outputs": [],
   "source": []
  },
  {
   "cell_type": "code",
   "execution_count": 19,
   "metadata": {},
   "outputs": [
    {
     "data": {
      "text/plain": [
       "[5, 5, 8, 8, 1]"
      ]
     },
     "execution_count": 19,
     "metadata": {},
     "output_type": "execute_result"
    }
   ],
   "source": [
    "solution([4,4,5,5,1],[3,2,4,3,1])"
   ]
  },
  {
   "cell_type": "code",
   "execution_count": null,
   "metadata": {},
   "outputs": [],
   "source": []
  }
 ],
 "metadata": {
  "kernelspec": {
   "display_name": "Python 3",
   "language": "python",
   "name": "python3"
  },
  "language_info": {
   "codemirror_mode": {
    "name": "ipython",
    "version": 3
   },
   "file_extension": ".py",
   "mimetype": "text/x-python",
   "name": "python",
   "nbconvert_exporter": "python",
   "pygments_lexer": "ipython3",
   "version": "3.6.5"
  }
 },
 "nbformat": 4,
 "nbformat_minor": 2
}
