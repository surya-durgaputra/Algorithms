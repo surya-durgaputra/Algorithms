{
 "cells": [
  {
   "cell_type": "markdown",
   "metadata": {},
   "source": [
    "Description here: https://app.codility.com/programmers/lessons/4-counting_elements/frog_river_one/"
   ]
  },
  {
   "cell_type": "code",
   "execution_count": 1,
   "metadata": {},
   "outputs": [],
   "source": [
    "def solution(X,A):\n",
    "\n",
    "    # boundary conditions \n",
    "    min_val = min(A)\n",
    "    if min_val != 1:\n",
    "        return -1\n",
    "    max_val = max(A)\n",
    "    length = len(A)\n",
    "    if max_val != X:\n",
    "        return -1\n",
    "\n",
    "    unique_A = list(set(A))\n",
    "    if X != len(unique_A):\n",
    "        return -1\n",
    "\n",
    "    # rest of logic\n",
    "    score_board = [0]*(X+1)\n",
    "    count = 0\n",
    "    for index,value in enumerate(A):\n",
    "        if score_board[value] == 0:\n",
    "            score_board[value] = 1\n",
    "            count += 1\n",
    "        if count == X:\n",
    "            return index\n",
    "\n",
    "    return -1"
   ]
  },
  {
   "cell_type": "code",
   "execution_count": 2,
   "metadata": {},
   "outputs": [
    {
     "data": {
      "text/plain": [
       "6"
      ]
     },
     "execution_count": 2,
     "metadata": {},
     "output_type": "execute_result"
    }
   ],
   "source": [
    "\n",
    "\n",
    "solution(5,[1,3,1,4,2,3,5,4])"
   ]
  },
  {
   "cell_type": "code",
   "execution_count": null,
   "metadata": {},
   "outputs": [],
   "source": []
  }
 ],
 "metadata": {
  "kernelspec": {
   "display_name": "Python 3",
   "language": "python",
   "name": "python3"
  },
  "language_info": {
   "codemirror_mode": {
    "name": "ipython",
    "version": 3
   },
   "file_extension": ".py",
   "mimetype": "text/x-python",
   "name": "python",
   "nbconvert_exporter": "python",
   "pygments_lexer": "ipython3",
   "version": "3.6.5"
  }
 },
 "nbformat": 4,
 "nbformat_minor": 2
}
