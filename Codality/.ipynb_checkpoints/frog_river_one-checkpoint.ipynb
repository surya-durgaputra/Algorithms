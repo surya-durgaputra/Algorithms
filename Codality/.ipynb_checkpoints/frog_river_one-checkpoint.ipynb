{
 "cells": [
  {
   "cell_type": "markdown",
   "metadata": {},
   "source": [
    "Description here: https://app.codility.com/programmers/lessons/4-counting_elements/frog_river_one/"
   ]
  },
  {
   "cell_type": "code",
   "execution_count": 4,
   "metadata": {},
   "outputs": [
    {
     "data": {
      "text/plain": [
       "6"
      ]
     },
     "execution_count": 4,
     "metadata": {},
     "output_type": "execute_result"
    }
   ],
   "source": [
    "def Solution(X,A):\n",
    "    a_set = set()\n",
    "    time_marker = 0\n",
    "    for index,value in enumerate(A):\n",
    "        time_marker = index\n",
    "        if value <= X:\n",
    "            a_set.add(value)\n",
    "            if len(a_set) == X:\n",
    "                return time_marker\n",
    "\n",
    "Solution(5,[1,3,1,4,2,3,5,4])"
   ]
  },
  {
   "cell_type": "code",
   "execution_count": 5,
   "metadata": {},
   "outputs": [
    {
     "data": {
      "text/plain": [
       "6"
      ]
     },
     "execution_count": 5,
     "metadata": {},
     "output_type": "execute_result"
    }
   ],
   "source": [
    "def Solution(X,A):\n",
    "    required = set(range(1,X+1))\n",
    "    for index,value in enumerate(A):\n",
    "        if value in required:\n",
    "            required.remove(value)\n",
    "        if not len(required):\n",
    "            return index\n",
    "        \n",
    "    return -1\n",
    "\n",
    "Solution(5,[1,3,1,4,2,3,5,4])"
   ]
  },
  {
   "cell_type": "code",
   "execution_count": null,
   "metadata": {},
   "outputs": [],
   "source": []
  }
 ],
 "metadata": {
  "kernelspec": {
   "display_name": "Python 3",
   "language": "python",
   "name": "python3"
  },
  "language_info": {
   "codemirror_mode": {
    "name": "ipython",
    "version": 3
   },
   "file_extension": ".py",
   "mimetype": "text/x-python",
   "name": "python",
   "nbconvert_exporter": "python",
   "pygments_lexer": "ipython3",
   "version": "3.6.5"
  }
 },
 "nbformat": 4,
 "nbformat_minor": 2
}
