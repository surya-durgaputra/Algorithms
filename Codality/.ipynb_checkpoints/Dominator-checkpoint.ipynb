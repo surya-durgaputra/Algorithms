{
 "cells": [
  {
   "cell_type": "markdown",
   "metadata": {},
   "source": [
    "https://app.codility.com/programmers/lessons/8-leader/dominator/"
   ]
  },
  {
   "cell_type": "code",
   "execution_count": 1,
   "metadata": {},
   "outputs": [],
   "source": [
    "def solution(A):\n",
    "    from collections import deque\n",
    "\n",
    "    stack = deque()\n",
    "    n = len(A)\n",
    "    for index,value in enumerate(A):\n",
    "        if len(stack) == 0:\n",
    "            stack.append(value)\n",
    "            continue\n",
    "        if stack[-1] == value:\n",
    "            stack.append(value)\n",
    "        else:\n",
    "            stack.pop()\n",
    "\n",
    "    if len(stack)==0:\n",
    "        return -1\n",
    "    counter = 0\n",
    "    candidate = stack[-1]\n",
    "    leader_index = -1\n",
    "    for index,value in enumerate(A):\n",
    "        if value == candidate:\n",
    "            counter += 1\n",
    "            leader_index = index\n",
    "\n",
    "    if counter > len(A)//2:\n",
    "        return leader_index\n",
    "\n",
    "    return -1"
   ]
  },
  {
   "cell_type": "code",
   "execution_count": 2,
   "metadata": {},
   "outputs": [
    {
     "data": {
      "text/plain": [
       "5"
      ]
     },
     "execution_count": 2,
     "metadata": {},
     "output_type": "execute_result"
    }
   ],
   "source": [
    "solution([1,2,2,2,2,2,3])"
   ]
  },
  {
   "cell_type": "code",
   "execution_count": null,
   "metadata": {},
   "outputs": [],
   "source": []
  }
 ],
 "metadata": {
  "kernelspec": {
   "display_name": "Python 3",
   "language": "python",
   "name": "python3"
  },
  "language_info": {
   "codemirror_mode": {
    "name": "ipython",
    "version": 3
   },
   "file_extension": ".py",
   "mimetype": "text/x-python",
   "name": "python",
   "nbconvert_exporter": "python",
   "pygments_lexer": "ipython3",
   "version": "3.6.5"
  }
 },
 "nbformat": 4,
 "nbformat_minor": 2
}
