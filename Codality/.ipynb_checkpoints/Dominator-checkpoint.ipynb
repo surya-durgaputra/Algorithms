{
 "cells": [
  {
   "cell_type": "markdown",
   "metadata": {},
   "source": [
    "https://app.codility.com/programmers/lessons/8-leader/dominator/"
   ]
  },
  {
   "cell_type": "code",
   "execution_count": 1,
   "metadata": {},
   "outputs": [],
   "source": [
    "def solution(A):\n",
    "    stack_cnt = 0\n",
    "    candidate = 0\n",
    "    for index,value in enumerate(A):\n",
    "        if stack_cnt == 0:\n",
    "            stack_cnt += 1\n",
    "            candidate = value\n",
    "        elif candidate == value:\n",
    "            stack_cnt += 1\n",
    "        else:\n",
    "            stack_cnt -= 1\n",
    "    \n",
    "    if stack_cnt > 0:\n",
    "        candidate_indexes = [index for index,num in enumerate(A) if num == candidate]\n",
    "        if len(candidate_indexes) > len(A)//2:\n",
    "            return candidate_indexes\n",
    "        else:\n",
    "            return -1\n",
    "    else:\n",
    "        return -1"
   ]
  },
  {
   "cell_type": "code",
   "execution_count": 2,
   "metadata": {},
   "outputs": [
    {
     "data": {
      "text/plain": [
       "[1, 2, 3, 4, 5]"
      ]
     },
     "execution_count": 2,
     "metadata": {},
     "output_type": "execute_result"
    }
   ],
   "source": [
    "solution([1,2,2,2,2,2,3])"
   ]
  }
 ],
 "metadata": {
  "kernelspec": {
   "display_name": "Python 3",
   "language": "python",
   "name": "python3"
  },
  "language_info": {
   "codemirror_mode": {
    "name": "ipython",
    "version": 3
   },
   "file_extension": ".py",
   "mimetype": "text/x-python",
   "name": "python",
   "nbconvert_exporter": "python",
   "pygments_lexer": "ipython3",
   "version": "3.6.5"
  }
 },
 "nbformat": 4,
 "nbformat_minor": 2
}
