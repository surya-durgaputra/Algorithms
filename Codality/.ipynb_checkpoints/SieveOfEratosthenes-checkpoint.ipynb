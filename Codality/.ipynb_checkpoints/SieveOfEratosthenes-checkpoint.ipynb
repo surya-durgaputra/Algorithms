{
 "cells": [
  {
   "cell_type": "markdown",
   "metadata": {},
   "source": [
    "https://codility.com/media/train/9-Sieve.pdf"
   ]
  },
  {
   "cell_type": "code",
   "execution_count": 35,
   "metadata": {},
   "outputs": [],
   "source": [
    "def sieve(n):\n",
    "    sieve = [True]*(n+1)\n",
    "    sieve[0] = sieve[1] = False\n",
    "\n",
    "    i = 2\n",
    "    while i*i<=n:\n",
    "        if sieve[i]:\n",
    "            k = i*i\n",
    "            while k <= n:\n",
    "                sieve[k] = False\n",
    "                k += i\n",
    "\n",
    "        i += 1\n",
    "\n",
    "    primes = [num for num in range(0,n+1)]\n",
    "    print(sieve)\n",
    "    print(primes)\n",
    "    return [num for index,num in enumerate(primes) if sieve[index]]"
   ]
  },
  {
   "cell_type": "code",
   "execution_count": 36,
   "metadata": {},
   "outputs": [
    {
     "name": "stdout",
     "output_type": "stream",
     "text": [
      "[False, False, True, True, False, True, False, True, False, False, False]\n",
      "[0, 1, 2, 3, 4, 5, 6, 7, 8, 9, 10]\n"
     ]
    },
    {
     "data": {
      "text/plain": [
       "[2, 3, 5, 7]"
      ]
     },
     "execution_count": 36,
     "metadata": {},
     "output_type": "execute_result"
    }
   ],
   "source": [
    "sieve(10)"
   ]
  },
  {
   "cell_type": "code",
   "execution_count": 37,
   "metadata": {},
   "outputs": [],
   "source": [
    "#factorization\n",
    "def factorization(x,F):\n",
    "    prime_factors = []\n",
    "    while ()\n",
    "\n",
    "def arrayF(n):\n",
    "    F = [0]*(n+1)\n",
    "    i = 2\n",
    "    while(i*i<=n):\n",
    "        if F[i] == 0:\n",
    "            k = i*i\n",
    "            while k<=n:\n",
    "                if F[k]==0:\n",
    "                    F[k] = i\n",
    "                k += i\n",
    "        i += 1\n",
    "    return F"
   ]
  },
  {
   "cell_type": "code",
   "execution_count": 38,
   "metadata": {},
   "outputs": [
    {
     "data": {
      "text/plain": [
       "[0, 0, 0, 0, 2, 0, 2, 0, 2, 3, 2, 0, 2, 0, 2, 3, 2, 0, 2, 0, 2]"
      ]
     },
     "execution_count": 38,
     "metadata": {},
     "output_type": "execute_result"
    }
   ],
   "source": [
    "arrayF(20)"
   ]
  },
  {
   "cell_type": "code",
   "execution_count": null,
   "metadata": {},
   "outputs": [],
   "source": []
  }
 ],
 "metadata": {
  "kernelspec": {
   "display_name": "Python 3",
   "language": "python",
   "name": "python3"
  },
  "language_info": {
   "codemirror_mode": {
    "name": "ipython",
    "version": 3
   },
   "file_extension": ".py",
   "mimetype": "text/x-python",
   "name": "python",
   "nbconvert_exporter": "python",
   "pygments_lexer": "ipython3",
   "version": "3.6.5"
  }
 },
 "nbformat": 4,
 "nbformat_minor": 2
}
