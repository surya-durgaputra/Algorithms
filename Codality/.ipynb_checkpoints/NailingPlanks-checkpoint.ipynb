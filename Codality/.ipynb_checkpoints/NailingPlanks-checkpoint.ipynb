{
 "cells": [
  {
   "cell_type": "markdown",
   "metadata": {},
   "source": [
    "https://app.codility.com/programmers/lessons/14-binary_search_algorithm/nailing_planks/\n",
    "\n",
    "correctness:100% Performance:25% Total:65/100"
   ]
  },
  {
   "cell_type": "code",
   "execution_count": null,
   "metadata": {},
   "outputs": [],
   "source": [
    "def sufficient_nails(A,B,C,limit):\n",
    "    for a,b in zip(A,B):\n",
    "        nailed = False\n",
    "        for nail_index in range(limit+1):\n",
    "            if a <= C[nail_index] and b >= C[nail_index]:\n",
    "                nailed = True\n",
    "                break\n",
    "        if nailed:\n",
    "            continue\n",
    "        else:\n",
    "            return False\n",
    "\n",
    "    return True\n",
    "\n",
    "def solution(A,B,C):\n",
    "    upper_bound = len(C) - 1 # end of C\n",
    "    lower_bound = 0 # start of C\n",
    "\n",
    "    nails = 0\n",
    "    \n",
    "    if max(B)<min(C):\n",
    "        return -1\n",
    "    if min(A)>max(C):\n",
    "        return -1\n",
    "    result = -2\n",
    "    while lower_bound <= upper_bound:\n",
    "        mid = (lower_bound + upper_bound)//2\n",
    "        if sufficient_nails_optimized(A,B,C,mid):\n",
    "            result = mid\n",
    "            upper_bound = mid - 1\n",
    "        else:\n",
    "            lower_bound = mid + 1\n",
    "\n",
    "    return result + 1"
   ]
  }
 ],
 "metadata": {
  "kernelspec": {
   "display_name": "Python 3",
   "language": "python",
   "name": "python3"
  },
  "language_info": {
   "codemirror_mode": {
    "name": "ipython",
    "version": 3
   },
   "file_extension": ".py",
   "mimetype": "text/x-python",
   "name": "python",
   "nbconvert_exporter": "python",
   "pygments_lexer": "ipython3",
   "version": "3.6.5"
  }
 },
 "nbformat": 4,
 "nbformat_minor": 2
}
