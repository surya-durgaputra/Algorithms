{
 "cells": [
  {
   "cell_type": "markdown",
   "metadata": {},
   "source": [
    "https://app.codility.com/programmers/lessons/15-caterpillar_method/count_triangles/"
   ]
  },
  {
   "cell_type": "code",
   "execution_count": null,
   "metadata": {},
   "outputs": [],
   "source": [
    "def solution(A):\n",
    "    A = sorted(A)\n",
    "    triangle_triplets = 0\n",
    "    for p in range(len(A)-2):\n",
    "        r = p + 2\n",
    "        for q in range(p+1, len(A)):\n",
    "            while r < len(A) and A[p] + A[q] > A[r]:\n",
    "                r += 1\n",
    "            if(r>q):\n",
    "                triangle_triplets += r-q-1\n",
    "\n",
    "    return triangle_triplets"
   ]
  }
 ],
 "metadata": {
  "kernelspec": {
   "display_name": "Python 3",
   "language": "python",
   "name": "python3"
  },
  "language_info": {
   "codemirror_mode": {
    "name": "ipython",
    "version": 3
   },
   "file_extension": ".py",
   "mimetype": "text/x-python",
   "name": "python",
   "nbconvert_exporter": "python",
   "pygments_lexer": "ipython3",
   "version": "3.6.5"
  }
 },
 "nbformat": 4,
 "nbformat_minor": 2
}
