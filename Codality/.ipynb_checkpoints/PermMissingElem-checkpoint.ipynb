{
 "cells": [
  {
   "cell_type": "code",
   "execution_count": null,
   "metadata": {},
   "outputs": [],
   "source": [
    "https://app.codility.com/programmers/lessons/3-time_complexity/perm_missing_elem/"
   ]
  },
  {
   "cell_type": "code",
   "execution_count": 1,
   "metadata": {},
   "outputs": [
    {
     "name": "stdout",
     "output_type": "stream",
     "text": [
      "[1, 2, 3, 4, 5]\n"
     ]
    },
    {
     "data": {
      "text/plain": [
       "4"
      ]
     },
     "execution_count": 1,
     "metadata": {},
     "output_type": "execute_result"
    }
   ],
   "source": [
    "# this solution has O(N**2) complexity. So only gets 60% score\n",
    "def Solution(A):\n",
    "    control = [x for x in range(1,len(A)+2)]\n",
    "    print(control)\n",
    "    for index,value in enumerate(control):\n",
    "        if value not in A:\n",
    "            return value\n",
    "        \n",
    "Solution([2,3,1,5])"
   ]
  },
  {
   "cell_type": "code",
   "execution_count": null,
   "metadata": {},
   "outputs": [],
   "source": [
    "# this is 100% score solution\n",
    "# it uses a neat trick. If XOR is run on a series that has all-but-one elements exactly occuring twice, \n",
    "# and one element that appears only once, then you can recover the only-once occuring element like this:\n",
    "# result = 0\n",
    "# result = result ^ 1 ^ 2 ^ 3 ^ 2 ^ 3\n",
    "# result = 1\n",
    "def solution(A):\n",
    "\n",
    "    length = len(A)\n",
    "\n",
    "    result = 0\n",
    "\n",
    "    for index in range(0,length):\n",
    "        result = result ^ (index+1) ^ A[index] \n",
    "    return result^(length+1)"
   ]
  }
 ],
 "metadata": {
  "kernelspec": {
   "display_name": "Python 3",
   "language": "python",
   "name": "python3"
  },
  "language_info": {
   "codemirror_mode": {
    "name": "ipython",
    "version": 3
   },
   "file_extension": ".py",
   "mimetype": "text/x-python",
   "name": "python",
   "nbconvert_exporter": "python",
   "pygments_lexer": "ipython3",
   "version": "3.6.5"
  }
 },
 "nbformat": 4,
 "nbformat_minor": 2
}
