{
 "cells": [
  {
   "cell_type": "markdown",
   "metadata": {},
   "source": [
    "Compute the number of integers divisible by k in range [a, b]."
   ]
  },
  {
   "cell_type": "code",
   "execution_count": 20,
   "metadata": {},
   "outputs": [],
   "source": [
    "#given the contraints, the answer is totally mathematical. If you get the tric, fine.. otherwise no way:\n",
    "def solution(A, B, K):\n",
    "    if A % K == 0:  return (B - A) // K + 1\n",
    "    else:           return (B - (A - A % K )) // K"
   ]
  },
  {
   "cell_type": "markdown",
   "metadata": {},
   "source": [
    "some explanation:\n",
    "\n",
    "Clearly the size of the interval [A,B] determines the answer, however we distinguish the two different cases because whether or not K divides A affects the answer. Take K=10 for example. If A=20 and B=30 then the answer is 2. If A=21 and B=31 then the answer is 1 despite the fact that the difference A-B here is the same. Since K divides A in the first instance the answer is one greater.\n",
    "Now, let a = A%K (i.e. A = a (mod K))\n",
    "so we may write A = a + mK for some integer m\n",
    "here mK is the largest multiple of K that is less than or equal to A\n",
    "and A – A%K = a + mK – a = mK\n",
    "(note if A is a multiple of K then a=0)\n",
    "the number of multiples of K in [A,B] is the same as the number of multiples of K in [mK,B] if a=0 (i.e. K divides M) and one less than this if a>0 (i.e. K doesn’t divide M), because in this case mK is not in the interval [A,B]\n",
    "Now, the number of multiples of K in [mK,B] is equal to the number of multiples of K in the interval [0,B-mK], which is floor((B-mK)/K) +1 (the plus one is there because 0 is a multiple)\n",
    "so the answer is\n",
    "(B-(A-A%K))//K if A%K>0\n",
    "and\n",
    "(B-(A-A%K))//K + 1 = (B-A)//K + 1 if A%K==0"
   ]
  },
  {
   "cell_type": "code",
   "execution_count": null,
   "metadata": {},
   "outputs": [],
   "source": [
    "# will fail space and time constraints but still give correct solution\n",
    "def Solution(A,B,K):\n",
    "    return len([num for num in range(A,B+1) if not num % K])\n",
    "\n",
    "Solution(1,5,2)"
   ]
  }
 ],
 "metadata": {
  "kernelspec": {
   "display_name": "Python 3",
   "language": "python",
   "name": "python3"
  },
  "language_info": {
   "codemirror_mode": {
    "name": "ipython",
    "version": 3
   },
   "file_extension": ".py",
   "mimetype": "text/x-python",
   "name": "python",
   "nbconvert_exporter": "python",
   "pygments_lexer": "ipython3",
   "version": "3.6.5"
  }
 },
 "nbformat": 4,
 "nbformat_minor": 2
}
