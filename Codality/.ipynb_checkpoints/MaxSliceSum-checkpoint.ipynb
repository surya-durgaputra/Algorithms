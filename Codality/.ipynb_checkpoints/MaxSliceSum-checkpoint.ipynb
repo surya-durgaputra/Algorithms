{
 "cells": [
  {
   "cell_type": "markdown",
   "metadata": {},
   "source": [
    "https://app.codility.com/programmers/lessons/9-maximum_slice_problem/max_slice_sum/\n",
    "\n",
    "https://codility.com/media/train/7-MaxSlice.pdf\n",
    "    \n",
    "see here for an amazing explanation:https://www.youtube.com/watch?v=86CQq3pKSUw"
   ]
  },
  {
   "cell_type": "code",
   "execution_count": 3,
   "metadata": {},
   "outputs": [],
   "source": [
    "def solution(A):\n",
    "    #if all elements are -ve, the max element is the max subarray\n",
    "    max_el = max(A)\n",
    "    if(max_el < 0):\n",
    "        return max_el\n",
    "    #if all elements are +ve, max subarray is the whole array\n",
    "    min_el = min(A)\n",
    "    if(min_el > 0):\n",
    "        return A\n",
    "    \n",
    "    # the idea behind kadane algorithm is:\n",
    "    # for each element, consider all the sub arrays ending in that element\n",
    "    # the maximum sub-array is always either the element itself\n",
    "    # or the sum of previous maximum sub-array concatenated with the element\n",
    "    # maintain a global max_sub_array which always returns the \n",
    "    # maximum between all the local maximum subarrays \n",
    "    local_max_subarray = global_max_subarray = A[0]\n",
    "\n",
    "    for index in range(1,len(A)):\n",
    "        local_max_subarray = max(local_max_subarray+A[index],A[index])\n",
    "        global_max_subarray = max(global_max_subarray,local_max_subarray)\n",
    "        \n",
    "    return global_max_subarray\n"
   ]
  },
  {
   "cell_type": "code",
   "execution_count": 4,
   "metadata": {},
   "outputs": [
    {
     "data": {
      "text/plain": [
       "5"
      ]
     },
     "execution_count": 4,
     "metadata": {},
     "output_type": "execute_result"
    }
   ],
   "source": [
    "solution([3,2,-6,4,0])"
   ]
  },
  {
   "cell_type": "code",
   "execution_count": 5,
   "metadata": {},
   "outputs": [],
   "source": [
    "# a slightly modified version of the algorithm\n",
    "# this is more popular though less intuitive than one above\n",
    "def solution_kadane(A):\n",
    "    max_ending = max_slice = 0\n",
    "    \n",
    "    for index in range(0,len(A)):\n",
    "        max_ending = max(0,max_ending+A[index])\n",
    "        max_slice = max(max_slice,max_ending)\n",
    "        \n",
    "    return max_slice"
   ]
  },
  {
   "cell_type": "code",
   "execution_count": 6,
   "metadata": {},
   "outputs": [
    {
     "data": {
      "text/plain": [
       "5"
      ]
     },
     "execution_count": 6,
     "metadata": {},
     "output_type": "execute_result"
    }
   ],
   "source": [
    "solution_kadane([3,2,-6,4,0])"
   ]
  },
  {
   "cell_type": "code",
   "execution_count": 7,
   "metadata": {},
   "outputs": [
    {
     "data": {
      "text/plain": [
       "0"
      ]
     },
     "execution_count": 7,
     "metadata": {},
     "output_type": "execute_result"
    }
   ],
   "source": [
    "solution_kadane([-1,-2,-3])"
   ]
  },
  {
   "cell_type": "code",
   "execution_count": null,
   "metadata": {},
   "outputs": [],
   "source": []
  }
 ],
 "metadata": {
  "kernelspec": {
   "display_name": "Python 3",
   "language": "python",
   "name": "python3"
  },
  "language_info": {
   "codemirror_mode": {
    "name": "ipython",
    "version": 3
   },
   "file_extension": ".py",
   "mimetype": "text/x-python",
   "name": "python",
   "nbconvert_exporter": "python",
   "pygments_lexer": "ipython3",
   "version": "3.6.5"
  }
 },
 "nbformat": 4,
 "nbformat_minor": 2
}
