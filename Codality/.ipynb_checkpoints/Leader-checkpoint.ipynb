{
 "cells": [
  {
   "cell_type": "markdown",
   "metadata": {},
   "source": [
    "https://codility.com/media/train/6-Leader.pdf"
   ]
  },
  {
   "cell_type": "code",
   "execution_count": 1,
   "metadata": {},
   "outputs": [],
   "source": [
    "def leader(A):\n",
    "    stack_size = 0\n",
    "    top_stack_value = 0\n",
    "    for index,value in enumerate(A):\n",
    "        if stack_size ==0:\n",
    "            stack_size += 1\n",
    "            top_stack_value = value\n",
    "        elif value != top_stack_value:\n",
    "            stack_size -= 1\n",
    "        else:\n",
    "            stack_size += 1\n",
    "        \n",
    "    leader = -1\n",
    "    if stack_size > 0:\n",
    "        counter = 0\n",
    "        for index,value in enumerate(A):\n",
    "            if value == top_stack_value:\n",
    "                counter += 1\n",
    "        \n",
    "        if counter > len(A)//2:\n",
    "            leader = top_stack_value\n",
    "    \n",
    "    return leader"
   ]
  },
  {
   "cell_type": "code",
   "execution_count": 2,
   "metadata": {},
   "outputs": [
    {
     "data": {
      "text/plain": [
       "3"
      ]
     },
     "execution_count": 2,
     "metadata": {},
     "output_type": "execute_result"
    }
   ],
   "source": [
    "leader([1,2,2,3,3,3,3,3,5])"
   ]
  },
  {
   "cell_type": "code",
   "execution_count": 3,
   "metadata": {},
   "outputs": [
    {
     "data": {
      "text/plain": [
       "-1"
      ]
     },
     "execution_count": 3,
     "metadata": {},
     "output_type": "execute_result"
    }
   ],
   "source": [
    "leader([1,2])"
   ]
  },
  {
   "cell_type": "code",
   "execution_count": null,
   "metadata": {},
   "outputs": [],
   "source": []
  }
 ],
 "metadata": {
  "kernelspec": {
   "display_name": "Python 3",
   "language": "python",
   "name": "python3"
  },
  "language_info": {
   "codemirror_mode": {
    "name": "ipython",
    "version": 3
   },
   "file_extension": ".py",
   "mimetype": "text/x-python",
   "name": "python",
   "nbconvert_exporter": "python",
   "pygments_lexer": "ipython3",
   "version": "3.6.5"
  }
 },
 "nbformat": 4,
 "nbformat_minor": 2
}
