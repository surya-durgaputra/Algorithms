{
 "cells": [
  {
   "cell_type": "markdown",
   "metadata": {},
   "source": [
    "https://app.codility.com/programmers/lessons/15-caterpillar_method/abs_distinct/"
   ]
  },
  {
   "cell_type": "code",
   "execution_count": 1,
   "metadata": {},
   "outputs": [],
   "source": [
    "def binary_search(A,k):\n",
    "    result = -1\n",
    "\n",
    "    upper_bound = len(A)-1\n",
    "    lower_bound = 0\n",
    "\n",
    "    while lower_bound <= upper_bound:\n",
    "        mid = (lower_bound + upper_bound)//2\n",
    "        if A[mid] <= k:\n",
    "            lower_bound = mid + 1\n",
    "            result = mid\n",
    "        else:\n",
    "            upper_bound = mid - 1\n",
    "\n",
    "    return result\n",
    "\n",
    "def solution(A):\n",
    "    max_neg_index = binary_search(A,-1)\n",
    "    if max_neg_index > 0 and max_neg_index < len(A)-1:\n",
    "        for index in range(max_neg_index+1):\n",
    "            A[index] = -A[index]\n",
    "    distinct_A = set(A)\n",
    "    return len(distinct_A)"
   ]
  },
  {
   "cell_type": "code",
   "execution_count": null,
   "metadata": {},
   "outputs": [],
   "source": []
  }
 ],
 "metadata": {
  "kernelspec": {
   "display_name": "Python 3",
   "language": "python",
   "name": "python3"
  },
  "language_info": {
   "codemirror_mode": {
    "name": "ipython",
    "version": 3
   },
   "file_extension": ".py",
   "mimetype": "text/x-python",
   "name": "python",
   "nbconvert_exporter": "python",
   "pygments_lexer": "ipython3",
   "version": "3.6.5"
  }
 },
 "nbformat": 4,
 "nbformat_minor": 2
}
