{
 "cells": [
  {
   "cell_type": "markdown",
   "metadata": {},
   "source": [
    "https://app.codility.com/programmers/lessons/11-sieve_of_eratosthenes/count_semiprimes/"
   ]
  },
  {
   "cell_type": "code",
   "execution_count": 1,
   "metadata": {},
   "outputs": [],
   "source": [
    "def solution(N,P,Q):\n",
    "    primes_mask = [True]*(N+1)\n",
    "    primes_mask[0]=primes_mask[1]=False\n",
    "    #mark all primes\n",
    "    divisor = 2\n",
    "    while divisor*divisor <= N:\n",
    "        factor = divisor*divisor\n",
    "        while factor<=N:\n",
    "            if primes_mask[factor]:\n",
    "                primes_mask[factor] = False\n",
    "            \n",
    "            factor += divisor\n",
    "        divisor += 1\n",
    "    #mark all semi primes\n",
    "    semi_primes = [0]*(N+1)\n",
    "    divisor = 2\n",
    "    while divisor*divisor <= N:\n",
    "        if primes_mask[divisor]:\n",
    "            for j in range(divisor*divisor,N+1,divisor):\n",
    "                if j%divisor == 0 and primes_mask[j//divisor]:\n",
    "                    semi_primes[j] = 1\n",
    "        divisor += 1\n",
    "    result = [0]*len(P)\n",
    "    for index,p in enumerate(P):\n",
    "        result[index] = sum(semi_primes[p:Q[index]+1])\n",
    "    return result"
   ]
  },
  {
   "cell_type": "code",
   "execution_count": 2,
   "metadata": {},
   "outputs": [
    {
     "data": {
      "text/plain": [
       "[10, 4, 0]"
      ]
     },
     "execution_count": 2,
     "metadata": {},
     "output_type": "execute_result"
    }
   ],
   "source": [
    "solution(26,[1,4,16],[26,10,20])"
   ]
  },
  {
   "cell_type": "code",
   "execution_count": null,
   "metadata": {},
   "outputs": [],
   "source": []
  }
 ],
 "metadata": {
  "kernelspec": {
   "display_name": "Python 3",
   "language": "python",
   "name": "python3"
  },
  "language_info": {
   "codemirror_mode": {
    "name": "ipython",
    "version": 3
   },
   "file_extension": ".py",
   "mimetype": "text/x-python",
   "name": "python",
   "nbconvert_exporter": "python",
   "pygments_lexer": "ipython3",
   "version": "3.6.5"
  }
 },
 "nbformat": 4,
 "nbformat_minor": 2
}
