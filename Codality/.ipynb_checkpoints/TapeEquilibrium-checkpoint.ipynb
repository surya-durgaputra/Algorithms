{
 "cells": [
  {
   "cell_type": "markdown",
   "metadata": {},
   "source": [
    "#### A non-empty zero-indexed array A consisting of N integers is given. Array A represents numbers on a tape. Any integer P, such that $0 < P < N$, splits this tape into two non−empty parts:\n",
    "- $A[0], A[1], ..., A[P − 1]$ and $A[P], A[P + 1], ..., A[N − 1]$\n",
    "#### The difference between the two parts is the value of:\n",
    "- $|(A[0] + A[1] + ... + A[P − 1]) − (A[P] + A[P + 1] + ... + A[N − 1])|$\n",
    "#### In other words, it is the absolute difference between the sum of the first part and the sum of the second part.For example, consider array A such that:"
   ]
  },
  {
   "cell_type": "markdown",
   "metadata": {},
   "source": [
    "A[0] = 3\n",
    "\n",
    "A[1] = 1\n",
    "\n",
    "A[2] = 2\n",
    "\n",
    "A[3] = 4\n",
    "\n",
    "A[4] = 3"
   ]
  },
  {
   "cell_type": "markdown",
   "metadata": {},
   "source": [
    "#### We can split this tape in four places:"
   ]
  },
  {
   "cell_type": "markdown",
   "metadata": {},
   "source": [
    "P = 1, difference = |3 − 10| = 7 \n",
    "\n",
    "P = 2, difference = |4 − 9| = 5 \n",
    "\n",
    "P = 3, difference = |6 − 7| = 1 \n",
    "\n",
    "P = 4, difference = |10 − 3| = 7"
   ]
  },
  {
   "cell_type": "markdown",
   "metadata": {},
   "source": [
    "#### Write a function: $int$ $solution(int A[], int N);$ that, given a non-empty zero-indexed array A of N integers, returns the minimal difference that can be achieved."
   ]
  },
  {
   "cell_type": "code",
   "execution_count": 23,
   "metadata": {},
   "outputs": [],
   "source": [
    "def aggregator(data):\n",
    "    sum = 0\n",
    "    for index in range(0,len(data)):\n",
    "        sum += data[index]\n",
    "    \n",
    "    return sum\n",
    "\n",
    "def solution(A,N):\n",
    "    if N == 1:\n",
    "        return A[0]\n",
    "    differences = [0]*(N-1)\n",
    "    for index in range(1,N):\n",
    "        difference = abs(aggregator(A[:index]) - aggregator(A[index:]))\n",
    "        differences[index-1] = difference\n",
    "        \n",
    "    return sorted(differences)[0]"
   ]
  },
  {
   "cell_type": "code",
   "execution_count": 24,
   "metadata": {},
   "outputs": [
    {
     "data": {
      "text/plain": [
       "2"
      ]
     },
     "execution_count": 24,
     "metadata": {},
     "output_type": "execute_result"
    }
   ],
   "source": [
    "solution([5,2,3,6],4)"
   ]
  },
  {
   "cell_type": "code",
   "execution_count": null,
   "metadata": {},
   "outputs": [],
   "source": []
  }
 ],
 "metadata": {
  "kernelspec": {
   "display_name": "Python 3",
   "language": "python",
   "name": "python3"
  },
  "language_info": {
   "codemirror_mode": {
    "name": "ipython",
    "version": 3
   },
   "file_extension": ".py",
   "mimetype": "text/x-python",
   "name": "python",
   "nbconvert_exporter": "python",
   "pygments_lexer": "ipython3",
   "version": "3.6.5"
  }
 },
 "nbformat": 4,
 "nbformat_minor": 2
}
