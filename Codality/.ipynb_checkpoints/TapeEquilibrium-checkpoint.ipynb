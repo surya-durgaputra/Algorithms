{
 "cells": [
  {
   "cell_type": "markdown",
   "metadata": {},
   "source": [
    "#### A non-empty zero-indexed array A consisting of N integers is given. Array A represents numbers on a tape. Any integer P, such that $0 < P < N$, splits this tape into two non−empty parts:\n",
    "- $A[0], A[1], ..., A[P − 1]$ and $A[P], A[P + 1], ..., A[N − 1]$\n",
    "#### The difference between the two parts is the value of:\n",
    "- $|(A[0] + A[1] + ... + A[P − 1]) − (A[P] + A[P + 1] + ... + A[N − 1])|$\n",
    "#### In other words, it is the absolute difference between the sum of the first part and the sum of the second part.For example, consider array A such that:"
   ]
  },
  {
   "cell_type": "markdown",
   "metadata": {},
   "source": [
    "A[0] = 3\n",
    "\n",
    "A[1] = 1\n",
    "\n",
    "A[2] = 2\n",
    "\n",
    "A[3] = 4\n",
    "\n",
    "A[4] = 3"
   ]
  },
  {
   "cell_type": "markdown",
   "metadata": {},
   "source": [
    "#### We can split this tape in four places:"
   ]
  },
  {
   "cell_type": "markdown",
   "metadata": {},
   "source": [
    "P = 1, difference = |3 − 10| = 7 \n",
    "\n",
    "P = 2, difference = |4 − 9| = 5 \n",
    "\n",
    "P = 3, difference = |6 − 7| = 1 \n",
    "\n",
    "P = 4, difference = |10 − 3| = 7"
   ]
  },
  {
   "cell_type": "markdown",
   "metadata": {},
   "source": [
    "#### Write a function: $int$ $solution(int A[], int N);$ that, given a non-empty zero-indexed array A of N integers, returns the minimal difference that can be achieved."
   ]
  },
  {
   "cell_type": "code",
   "execution_count": 6,
   "metadata": {},
   "outputs": [],
   "source": [
    "#this solution is correct but not optimal\n",
    "# sum() is O(n) operation. Hence inside a for loop, it becomes O(n*n) operation\n",
    "def solution1(A):\n",
    "    import sys\n",
    "    length = len(A)\n",
    "\n",
    "    min_diff = sys.maxsize\n",
    "    for index in range(1,length):\n",
    "        left_sum = sum(A[:index])\n",
    "        right_sum = sum(A[index:])\n",
    "        difference = abs(left_sum - right_sum)\n",
    "        min_diff = min(min_diff,difference)\n",
    "\n",
    "    return min_diff"
   ]
  },
  {
   "cell_type": "code",
   "execution_count": 7,
   "metadata": {},
   "outputs": [
    {
     "data": {
      "text/plain": [
       "2"
      ]
     },
     "execution_count": 7,
     "metadata": {},
     "output_type": "execute_result"
    }
   ],
   "source": [
    "solution([5,2,3,6],4)"
   ]
  },
  {
   "cell_type": "code",
   "execution_count": null,
   "metadata": {},
   "outputs": [],
   "source": [
    "# this is the most efficient solution\n",
    "\n",
    "def solution(A):\n",
    "\n",
    "    head = sum(A[:1])\n",
    "    tail = sum(A[1:])\n",
    "    min_diff = abs(head-tail)\n",
    "    for index in range(1,len(A)-1):\n",
    "        head += A[index]\n",
    "        tail -= A[index]\n",
    "        difference = abs(head-tail)\n",
    "        min_diff = min(min_diff,difference)\n",
    "\n",
    "    return min_diff"
   ]
  }
 ],
 "metadata": {
  "kernelspec": {
   "display_name": "Python 3",
   "language": "python",
   "name": "python3"
  },
  "language_info": {
   "codemirror_mode": {
    "name": "ipython",
    "version": 3
   },
   "file_extension": ".py",
   "mimetype": "text/x-python",
   "name": "python",
   "nbconvert_exporter": "python",
   "pygments_lexer": "ipython3",
   "version": "3.6.5"
  }
 },
 "nbformat": 4,
 "nbformat_minor": 2
}
