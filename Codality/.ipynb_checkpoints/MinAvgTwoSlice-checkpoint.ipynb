{
 "cells": [
  {
   "cell_type": "markdown",
   "metadata": {},
   "source": [
    "https://app.codility.com/programmers/lessons/5-prefix_sums/min_avg_two_slice/"
   ]
  },
  {
   "cell_type": "markdown",
   "metadata": {},
   "source": [
    "see discussion here: https://codesays.com/2014/solution-to-min-avg-two-slice-by-codility/\n",
    "(note that this particular task has nothing to do with prefix-sums. Don't know why its there in this section)\n",
    "concept:\n",
    "\n",
    "The key to solve this task is these two patterns:  \n",
    "\n",
    "(1) There must be some slices, with length of two or three, having the minimal average value among all the slices.\n",
    "(2) And all the longer slices with minimal average are built up with these 2-element and/or 3-element small slices.\n",
    "\n",
    "Firstly we will prove the statement (1). In all the following discussion, we assume the slices have two or more element. In every array, there must be at lease one slice, to say S, having the Minimal Average (MA). And PLEASE PAY ATTENTION, the following proof is done with the S, which HAS the global minimal average.\n",
    "\n",
    "If the length of S is two or three, it follows our conclusion.\n",
    "If the length of S is odd, we could divide it into a 3-element sub-slice and some 2-element sub-slice. For example, for the slice [1, 2, 3, 4, 5], we could get a 3-element sub-slice [1, 2, 3] and a 2-element sub-slice [4, 5]. Or differently we could get [1, 2] and [3, 4, 5]. But the split does not matter in the following prove.\n",
    "If the sub-slices have different averages, some of them will have smaller average than MA. But it conflicts with the condition that, the MA is known as the global minimal average for all slices.  By this contradictory, it’s proved that all the sub-slices MUST have the same average.\n",
    "If all the sub-slices have the same average, the average of them must be MA. So all these sub-slices have overall minimal average and length of two or three.\n",
    "If the length of S is even, we could divide it into some 2-element sub-slice. For the slice [1, 2, 3, 4], the only possible split is [1, 2] and [3, 4]. Then, similar with the previous case, all these 2-element sub-slices have the global minimal average.\n",
    "And in the construction in step b, we have already proven the statement (2).\n",
    "\n",
    "UPDATE 03-13-2014: We are NOT proving that, 4-or-more-element slices cannot have the global minimal average. We just proved that, there MUST be some 2-element and/or 3-element slices, having the global minimal average. In other words, we are NOT SURE whether there are some 4-or-more-element slices holding global minimal average. But we are ONE HUNDRED PERCENT SURE about the 2-element and/or 3-element slices."
   ]
  },
  {
   "cell_type": "code",
   "execution_count": 37,
   "metadata": {},
   "outputs": [],
   "source": [
    "def solution(A):\n",
    "    min_avg_slice = (A[0]+A[1])/2.0\n",
    "    pos = 0\n",
    "    for index in range(0,len(A)-2):\n",
    "        if (A[index]+A[index+1])/2.0 < min_avg_slice:\n",
    "            min_avg_slice = (A[index]+A[index+1])/2.0\n",
    "            pos = index\n",
    "        if (A[index]+A[index+1]+A[index+2])/3.0 < min_avg_slice:\n",
    "            min_avg_slice = (A[index]+A[index+1]+A[index+2])/3.0\n",
    "            pos = index\n",
    "    if (A[-1]+A[-2])/2.0 < min_avg_slice:\n",
    "        pos = len(A)-2\n",
    "\n",
    "    return pos"
   ]
  },
  {
   "cell_type": "code",
   "execution_count": 38,
   "metadata": {},
   "outputs": [
    {
     "name": "stdout",
     "output_type": "stream",
     "text": [
      "[0, 4, 6, 8, 13, 14, 19, 27]\n",
      "[(4, 0, 0), (3.0, 0, 1), (2.6666666666666665, 0, 2), (3.25, 0, 3), (2.8, 0, 4), (3.1666666666666665, 0, 5), (3.857142857142857, 0, 6), (6, 1, 1), (2.0, 1, 2), (3.0, 1, 3), (2.5, 1, 4), (3.0, 1, 5), (3.8333333333333335, 1, 6), (8, 2, 2), (3.5, 2, 3), (2.6666666666666665, 2, 4), (3.25, 2, 5), (4.2, 2, 6), (13, 3, 3), (3.0, 3, 4), (3.6666666666666665, 3, 5), (4.75, 3, 6), (14, 4, 4), (3.0, 4, 5), (4.666666666666667, 4, 6), (19, 5, 5), (6.5, 5, 6), (27, 6, 6)]\n"
     ]
    },
    {
     "data": {
      "text/plain": [
       "1"
      ]
     },
     "execution_count": 38,
     "metadata": {},
     "output_type": "execute_result"
    }
   ],
   "source": [
    "solution([4,2,2,5,1,5,8])"
   ]
  },
  {
   "cell_type": "code",
   "execution_count": null,
   "metadata": {},
   "outputs": [],
   "source": []
  }
 ],
 "metadata": {
  "kernelspec": {
   "display_name": "Python 3",
   "language": "python",
   "name": "python3"
  },
  "language_info": {
   "codemirror_mode": {
    "name": "ipython",
    "version": 3
   },
   "file_extension": ".py",
   "mimetype": "text/x-python",
   "name": "python",
   "nbconvert_exporter": "python",
   "pygments_lexer": "ipython3",
   "version": "3.6.5"
  }
 },
 "nbformat": 4,
 "nbformat_minor": 2
}
