{
 "cells": [
  {
   "cell_type": "markdown",
   "metadata": {},
   "source": [
    "A string S is considered to be properly nested if any of the following is true:\n",
    "* S is empty;\n",
    "* S has the form (U) or [U] or {U} where U is a properly nested string;\n",
    "* S has the form VW where V and W are properly nested strings.\n",
    "Write a function that returns 1 if S is properly nested and 0 otherwise."
   ]
  },
  {
   "cell_type": "code",
   "execution_count": 1,
   "metadata": {},
   "outputs": [],
   "source": [
    "def solution(S):\n",
    "    if len(S)%2:\n",
    "        return 0\n",
    "    brackets = {\"{\":\"}\",\"[\":\"]\",\"(\":\")\"}\n",
    "    open_brackets = [\"{\",\"[\",\"(\"]\n",
    "    closed_brackets = [\"}\",\"]\",\")\"]\n",
    "    from collections import deque\n",
    "    stack = deque()\n",
    "    for index,char in enumerate(S):\n",
    "        if char in open_brackets:\n",
    "            stack.append(char)\n",
    "            continue\n",
    "        \n",
    "        if char in closed_brackets:\n",
    "            if (len(stack)) == 0:\n",
    "                return 0\n",
    "            popped = stack.pop()\n",
    "            if brackets[popped] == char:\n",
    "                continue\n",
    "            else:\n",
    "                return 0\n",
    "    if len(stack) > 0:\n",
    "        return 0\n",
    "\n",
    "    return 1"
   ]
  },
  {
   "cell_type": "code",
   "execution_count": 2,
   "metadata": {},
   "outputs": [
    {
     "name": "stdout",
     "output_type": "stream",
     "text": [
      "1\n",
      "0\n",
      "0\n"
     ]
    }
   ],
   "source": [
    "print(solution(\"{[()()]}\"))\n",
    "print(solution(\"([)()]\"))\n",
    "print(solution(\"()()][\"))\n"
   ]
  },
  {
   "cell_type": "code",
   "execution_count": null,
   "metadata": {},
   "outputs": [],
   "source": []
  }
 ],
 "metadata": {
  "kernelspec": {
   "display_name": "Python 3",
   "language": "python",
   "name": "python3"
  },
  "language_info": {
   "codemirror_mode": {
    "name": "ipython",
    "version": 3
   },
   "file_extension": ".py",
   "mimetype": "text/x-python",
   "name": "python",
   "nbconvert_exporter": "python",
   "pygments_lexer": "ipython3",
   "version": "3.6.5"
  }
 },
 "nbformat": 4,
 "nbformat_minor": 2
}
