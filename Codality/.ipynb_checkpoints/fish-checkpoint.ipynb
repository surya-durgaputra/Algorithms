{
 "cells": [
  {
   "cell_type": "markdown",
   "metadata": {},
   "source": [
    "You are given two non-empty arrays A and B consisting of N integers.\n",
    "They represent N fish in a river, ordered downstream along the flow of the river.\n",
    "The fish are numbered from 0 to N-1. If P and Q are two fish and P < Q,\n",
    "then fish P is initially upstream of fish Q.\n",
    "Array A contains sizes of the fish, array `B` contains their directions, where:\n",
    "- 0 represents a fish flowing upstream,\n",
    "- 1 represents a fish flowing downstream.\n",
    "Two fish P and Q meet each other when P < Q, B[P] = 1 and B[Q] = 0,\n",
    "and there are no living fish between them. After they meet:\n",
    "- If A[P] > A[Q] then P eats Q, and P will still be flowing downstream,\n",
    "- If A[Q] > A[P] then Q eats P, and Q will still be flowing upstream.\n",
    "We assume that fish moving in the same direction never meet.\n",
    "Find the number of fish that will stay alive."
   ]
  },
  {
   "cell_type": "code",
   "execution_count": null,
   "metadata": {},
   "outputs": [],
   "source": []
  }
 ],
 "metadata": {
  "kernelspec": {
   "display_name": "Python 3",
   "language": "python",
   "name": "python3"
  },
  "language_info": {
   "codemirror_mode": {
    "name": "ipython",
    "version": 3
   },
   "file_extension": ".py",
   "mimetype": "text/x-python",
   "name": "python",
   "nbconvert_exporter": "python",
   "pygments_lexer": "ipython3",
   "version": "3.6.5"
  }
 },
 "nbformat": 4,
 "nbformat_minor": 2
}
