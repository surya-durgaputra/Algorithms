{
 "cells": [
  {
   "cell_type": "code",
   "execution_count": null,
   "metadata": {},
   "outputs": [],
   "source": [
    "https://app.codility.com/programmers/lessons/10-prime_and_composite_numbers/flags/"
   ]
  },
  {
   "cell_type": "code",
   "execution_count": 55,
   "metadata": {},
   "outputs": [],
   "source": [
    "# NOTE: Not a fully correct solution. It fails some codility tests.\n",
    "\n",
    "def find_peak_indices(A):\n",
    "    return [index for index in range(1,len(A)-1) if A[index]>max(A[index-1],A[index+1])]\n",
    "    \n",
    "def solution(A):\n",
    "    # write your code in Python 3.6\n",
    "    import math\n",
    "    peaks = find_peak_indices(A)\n",
    "    n = len(A)\n",
    "    if len(peaks) < 1:\n",
    "        return 0\n",
    "    max_flags = int(math.sqrt(n))+1 #perform bisections. max flags are the max number of bisections\n",
    "    \n",
    "    for flags in range(max_flags,1,-1):\n",
    "        total_distance = flags*(flags-1)#distance covered by K flags K distance apart is (K-1)*K\n",
    "        if (peaks[-1] - peaks[0]) >= total_distance:\n",
    "            return flags\n",
    "    \n",
    "    return 1"
   ]
  },
  {
   "cell_type": "code",
   "execution_count": 56,
   "metadata": {},
   "outputs": [
    {
     "name": "stdout",
     "output_type": "stream",
     "text": [
      "diff:9 td:12\n",
      "diff:9 td:6\n"
     ]
    },
    {
     "data": {
      "text/plain": [
       "3"
      ]
     },
     "execution_count": 56,
     "metadata": {},
     "output_type": "execute_result"
    }
   ],
   "source": [
    "solution([1,5,3,4,3,4,1,2,3,4,6,2])"
   ]
  },
  {
   "cell_type": "code",
   "execution_count": 57,
   "metadata": {},
   "outputs": [
    {
     "name": "stdout",
     "output_type": "stream",
     "text": [
      "diff:0 td:2\n"
     ]
    },
    {
     "data": {
      "text/plain": [
       "1"
      ]
     },
     "execution_count": 57,
     "metadata": {},
     "output_type": "execute_result"
    }
   ],
   "source": [
    "solution([1,3,2])"
   ]
  },
  {
   "cell_type": "code",
   "execution_count": 58,
   "metadata": {},
   "outputs": [
    {
     "name": "stdout",
     "output_type": "stream",
     "text": [
      "diff:2 td:6\n",
      "diff:2 td:2\n"
     ]
    },
    {
     "data": {
      "text/plain": [
       "2"
      ]
     },
     "execution_count": 58,
     "metadata": {},
     "output_type": "execute_result"
    }
   ],
   "source": [
    "solution([1,5,3,4,3])"
   ]
  },
  {
   "cell_type": "code",
   "execution_count": null,
   "metadata": {},
   "outputs": [],
   "source": []
  }
 ],
 "metadata": {
  "kernelspec": {
   "display_name": "Python 3",
   "language": "python",
   "name": "python3"
  },
  "language_info": {
   "codemirror_mode": {
    "name": "ipython",
    "version": 3
   },
   "file_extension": ".py",
   "mimetype": "text/x-python",
   "name": "python",
   "nbconvert_exporter": "python",
   "pygments_lexer": "ipython3",
   "version": "3.6.5"
  }
 },
 "nbformat": 4,
 "nbformat_minor": 2
}
