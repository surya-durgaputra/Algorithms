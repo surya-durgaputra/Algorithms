{
 "cells": [
  {
   "cell_type": "markdown",
   "metadata": {},
   "source": [
    "https://app.codility.com/programmers/lessons/13-fibonacci_numbers/fib_frog/\n",
    "\n",
    "To solve this question, we are using the Breadth First Search with pruning."
   ]
  },
  {
   "cell_type": "code",
   "execution_count": 1,
   "metadata": {},
   "outputs": [],
   "source": [
    "def fibonacci(n):\n",
    "    '''Generate and return all fibonacci numbers less than or equal to n in descending order\n",
    "    n must be greater than or equal to one'''\n",
    "    fib = [0]*(n+2) # because fibonacci sequence really starts from F(2). F(0) and F(1) are base conditions.\n",
    "    #also since fibonacci sequence only requires approx log(n) steps, n+2 is the upper bound for size of fibonacci array\n",
    "    fib[1] = 1\n",
    "\n",
    "    for num in range(2,n+2):\n",
    "        fib[num] = fib[num-1] + fib[num-2]\n",
    "        if fib[num] > n:\n",
    "            return fib[num-1:1:-1]\n",
    "        if fib[num] == n:\n",
    "            return fib[num:1:-1]\n",
    "\n",
    "def solution(A):\n",
    "    # Object to store the status of attempts\n",
    "    class Status:\n",
    "        __slots__ = ('position','moves')#for faster attribute access \n",
    "        def __init__(self,position, moves):\n",
    "            self.moves = moves\n",
    "            self.position = position\n",
    "    \n",
    "    lenA = len(A)\n",
    "    fib = fibonacci(lenA+1)\n",
    "    statusQueue = [Status(-1,0)]# Initially we are at position -1 with 0 move.\n",
    "    nextTry = 0 # We are not going to delete the tried attemp. So we need a pointer to the next attemp.\n",
    "    visited = [False]*lenA # Were we in this position before?\n",
    "\n",
    "    while True:\n",
    "        if nextTry == len(statusQueue):\n",
    "            # There is no unprocessed attemp. And we did not\n",
    "            # find any path yet. So no path exists.\n",
    "            return -1\n",
    "        # Obtain the next attemp's status\n",
    "        currentStatus = statusQueue[nextTry]\n",
    "        nextTry += 1\n",
    "        currentPosition = currentStatus.position\n",
    "        currentMoves = currentStatus.moves\n",
    "        # Based upon the current attemp, we are trying any\n",
    "        # possible move.\n",
    "        for length in fib:\n",
    "            if currentPosition + length == lenA:\n",
    "                # Ohhh~ We are at the goal position!\n",
    "                return currentMoves + 1\n",
    "            if (currentPosition + length > lenA) \\\n",
    "                or (A[currentPosition + length] == 0) \\\n",
    "                or visited[currentPosition + length]:\n",
    "                # Three conditions are moving too far, no\n",
    "                # leaf available for moving, and being here\n",
    "                # before respectively.\n",
    "                # PAY ATTENTION: we are using Breadth First\n",
    "                # Search. If we were here before, the previous\n",
    "                # attemp must achieved here with less or same\n",
    "                # number of moves. With completely same future\n",
    "                # path, current attemp will never have less\n",
    "                # moves to goal than previous attemp. So it\n",
    "                # could be pruned.\n",
    "                    continue\n",
    "            # Enqueue for later attemp.\n",
    "            statusQueue.append(Status(currentPosition + length,currentMoves + 1))\n",
    "            visited[currentPosition + length] = True"
   ]
  },
  {
   "cell_type": "code",
   "execution_count": 2,
   "metadata": {},
   "outputs": [
    {
     "data": {
      "text/plain": [
       "3"
      ]
     },
     "execution_count": 2,
     "metadata": {},
     "output_type": "execute_result"
    }
   ],
   "source": [
    "solution([0,0,0,1,1,0,1,0,0,0,0])"
   ]
  },
  {
   "cell_type": "code",
   "execution_count": 1,
   "metadata": {},
   "outputs": [
    {
     "name": "stdout",
     "output_type": "stream",
     "text": [
      "3\n",
      "1\n"
     ]
    }
   ],
   "source": [
    "def fib(n):\n",
    "    f = [0]*(n+2)\n",
    "    f[0] = 0\n",
    "    f[1] = 1\n",
    "\n",
    "    for i in range(2,n+2):\n",
    "        \n",
    "        f[i] = f[i-2] + f[i-1]\n",
    "        if f[i]>n:\n",
    "            return f[i-1:1:-1]\n",
    "        elif f[i]==n:\n",
    "            return f[i:1:-1]\n",
    "\n",
    "class Status:\n",
    "    def __init__(self, pos, moves):\n",
    "        self.position = pos\n",
    "        self.moves = moves\n",
    "        return\n",
    "\n",
    "def solution(A):\n",
    "    from collections import deque\n",
    "    n = len(A)\n",
    "    fibs = fib(n+1)\n",
    "    \n",
    "    if n==0:\n",
    "        return 1\n",
    "    \n",
    "    \n",
    "    status_queue = deque([Status(-1,0)])\n",
    "    accessed = [False]*(n)\n",
    "    while True:\n",
    "        if not status_queue:\n",
    "            return -1\n",
    "        currentStatus = status_queue.popleft()\n",
    "\n",
    "        \n",
    "        currentPos = currentStatus.position\n",
    "        currentMov = currentStatus.moves\n",
    "\n",
    "        for length in fibs:\n",
    "            if currentPos+length == n:\n",
    "                return currentMov+1\n",
    "            if currentPos+length > n or A[currentPos+length]==0 or accessed[currentPos+length]:\n",
    "                continue\n",
    "\n",
    "            status_queue.append(Status(currentPos+length,currentMov+1))\n",
    "            accessed[currentPos+length] = True\n",
    "            \n",
    "\n",
    "\n",
    "print(solution([0,0,0,1,1,0,1,0,0,0,0]))\n",
    "#print(solution([1,0,0,1,1,0,1,1,0,0,0]))\n",
    "print(solution([0]))"
   ]
  },
  {
   "cell_type": "code",
   "execution_count": null,
   "metadata": {},
   "outputs": [],
   "source": []
  }
 ],
 "metadata": {
  "kernelspec": {
   "display_name": "Python 3",
   "language": "python",
   "name": "python3"
  },
  "language_info": {
   "codemirror_mode": {
    "name": "ipython",
    "version": 3
   },
   "file_extension": ".py",
   "mimetype": "text/x-python",
   "name": "python",
   "nbconvert_exporter": "python",
   "pygments_lexer": "ipython3",
   "version": "3.6.5"
  }
 },
 "nbformat": 4,
 "nbformat_minor": 2
}
