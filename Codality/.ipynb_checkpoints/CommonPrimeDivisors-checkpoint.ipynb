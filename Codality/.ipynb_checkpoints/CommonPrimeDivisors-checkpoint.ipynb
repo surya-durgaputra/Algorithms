{
 "cells": [
  {
   "cell_type": "markdown",
   "metadata": {},
   "source": [
    "https://app.codility.com/programmers/lessons/12-euclidean_algorithm/common_prime_divisors/"
   ]
  },
  {
   "cell_type": "code",
   "execution_count": 1,
   "metadata": {},
   "outputs": [],
   "source": [
    "def gcd(x,y):\n",
    "    if x%y == 0:\n",
    "        return y\n",
    "    return gcd(y,x%y)\n",
    "\n",
    "def remove_common_divisors(x,y):\n",
    "    '''Remove all the gcd divisors in x'''\n",
    "    while x != 1:\n",
    "       gcd_value = gcd(x,y)\n",
    "       if gcd_value==1:\n",
    "           break\n",
    "       x = x // gcd_value\n",
    "\n",
    "    return x\n",
    "\n",
    "def has_identical_prime_divisors(x,y):\n",
    "    gcd_value = gcd(x,y)\n",
    "\n",
    "    x = remove_common_divisors(x,gcd_value)\n",
    "    if x != 1:\n",
    "        return False\n",
    "    y = remove_common_divisors(y,gcd_value)\n",
    "\n",
    "    return y == 1\n",
    "    \n",
    "def solution(A,B):\n",
    "    result = 0\n",
    "    for x,y in zip(A,B):\n",
    "        if has_identical_prime_divisors(x,y):\n",
    "            result += 1\n",
    "    return result"
   ]
  },
  {
   "cell_type": "code",
   "execution_count": 2,
   "metadata": {},
   "outputs": [
    {
     "data": {
      "text/plain": [
       "2"
      ]
     },
     "execution_count": 2,
     "metadata": {},
     "output_type": "execute_result"
    }
   ],
   "source": [
    "solution([5,10,1],[5,30,1])"
   ]
  },
  {
   "cell_type": "code",
   "execution_count": null,
   "metadata": {},
   "outputs": [],
   "source": []
  }
 ],
 "metadata": {
  "kernelspec": {
   "display_name": "Python 3",
   "language": "python",
   "name": "python3"
  },
  "language_info": {
   "codemirror_mode": {
    "name": "ipython",
    "version": 3
   },
   "file_extension": ".py",
   "mimetype": "text/x-python",
   "name": "python",
   "nbconvert_exporter": "python",
   "pygments_lexer": "ipython3",
   "version": "3.6.5"
  }
 },
 "nbformat": 4,
 "nbformat_minor": 2
}
