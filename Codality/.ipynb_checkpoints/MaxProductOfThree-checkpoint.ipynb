{
 "cells": [
  {
   "cell_type": "code",
   "execution_count": 1,
   "metadata": {},
   "outputs": [],
   "source": [
    "def solution(A):\n",
    "    A.sort()\n",
    "\n",
    "    if A[0]<=-1 and A[1]<=-1:\n",
    "        return max(A[0]*A[1]*A[-1], A[-1]*A[-2]*A[-3])\n",
    "\n",
    "    \n",
    "    return A[-1]*A[-2]*A[-3]"
   ]
  },
  {
   "cell_type": "code",
   "execution_count": 2,
   "metadata": {},
   "outputs": [
    {
     "name": "stdout",
     "output_type": "stream",
     "text": [
      "200\n",
      "200\n",
      "160\n",
      "40\n"
     ]
    }
   ],
   "source": [
    "print(solution([4,2,2,5,1,5,8]))\n",
    "print(solution([4,2,2,-5,1,-5,8]))\n",
    "print(solution([4,2,2,5,1,-5,8]))\n",
    "print(solution([-4,-2,-2,5]))"
   ]
  },
  {
   "cell_type": "code",
   "execution_count": null,
   "metadata": {},
   "outputs": [],
   "source": []
  }
 ],
 "metadata": {
  "kernelspec": {
   "display_name": "Python 3",
   "language": "python",
   "name": "python3"
  },
  "language_info": {
   "codemirror_mode": {
    "name": "ipython",
    "version": 3
   },
   "file_extension": ".py",
   "mimetype": "text/x-python",
   "name": "python",
   "nbconvert_exporter": "python",
   "pygments_lexer": "ipython3",
   "version": "3.6.5"
  }
 },
 "nbformat": 4,
 "nbformat_minor": 2
}
