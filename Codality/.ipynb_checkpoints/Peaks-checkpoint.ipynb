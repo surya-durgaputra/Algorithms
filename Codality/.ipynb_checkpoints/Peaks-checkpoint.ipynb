{
 "cells": [
  {
   "cell_type": "markdown",
   "metadata": {},
   "source": [
    "https://app.codility.com/programmers/lessons/10-prime_and_composite_numbers/peaks/"
   ]
  },
  {
   "cell_type": "code",
   "execution_count": 1,
   "metadata": {},
   "outputs": [],
   "source": [
    "def solution(A):\n",
    "    n = len(A)\n",
    "    \n",
    "    if n < 3:\n",
    "        return 0\n",
    "    \n",
    "    peaks = [index for index in range(1,n-1) if A[index]>A[index-1] and A[index]>A[index+1]]\n",
    "    #print(peaks)\n",
    "    if len(peaks)==0:\n",
    "        return 0\n",
    "    \n",
    "    for size in range(1,n-1):\n",
    "        if n % size:\n",
    "            continue\n",
    "        found_peaks = 0\n",
    "        success = True\n",
    "        groups = 0\n",
    "        for index in peaks:\n",
    "            if index//size > found_peaks:\n",
    "                success = False\n",
    "                break;\n",
    "            if index//size == found_peaks:\n",
    "                found_peaks += 1\n",
    "        #print('success:{} size:{}'.format(success,size)) \n",
    "        blocks = n//size\n",
    "        if blocks != found_peaks:\n",
    "            success = False\n",
    "        if success:\n",
    "            return blocks\n",
    "        \n",
    "    \n",
    "\n",
    "        "
   ]
  },
  {
   "cell_type": "code",
   "execution_count": 2,
   "metadata": {},
   "outputs": [
    {
     "name": "stdout",
     "output_type": "stream",
     "text": [
      "[3, 5, 10]\n"
     ]
    },
    {
     "data": {
      "text/plain": [
       "3"
      ]
     },
     "execution_count": 2,
     "metadata": {},
     "output_type": "execute_result"
    }
   ],
   "source": [
    "solution([1,2,3,4,3,4,1,2,3,4,6,2])"
   ]
  },
  {
   "cell_type": "code",
   "execution_count": null,
   "metadata": {},
   "outputs": [],
   "source": []
  }
 ],
 "metadata": {
  "kernelspec": {
   "display_name": "Python 3",
   "language": "python",
   "name": "python3"
  },
  "language_info": {
   "codemirror_mode": {
    "name": "ipython",
    "version": 3
   },
   "file_extension": ".py",
   "mimetype": "text/x-python",
   "name": "python",
   "nbconvert_exporter": "python",
   "pygments_lexer": "ipython3",
   "version": "3.6.5"
  }
 },
 "nbformat": 4,
 "nbformat_minor": 2
}
