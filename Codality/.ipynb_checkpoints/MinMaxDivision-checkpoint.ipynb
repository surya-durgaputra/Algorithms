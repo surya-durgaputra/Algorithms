{
 "cells": [
  {
   "cell_type": "markdown",
   "metadata": {},
   "source": [
    "https://app.codility.com/programmers/lessons/14-binary_search_algorithm/min_max_division/\n",
    "\n",
    "Note: M is redundant here."
   ]
  },
  {
   "cell_type": "code",
   "execution_count": null,
   "metadata": {},
   "outputs": [],
   "source": [
    "def blocks_fit(A,K,limit):\n",
    "    blocks = 1\n",
    "    current_total = 0\n",
    "    for element in A:\n",
    "        if element+current_total<=limit:\n",
    "            current_total += element\n",
    "        else:\n",
    "            blocks += 1\n",
    "            if blocks > K:\n",
    "                return False\n",
    "            current_total = element\n",
    "\n",
    "    return blocks <= K\n",
    "\n",
    "\n",
    "def solution(K,M,A):\n",
    "    lower_bound = max(A)\n",
    "    upper_bound = sum(A)\n",
    "\n",
    "    if K == 1: return upper_bound\n",
    "    if K == len(A): return lower_bound\n",
    "    result = lower_bound\n",
    "    while lower_bound <= upper_bound:\n",
    "        mid = (upper_bound + lower_bound)//2\n",
    "        if blocks_fit(A,K, mid):\n",
    "            result = mid\n",
    "            upper_bound = mid - 1\n",
    "            mid = (mid + lower_bound)//2\n",
    "        else:\n",
    "            lower_bound = mid + 1\n",
    "\n",
    "    return result"
   ]
  }
 ],
 "metadata": {
  "kernelspec": {
   "display_name": "Python 3",
   "language": "python",
   "name": "python3"
  },
  "language_info": {
   "codemirror_mode": {
    "name": "ipython",
    "version": 3
   },
   "file_extension": ".py",
   "mimetype": "text/x-python",
   "name": "python",
   "nbconvert_exporter": "python",
   "pygments_lexer": "ipython3",
   "version": "3.6.5"
  }
 },
 "nbformat": 4,
 "nbformat_minor": 2
}
