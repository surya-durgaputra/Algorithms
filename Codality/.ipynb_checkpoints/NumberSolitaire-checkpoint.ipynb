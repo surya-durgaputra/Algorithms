{
 "cells": [
  {
   "cell_type": "markdown",
   "metadata": {},
   "source": [
    "https://app.codility.com/programmers/lessons/17-dynamic_programming/number_solitaire/"
   ]
  },
  {
   "cell_type": "code",
   "execution_count": 2,
   "metadata": {},
   "outputs": [],
   "source": [
    "def get_score(s,index):\n",
    "    if index<0:\n",
    "        return float('-inf')\n",
    "    return s[index]\n",
    "\n",
    "def solution(A):\n",
    "    import sys\n",
    "    n = len(A)\n",
    "\n",
    "    score = [float('-inf')]*n\n",
    "\n",
    "    score[0] = A[0]\n",
    "\n",
    "    for i in range(1,n):\n",
    "        score[i] = max(get_score(score,i-1),get_score(score,i-2),get_score(score,i-3),get_score(score,i-4),get_score(score,i-5),get_score(score,i-6))+A[i]\n",
    "    return score[n-1]"
   ]
  },
  {
   "cell_type": "code",
   "execution_count": 3,
   "metadata": {},
   "outputs": [
    {
     "name": "stdout",
     "output_type": "stream",
     "text": [
      "8\n",
      "10\n",
      "10\n",
      "9\n"
     ]
    }
   ],
   "source": [
    "print(solution([1,-2,0,9,-1,-2]))\n",
    "print(solution([1,-2,0,9]))\n",
    "print(solution([1,1,1,1,1,1,1,1,1,1]))\n",
    "print(solution([1,-1,1,1,1,1,2,1,-10,1]))"
   ]
  },
  {
   "cell_type": "code",
   "execution_count": null,
   "metadata": {},
   "outputs": [],
   "source": []
  }
 ],
 "metadata": {
  "kernelspec": {
   "display_name": "Python 3",
   "language": "python",
   "name": "python3"
  },
  "language_info": {
   "codemirror_mode": {
    "name": "ipython",
    "version": 3
   },
   "file_extension": ".py",
   "mimetype": "text/x-python",
   "name": "python",
   "nbconvert_exporter": "python",
   "pygments_lexer": "ipython3",
   "version": "3.6.5"
  }
 },
 "nbformat": 4,
 "nbformat_minor": 2
}
