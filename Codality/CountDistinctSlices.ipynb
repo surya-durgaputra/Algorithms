{
 "cells": [
  {
   "cell_type": "markdown",
   "metadata": {},
   "source": [
    "https://app.codility.com/programmers/lessons/15-caterpillar_method/count_distinct_slices/"
   ]
  },
  {
   "cell_type": "code",
   "execution_count": null,
   "metadata": {},
   "outputs": [],
   "source": [
    "#note: to calculate distinct slices, we observe that total distinct slices in slice of n elements\n",
    "# is 1+2+3+...+n = n(n+1)/2 \n",
    "def solution(M,A):\n",
    "    repeats = [-1]*(M+1) # -1: not accessed before\n",
    "                         # Non-negative: the previous occurrence position\n",
    "    distinct_slices = 0\n",
    "    front = back = 0\n",
    "    while front < len(A) and back < len(A):\n",
    "        if repeats[A[front]] < 0:\n",
    "            # Met with a new unique item\n",
    "            repeats[A[front]] = front\n",
    "            front += 1\n",
    "        else:\n",
    "            # Met with a duplicate item\n",
    "            #the idea is to compute the distinct slices between the back \n",
    "            # and the repeated_element's previous index + 1 (called new_back)\n",
    "            # then mark the repeated value as new as we have started a new slice which does not have this repeated element\n",
    "            # then mark the new_back as back\n",
    "            new_back = repeats[A[front]]+1\n",
    "            distinct_slices += ((front-back)*(front-back+1)//2) - ((front-new_back)*(front-new_back+1)//2) # n(n+1)/2 \n",
    "            if distinct_slices > 1000000000: return 1000000000\n",
    "            for index in range(back,new_back):\n",
    "                repeats[A[index]] = -1\n",
    "            back = new_back\n",
    "    # Process the last slices\n",
    "    distinct_slices += ((front-back)*(front-back+1)//2)\n",
    "    return min(distinct_slices,1000000000)"
   ]
  }
 ],
 "metadata": {
  "kernelspec": {
   "display_name": "Python 3",
   "language": "python",
   "name": "python3"
  },
  "language_info": {
   "codemirror_mode": {
    "name": "ipython",
    "version": 3
   },
   "file_extension": ".py",
   "mimetype": "text/x-python",
   "name": "python",
   "nbconvert_exporter": "python",
   "pygments_lexer": "ipython3",
   "version": "3.6.5"
  }
 },
 "nbformat": 4,
 "nbformat_minor": 2
}
