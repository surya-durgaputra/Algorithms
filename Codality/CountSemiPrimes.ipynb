{
 "cells": [
  {
   "cell_type": "markdown",
   "metadata": {},
   "source": [
    "https://app.codility.com/programmers/lessons/11-sieve_of_eratosthenes/count_semiprimes/"
   ]
  },
  {
   "cell_type": "code",
   "execution_count": 2,
   "metadata": {},
   "outputs": [
    {
     "data": {
      "text/plain": [
       "[13, 17, 19]"
      ]
     },
     "execution_count": 2,
     "metadata": {},
     "output_type": "execute_result"
    }
   ],
   "source": [
    "def create_primes_mask(n):\n",
    "    mask = [True]*(n+1)\n",
    "    \n",
    "    divisor = 2\n",
    "    while divisor*divisor <= n:\n",
    "        factor = divisor*divisor\n",
    "        while factor <= n:\n",
    "            if mask[factor]:\n",
    "                mask[factor] = False\n",
    "            factor += divisor\n",
    "        divisor += 1\n",
    "        \n",
    "    return mask\n",
    "def solution(N,P,Q):\n",
    "    mask_p = create_primes_mask(P)\n",
    "    mask_q = create_primes_mask(Q)\n",
    "    primes_p = [num for num in range(P+1) if mask_p[num]]\n",
    "    primes_q = [num for num in range(Q+1) if mask_q[num] and (num not in primes_p)]\n",
    "    \n",
    "    return primes_q\n",
    "\n",
    "solution(1,12,20)\n",
    "    "
   ]
  },
  {
   "cell_type": "code",
   "execution_count": null,
   "metadata": {},
   "outputs": [],
   "source": []
  }
 ],
 "metadata": {
  "kernelspec": {
   "display_name": "Python 3",
   "language": "python",
   "name": "python3"
  },
  "language_info": {
   "codemirror_mode": {
    "name": "ipython",
    "version": 3
   },
   "file_extension": ".py",
   "mimetype": "text/x-python",
   "name": "python",
   "nbconvert_exporter": "python",
   "pygments_lexer": "ipython3",
   "version": "3.6.5"
  }
 },
 "nbformat": 4,
 "nbformat_minor": 2
}
