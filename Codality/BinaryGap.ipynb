{
 "cells": [
  {
   "cell_type": "markdown",
   "metadata": {},
   "source": [
    "A binary gap within a positive integer N is any maximal sequence of consecutive zeros that is surrounded by ones at both ends in the binary representation of N.\n",
    "\n",
    "For example, number 9 has binary representation 1001 and contains a binary gap of length 2. The number 529 has binary representation 1000010001 and contains two binary gaps: one of length 4 and one of length 3. The number 20 has binary representation 10100 and contains one binary gap of length 1. The number 15 has binary representation 1111 and has no binary gaps. The number 32 has binary representation 100000 and has no binary gaps.\n",
    "\n",
    "Write a function:\n",
    "\n",
    "int solution(int N);\n",
    "\n",
    "that, given a positive integer N, returns the length of its longest binary gap. The function should return 0 if N doesn't contain a binary gap.\n",
    "\n",
    "For example, given N = 1041 the function should return 5, because N has binary representation 10000010001 and so its longest binary gap is of length 5. Given N = 32 the function should return 0, because N has binary representation '100000' and thus no binary gaps.\n",
    "\n",
    "Write an efficient algorithm for the following assumptions:\n",
    "\n",
    "N is an integer within the range [1..2,147,483,647]."
   ]
  },
  {
   "cell_type": "code",
   "execution_count": 26,
   "metadata": {},
   "outputs": [],
   "source": [
    "def Solution(N):\n",
    "    if not N:\n",
    "        return 0\n",
    "    if (N == 1) or (N==2) or (N==3) or (N==4):\n",
    "        return 0\n",
    "    \n",
    "    binary_seq = list(str(bin(N)).split('b')[1])\n",
    "    count_flag = False\n",
    "    counter = 0\n",
    "    gaps = []\n",
    "    prev_val = binary_seq[0]\n",
    "    cur_val = binary_seq[1]\n",
    "    for index in range(1,len(binary_seq)):\n",
    "        prev_val = binary_seq[index-1]\n",
    "        cur_val = binary_seq[index]\n",
    "        \n",
    "    for index in range(0,len(binary_seq)):\n",
    "        #print(str(gaps))\n",
    "        #print(binary_seq[index])\n",
    "        if binary_seq[index]:\n",
    "            #print('Inside 1:'+binary_seq[index]+' counter:'+counter)\n",
    "            if count_flag:\n",
    "                count_flag = False\n",
    "                gaps.append(counter)\n",
    "                counter = 0\n",
    "            else:\n",
    "                count_flag = True\n",
    "                counter += 1\n",
    "                #print('Inside 0:'+binary_seq[index]+' counter:'+counter)\n",
    "        else:\n",
    "            if count_flag:\n",
    "                counter += 1\n",
    "    \n",
    "    if len(gaps):\n",
    "        return sorted(gaps)[len(gaps)-1]\n",
    "    else:\n",
    "        return 0\n",
    "            "
   ]
  },
  {
   "cell_type": "code",
   "execution_count": 28,
   "metadata": {},
   "outputs": [
    {
     "data": {
      "text/plain": [
       "1"
      ]
     },
     "execution_count": 28,
     "metadata": {},
     "output_type": "execute_result"
    }
   ],
   "source": [
    "Solution(7)"
   ]
  },
  {
   "cell_type": "code",
   "execution_count": 10,
   "metadata": {},
   "outputs": [
    {
     "data": {
      "text/plain": [
       "['1', '0', '0']"
      ]
     },
     "execution_count": 10,
     "metadata": {},
     "output_type": "execute_result"
    }
   ],
   "source": [
    "binary = bin(4)\n",
    "list(str(binary).split('b')[1])"
   ]
  },
  {
   "cell_type": "code",
   "execution_count": null,
   "metadata": {},
   "outputs": [],
   "source": []
  }
 ],
 "metadata": {
  "kernelspec": {
   "display_name": "Python 3",
   "language": "python",
   "name": "python3"
  },
  "language_info": {
   "codemirror_mode": {
    "name": "ipython",
    "version": 3
   },
   "file_extension": ".py",
   "mimetype": "text/x-python",
   "name": "python",
   "nbconvert_exporter": "python",
   "pygments_lexer": "ipython3",
   "version": "3.6.5"
  }
 },
 "nbformat": 4,
 "nbformat_minor": 2
}
