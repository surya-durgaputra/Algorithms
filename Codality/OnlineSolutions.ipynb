{
 "cells": [
  {
   "cell_type": "markdown",
   "metadata": {},
   "source": [
    "codality Solutions:\n",
    "    \n",
    "    https://github.com/sebastiandziadzio/python-katas/tree/master/codility\n",
    "    \n",
    "    https://github.com/topics/codility-solutions    \n",
    "\n",
    "general Python practising stuff:\n",
    "    https://github.com/sebastiandziadzio/python-katas    "
   ]
  },
  {
   "cell_type": "code",
   "execution_count": null,
   "metadata": {},
   "outputs": [],
   "source": []
  }
 ],
 "metadata": {
  "kernelspec": {
   "display_name": "Python 3",
   "language": "python",
   "name": "python3"
  },
  "language_info": {
   "codemirror_mode": {
    "name": "ipython",
    "version": 3
   },
   "file_extension": ".py",
   "mimetype": "text/x-python",
   "name": "python",
   "nbconvert_exporter": "python",
   "pygments_lexer": "ipython3",
   "version": "3.6.5"
  }
 },
 "nbformat": 4,
 "nbformat_minor": 2
}
