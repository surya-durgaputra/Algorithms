{
 "cells": [
  {
   "cell_type": "markdown",
   "metadata": {},
   "source": [
    "https://app.codility.com/programmers/lessons/12-euclidean_algorithm/common_prime_divisors/"
   ]
  },
  {
   "cell_type": "code",
   "execution_count": 1,
   "metadata": {},
   "outputs": [],
   "source": [
    "def gcd(a,b):\n",
    "    if a == b:\n",
    "        return a\n",
    "    if a>b:\n",
    "        if b==0:\n",
    "            return a\n",
    "        return gcd(b,a%b)\n",
    "\n",
    "    if a==0:\n",
    "        return b\n",
    "    return gcd(a,b%a)\n",
    "\n",
    "def is_prime_divisor(N,M):\n",
    "    value = min(N,M)\n",
    "    if value <= 1:\n",
    "        return False\n",
    "    divisor = gcd(N,M)\n",
    "    if value//divisor > 1:\n",
    "        return False\n",
    "\n",
    "    factor = max(N,M)\n",
    "    while factor > divisor:\n",
    "        factor = factor//divisor\n",
    "\n",
    "    if divisor % factor > 0:\n",
    "        return False\n",
    "\n",
    "    return True\n",
    "\n",
    "def solution(A,B):\n",
    "    result = 0\n",
    "    for index,a in enumerate(A):\n",
    "        if is_prime_divisor(a,B[index]):\n",
    "            result += 1\n",
    "    return result"
   ]
  },
  {
   "cell_type": "code",
   "execution_count": 4,
   "metadata": {},
   "outputs": [
    {
     "data": {
      "text/plain": [
       "1"
      ]
     },
     "execution_count": 4,
     "metadata": {},
     "output_type": "execute_result"
    }
   ],
   "source": [
    "solution([5,10,1],[5,30,1])"
   ]
  },
  {
   "cell_type": "code",
   "execution_count": null,
   "metadata": {},
   "outputs": [],
   "source": []
  }
 ],
 "metadata": {
  "kernelspec": {
   "display_name": "Python 3",
   "language": "python",
   "name": "python3"
  },
  "language_info": {
   "codemirror_mode": {
    "name": "ipython",
    "version": 3
   },
   "file_extension": ".py",
   "mimetype": "text/x-python",
   "name": "python",
   "nbconvert_exporter": "python",
   "pygments_lexer": "ipython3",
   "version": "3.6.5"
  }
 },
 "nbformat": 4,
 "nbformat_minor": 2
}
