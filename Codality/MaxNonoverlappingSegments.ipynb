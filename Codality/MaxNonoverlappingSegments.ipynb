{
 "cells": [
  {
   "cell_type": "markdown",
   "metadata": {},
   "source": [
    "https://app.codility.com/programmers/lessons/16-greedy_algorithms/max_nonoverlapping_segments/\n",
    "\n",
    "Let’s scan from left to right, according to the end points. Since the input has already been sorted with the end points, linear scan works. Firstly, we define the cluster as: let the first item of that segment be segment[i], the cluster is all the segments from segment[i] to segment[j] (both inclusive, and i <= j), such that:\n",
    "for all x (i < x <= j), segment[i].begin <= segment[x].begin <= segment[i].end\n",
    "\n",
    "Any two segments in one cluster are overlapping.\n",
    "1. Because the segments are sorted as the end point, (that is, for all x (i < x <= j), segment[x].end >= segment[i].end), and the definition of cluster, all the other segments are overlapping with the first one.\n",
    "2. Any two no-first segments are overlapping. Because both their begin points are <= segment[i].end, and both end points are >= segment[i].end.\n",
    "End of proof. As a result, in one cluster, we can pick up AT MOST one segment.\n",
    "\n",
    "In any two consecutive clusters, we can choose two segments MAXIMUMLY. Let cluster[i] be the i(th) cluster, and cluster[i].segment[j] be the j(th) segment in the i(th) cluster.\n",
    "1. We CAN choose two. As the definition of cluster, we have:\n",
    "cluster[i].segment[first].end < cluster[i+1].segment[first].begin\n",
    "And with the definition of segment, we have:\n",
    "cluster[i].segment[first].begin <= cluster[i].segment[first].end < cluster[i+1].segment[first].begin <= cluster[i+1].segment[first].end\n",
    "Therefore, they (cluster[i].segment[first] and cluster[i+1].segment[first]) are not overlapping.\n",
    "2. We can choose two AT MOST. If we can choose three or more non-overlapping segments in these two consecutive clusters, according to pigeonhole principle, at least two non-overlapping segments are in one cluster. But according to our previous discussion, it is impossible.\n",
    "\n",
    "Similarly, we can proof that: with N clusters, we can pick up N non-overlapping segments at most. Therefore, the orginal question becomes: find the number of clusters in the segments."
   ]
  },
  {
   "cell_type": "code",
   "execution_count": 1,
   "metadata": {},
   "outputs": [],
   "source": [
    "def solution(A,B):\n",
    "    if len(A)<2:\n",
    "        return len(A)\n",
    "    end = B[0]\n",
    "    clusters = 1\n",
    "\n",
    "    for index in range(1,len(A)):\n",
    "        if A[index] <= end:\n",
    "            continue\n",
    "        else:\n",
    "            clusters += 1\n",
    "            end = B[index]\n",
    "    return clusters"
   ]
  },
  {
   "cell_type": "code",
   "execution_count": 2,
   "metadata": {},
   "outputs": [
    {
     "data": {
      "text/plain": [
       "3"
      ]
     },
     "execution_count": 2,
     "metadata": {},
     "output_type": "execute_result"
    }
   ],
   "source": [
    "solution([1,3,7,9,9],[5,6,8,9,10])"
   ]
  },
  {
   "cell_type": "code",
   "execution_count": null,
   "metadata": {},
   "outputs": [],
   "source": []
  }
 ],
 "metadata": {
  "kernelspec": {
   "display_name": "Python 3",
   "language": "python",
   "name": "python3"
  },
  "language_info": {
   "codemirror_mode": {
    "name": "ipython",
    "version": 3
   },
   "file_extension": ".py",
   "mimetype": "text/x-python",
   "name": "python",
   "nbconvert_exporter": "python",
   "pygments_lexer": "ipython3",
   "version": "3.6.5"
  }
 },
 "nbformat": 4,
 "nbformat_minor": 2
}
