{
 "cells": [
  {
   "cell_type": "markdown",
   "metadata": {},
   "source": [
    "https://app.codility.com/programmers/lessons/5-prefix_sums/genomic_range_query/\n",
    "\n",
    "A DNA sequence is represented as a string consisting of the letters A, C, G, T.\n",
    "Nucleotides A, C, G, and T have impact factors of 1, 2, 3, and 4, respectively.\n",
    "Given a string S representing the DNA sequence and two arrays P and Q,\n",
    "each consisting of M integers, return an array of M integers representing\n",
    "the minimal factor between position P[K] and Q[K]."
   ]
  },
  {
   "cell_type": "code",
   "execution_count": 11,
   "metadata": {},
   "outputs": [],
   "source": [
    "def Solution(S,P,Q):\n",
    "    nuctides = {'A':1,'C':2,'G':3,'T':4}\n",
    "    S_numeric = [0]*len(S)\n",
    "    result = [0]*len(P)\n",
    "    for index,char in enumerate(S):\n",
    "        S_numeric[index] = (nuctides[char])\n",
    "    \n",
    "    for index,p in enumerate(P):\n",
    "        q = Q[index]\n",
    "        s_slice = S_numeric[p:q+1]\n",
    "        result[index] = (min(s_slice))\n",
    "    \n",
    "    return result"
   ]
  },
  {
   "cell_type": "code",
   "execution_count": 12,
   "metadata": {},
   "outputs": [
    {
     "data": {
      "text/plain": [
       "[2, 4, 1]"
      ]
     },
     "execution_count": 12,
     "metadata": {},
     "output_type": "execute_result"
    }
   ],
   "source": [
    "Solution('CAGCCTA',[2,5,0],[4,5,6])"
   ]
  },
  {
   "cell_type": "code",
   "execution_count": null,
   "metadata": {},
   "outputs": [],
   "source": []
  }
 ],
 "metadata": {
  "kernelspec": {
   "display_name": "Python 3",
   "language": "python",
   "name": "python3"
  },
  "language_info": {
   "codemirror_mode": {
    "name": "ipython",
    "version": 3
   },
   "file_extension": ".py",
   "mimetype": "text/x-python",
   "name": "python",
   "nbconvert_exporter": "python",
   "pygments_lexer": "ipython3",
   "version": "3.6.5"
  }
 },
 "nbformat": 4,
 "nbformat_minor": 2
}
