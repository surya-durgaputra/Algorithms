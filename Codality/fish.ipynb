{
 "cells": [
  {
   "cell_type": "markdown",
   "metadata": {},
   "source": [
    "#### N voracious fish are moving along a river. Calculate how many fish are alive.\n",
    "You are given two non-empty zero-indexed arrays A and B consisting of N integers. Arrays A and B represent N voracious fish in a river, ordered downstream along the flow of the river.\n",
    "\n",
    "The fish are numbered from 0 to N − 1. If P and Q are two fish and P < Q, then fish P is initially upstream of fish Q. Initially, each fish has a unique position.\n",
    "\n",
    "Fish number P is represented by A[P] and B[P]. Array A contains the sizes of the fish. All its elements are unique. Array B contains the directions of the fish. It contains only 0s and/or 1s, where:\n",
    "\n",
    "0 represents a fish flowing upstream, 1 represents a fish flowing downstream. If two fish move in opposite directions and there are no other (living) fish between them, they will eventually meet each other. Then only one fish can stay alive − the larger fish eats the smaller one. More precisely, we say that two fish P and Q meet each other when P < Q, B[P] = 1 and B[Q] = 0, and there are no living fish between them. After they meet:\n",
    "\n",
    "If A[P] > A[Q] then P eats Q, and P will still be flowing downstream. If A[Q] > A[P] then Q eats P, and Q will still be flowing upstream. We assume that all the fish are flowing at the same speed. That is, fish moving in the same direction never meet. The goal is to calculate the number of fish that will stay alive.\n",
    "\n",
    "For example, consider arrays A and B such that:\n",
    "\n",
    "A[0] = 4    B[0] = 0\n",
    "\n",
    "A[1] = 3    B[1] = 1\n",
    "\n",
    "A[2] = 2    B[2] = 0\n",
    "\n",
    "A[3] = 1    B[3] = 0\n",
    "\n",
    "A[4] = 5    B[4] = 0\n",
    "\n",
    "Initially all the fish are alive and all except fish number 1 are moving upstream. Fish number 1 meets fish number 2 and eats it, then it meets fish number 3 and eats it too. Finally, it meets fish number 4 and is eaten by it. The remaining two fish, number 0 and 4, never meet and therefore stay alive.\n",
    "\n",
    "Write a function:\n",
    "\n",
    "class Solution { public int solution(int[] A, int[] B); }\n",
    "\n",
    "that, given two non-empty zero-indexed arrays A and B consisting of N integers, returns the number of fish that will stay alive.\n",
    "\n",
    "For example, given the arrays shown above, the function should return 2, as explained above.\n",
    "\n",
    "Assume that:\n",
    "\n",
    "N is an integer within the range [1..100,000]; each element of array A is an integer within the range [0..1,000,000,000]; each element of array B is an integer that can have one of the following values: 0, 1; the elements of A are all distinct.\n",
    "\n",
    "Complexity:\n",
    "\n",
    "Expected worst-case time complexity is O(N); expected worst-case space complexity is O(N), beyond input storage (not counting the storage required for input arguments)."
   ]
  },
  {
   "cell_type": "code",
   "execution_count": 1,
   "metadata": {},
   "outputs": [],
   "source": [
    "def solution(A,B):\n",
    "    from collections import deque\n",
    "    \n",
    "    stack = deque()\n",
    "    alive_counter = 0\n",
    "    for index in range(len(A)):\n",
    "        a,b = A[index],B[index]\n",
    "        if b == 1:\n",
    "            stack.append(a)\n",
    "            continue\n",
    "        # no fish flowing downstream.\n",
    "        if len(stack)==0:\n",
    "            alive_counter += 1\n",
    "            continue\n",
    "        # non-empty stack means previous fishes flowing downstream\n",
    "        while len(stack) > 0:\n",
    "            last_in_stack = stack[-1] #only peek\n",
    "            if last_in_stack < a:\n",
    "                stack.pop() # fish in stack got eaten\n",
    "                continue\n",
    "            else:\n",
    "                break # upstream fish got eaten\n",
    "        # at the end of while loop, if stack is empty, means upstream ate all the fishes in stack and thus will survive\n",
    "        if len(stack) == 0:\n",
    "            alive_counter += 1\n",
    "    # no more upstream fishes. All remainig downstream fishes will survive\n",
    "    alive_counter += len(stack)\n",
    "\n",
    "    return alive_counter"
   ]
  },
  {
   "cell_type": "code",
   "execution_count": 2,
   "metadata": {},
   "outputs": [
    {
     "name": "stdout",
     "output_type": "stream",
     "text": [
      "2\n",
      "2\n"
     ]
    }
   ],
   "source": [
    "print(solution([4,3,2,1,5],[0,1,0,0,0]))\n",
    "print(solution([0,1,2],[0,1,0]))"
   ]
  },
  {
   "cell_type": "code",
   "execution_count": null,
   "metadata": {},
   "outputs": [],
   "source": []
  },
  {
   "cell_type": "code",
   "execution_count": null,
   "metadata": {},
   "outputs": [],
   "source": []
  }
 ],
 "metadata": {
  "kernelspec": {
   "display_name": "Python 3",
   "language": "python",
   "name": "python3"
  },
  "language_info": {
   "codemirror_mode": {
    "name": "ipython",
    "version": 3
   },
   "file_extension": ".py",
   "mimetype": "text/x-python",
   "name": "python",
   "nbconvert_exporter": "python",
   "pygments_lexer": "ipython3",
   "version": "3.6.5"
  }
 },
 "nbformat": 4,
 "nbformat_minor": 2
}
