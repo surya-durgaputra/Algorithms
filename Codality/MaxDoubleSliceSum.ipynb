{
 "cells": [
  {
   "cell_type": "markdown",
   "metadata": {},
   "source": [
    "https://app.codility.com/programmers/lessons/9-maximum_slice_problem/max_double_slice_sum/\n",
    "\n",
    "We can use Kadane’s algorithm from two directions. First, we can safely ignore A[0] and A[N-1] since by definition they can’t be a part of any double-slice sum.\n",
    "\n",
    "Now, define K1[i] as the maximum sum contiguous subsequence ending at index i, and similarly, define  K2[i] as the maximum sum contiguous subsequence starting with index i.\n",
    "\n",
    "Then, iterate over i, and find the maximum sum of K1[i-1]+K2[i+1]. This is the max double slice sum."
   ]
  },
  {
   "cell_type": "code",
   "execution_count": 37,
   "metadata": {},
   "outputs": [],
   "source": [
    "def solution(A):\n",
    "    n = len(A)\n",
    "    max_ending_here = [0]*n\n",
    "    max_starting_here = [0]*n\n",
    "    #max_ending_here[0] = A[0]\n",
    "    #max_starting_here[n-1] = A[n-1]\n",
    "    #note we skip A[0] term in max_ending_here\n",
    "    for index in range(1,n):\n",
    "        max_ending_here[index] = max(A[index]+max_ending_here[index-1],A[index])\n",
    "    \n",
    "    #note we skip A[n-1] term in max_starting_here\n",
    "    for index in reversed(range(n-1)):\n",
    "        max_starting_here[index] = max(A[index]+max_starting_here[index+1],A[index])\n",
    "\n",
    "    max_double_slice_sum = 0\n",
    "\n",
    "    for index in range(1,n-1):\n",
    "        max_double_slice_sum = max(max_double_slice_sum, max_ending_here[index-1]+max_starting_here[index+1])\n",
    "\n",
    "    return(max_double_slice_sum)"
   ]
  },
  {
   "cell_type": "code",
   "execution_count": 38,
   "metadata": {},
   "outputs": [
    {
     "data": {
      "text/plain": [
       "17"
      ]
     },
     "execution_count": 38,
     "metadata": {},
     "output_type": "execute_result"
    }
   ],
   "source": [
    "solution([3,2,6,-1,4,5,-1,2])"
   ]
  },
  {
   "cell_type": "code",
   "execution_count": 8,
   "metadata": {},
   "outputs": [
    {
     "data": {
      "text/plain": [
       "[6, 5, 4, 3, 2, 1, 0]"
      ]
     },
     "execution_count": 8,
     "metadata": {},
     "output_type": "execute_result"
    }
   ],
   "source": [
    "list(reversed(range(len([3,2,6,-1,4,5,-1,2])-1)))"
   ]
  },
  {
   "cell_type": "code",
   "execution_count": 4,
   "metadata": {},
   "outputs": [],
   "source": [
    "def solution(A):\n",
    "    n = len(A)\n",
    "    starting_here = [0]*n\n",
    "    ending_here = [0]*n\n",
    "    \n",
    "    for index in range(1,n):\n",
    "        ending_here[index] = max(A[index],ending_here[index-1]+A[index])\n",
    "        \n",
    "    for index in range(n-2,1):\n",
    "        starting_here[index] = max(A[index],starting_here[index+1])\n",
    "        \n",
    "    max_double_slice_sum = 0\n",
    "    \n",
    "    for index in range(1,n-1):\n",
    "        max_double_slice_sum = max(max_double_slice_sum,ending_here[index-1]+starting_here[index+1])\n",
    "        \n",
    "    return max_double_slice_sum"
   ]
  },
  {
   "cell_type": "code",
   "execution_count": 5,
   "metadata": {},
   "outputs": [
    {
     "data": {
      "text/plain": [
       "16"
      ]
     },
     "execution_count": 5,
     "metadata": {},
     "output_type": "execute_result"
    }
   ],
   "source": [
    "solution([3,2,6,-1,4,5,-1,2])"
   ]
  },
  {
   "cell_type": "code",
   "execution_count": null,
   "metadata": {},
   "outputs": [],
   "source": []
  }
 ],
 "metadata": {
  "kernelspec": {
   "display_name": "Python 3",
   "language": "python",
   "name": "python3"
  },
  "language_info": {
   "codemirror_mode": {
    "name": "ipython",
    "version": 3
   },
   "file_extension": ".py",
   "mimetype": "text/x-python",
   "name": "python",
   "nbconvert_exporter": "python",
   "pygments_lexer": "ipython3",
   "version": "3.6.5"
  }
 },
 "nbformat": 4,
 "nbformat_minor": 2
}
