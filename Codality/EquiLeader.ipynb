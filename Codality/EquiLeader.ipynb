{
 "cells": [
  {
   "cell_type": "markdown",
   "metadata": {},
   "source": [
    "https://app.codility.com/programmers/lessons/8-leader/equi_leader/"
   ]
  },
  {
   "cell_type": "code",
   "execution_count": 22,
   "metadata": {},
   "outputs": [],
   "source": [
    "def solution(A):\n",
    "    results = []\n",
    "    for index,value in enumerate(A):\n",
    "        leader_1 = leader(A[:index])\n",
    "        leader_2 = leader(A[index:])\n",
    "        print('leader_1:{} leader_2:{}'.format(leader_1,leader_2))\n",
    "        if (leader_1 != -1) and (leader_2 != -1) and (leader_1 == leader_2):\n",
    "            results.append(index -1)\n",
    "    \n",
    "    return results"
   ]
  },
  {
   "cell_type": "code",
   "execution_count": 23,
   "metadata": {},
   "outputs": [],
   "source": [
    "def leader(A):\n",
    "    stack_size = 0\n",
    "    top_stack_value = 0\n",
    "    for index,value in enumerate(A):\n",
    "        if stack_size ==0:\n",
    "            stack_size += 1\n",
    "            top_stack_value = value\n",
    "        elif value != top_stack_value:\n",
    "            stack_size -= 1\n",
    "        else:\n",
    "            stack_size += 1\n",
    "        \n",
    "    leader = -1\n",
    "    if stack_size > 0:\n",
    "        counter = 0\n",
    "        for index,value in enumerate(A):\n",
    "            if value == top_stack_value:\n",
    "                counter += 1\n",
    "        \n",
    "        if counter > len(A)//2:\n",
    "            leader = top_stack_value\n",
    "    \n",
    "    return leader"
   ]
  },
  {
   "cell_type": "code",
   "execution_count": 24,
   "metadata": {},
   "outputs": [
    {
     "name": "stdout",
     "output_type": "stream",
     "text": [
      "leader_1:-1 leader_2:4\n",
      "leader_1:4 leader_2:4\n",
      "leader_1:-1 leader_2:4\n",
      "leader_1:4 leader_2:4\n",
      "leader_1:4 leader_2:-1\n",
      "leader_1:4 leader_2:2\n"
     ]
    },
    {
     "data": {
      "text/plain": [
       "[0, 2]"
      ]
     },
     "execution_count": 24,
     "metadata": {},
     "output_type": "execute_result"
    }
   ],
   "source": [
    "solution([4,3,4,4,4,2])"
   ]
  },
  {
   "cell_type": "code",
   "execution_count": 46,
   "metadata": {},
   "outputs": [],
   "source": [
    "# the solution is based on the fact that there can be only one leader in am array\n",
    "# if the array is split and the two parts have same leader, then that leader has to be the same as the\n",
    "# leader of the entire(un-split) array. \n",
    "# we find the leader of the whole array\n",
    "# then we find the locations where the split makes tha same leader in both parts of split\n",
    "def solution(A):\n",
    "    lead = leader(A)\n",
    "    \n",
    "    lead_count = len([num for num in A if num == lead])\n",
    "    \n",
    "    lead_left_count = 0\n",
    "    equi_leads = 0\n",
    "    for index,value in enumerate(A):\n",
    "        \n",
    "        if value == lead:\n",
    "            lead_left_count += 1\n",
    "        if (lead_left_count > (index+1)//2) and \\\n",
    "        ((lead_count - lead_left_count) > (len(A)-index)//2):\n",
    "            equi_leads += 1\n",
    "        \n",
    "    \n",
    "    return equi_leads"
   ]
  },
  {
   "cell_type": "code",
   "execution_count": 47,
   "metadata": {},
   "outputs": [
    {
     "data": {
      "text/plain": [
       "2"
      ]
     },
     "execution_count": 47,
     "metadata": {},
     "output_type": "execute_result"
    }
   ],
   "source": [
    "solution([4,3,4,4,4,2,4])"
   ]
  },
  {
   "cell_type": "code",
   "execution_count": null,
   "metadata": {},
   "outputs": [],
   "source": []
  }
 ],
 "metadata": {
  "kernelspec": {
   "display_name": "Python 3",
   "language": "python",
   "name": "python3"
  },
  "language_info": {
   "codemirror_mode": {
    "name": "ipython",
    "version": 3
   },
   "file_extension": ".py",
   "mimetype": "text/x-python",
   "name": "python",
   "nbconvert_exporter": "python",
   "pygments_lexer": "ipython3",
   "version": "3.6.5"
  }
 },
 "nbformat": 4,
 "nbformat_minor": 2
}
