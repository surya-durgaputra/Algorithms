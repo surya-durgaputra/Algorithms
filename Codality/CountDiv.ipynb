{
 "cells": [
  {
   "cell_type": "markdown",
   "metadata": {},
   "source": [
    "Compute the number of integers divisible by k in range [a, b]."
   ]
  },
  {
   "cell_type": "code",
   "execution_count": 20,
   "metadata": {},
   "outputs": [],
   "source": [
    "def div_check(span,k,count):\n",
    "    print(str(span)+'  '+str(k)+'   '+str(count))\n",
    "    current = span[0]\n",
    "    if len(span) <= 1:\n",
    "        if not current % k:\n",
    "            count += 1\n",
    "            return count\n",
    "        else:\n",
    "            return count\n",
    "    else:        \n",
    "        if not current % k:\n",
    "            count += 1\n",
    "        return div_check(span[1:],k, count)\n",
    "\n",
    "def Solution(array,k):\n",
    "    seq = [num for num in range(array[0],array[1]+1)]\n",
    "    return div_check(seq,k,0)"
   ]
  },
  {
   "cell_type": "code",
   "execution_count": 22,
   "metadata": {},
   "outputs": [
    {
     "name": "stdout",
     "output_type": "stream",
     "text": [
      "[2, 3, 4, 5, 6, 7, 8]  3   0\n",
      "[3, 4, 5, 6, 7, 8]  3   0\n",
      "[4, 5, 6, 7, 8]  3   1\n",
      "[5, 6, 7, 8]  3   1\n",
      "[6, 7, 8]  3   1\n",
      "[7, 8]  3   2\n",
      "[8]  3   2\n"
     ]
    },
    {
     "data": {
      "text/plain": [
       "2"
      ]
     },
     "execution_count": 22,
     "metadata": {},
     "output_type": "execute_result"
    }
   ],
   "source": [
    "Solution([2,8],3)"
   ]
  },
  {
   "cell_type": "code",
   "execution_count": null,
   "metadata": {},
   "outputs": [],
   "source": []
  }
 ],
 "metadata": {
  "kernelspec": {
   "display_name": "Python 3",
   "language": "python",
   "name": "python3"
  },
  "language_info": {
   "codemirror_mode": {
    "name": "ipython",
    "version": 3
   },
   "file_extension": ".py",
   "mimetype": "text/x-python",
   "name": "python",
   "nbconvert_exporter": "python",
   "pygments_lexer": "ipython3",
   "version": "3.6.5"
  }
 },
 "nbformat": 4,
 "nbformat_minor": 2
}
