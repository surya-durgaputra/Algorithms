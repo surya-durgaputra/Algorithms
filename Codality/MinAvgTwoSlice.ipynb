{
 "cells": [
  {
   "cell_type": "markdown",
   "metadata": {},
   "source": [
    "https://app.codility.com/programmers/lessons/5-prefix_sums/min_avg_two_slice/"
   ]
  },
  {
   "cell_type": "code",
   "execution_count": 36,
   "metadata": {},
   "outputs": [],
   "source": [
    "def solution(A):\n",
    "    prefs = prefix_sums(A)\n",
    "    print(prefs)\n",
    "    average_index = []\n",
    "    for index,value in enumerate(A):\n",
    "        for index_inner in range(index,len(A)):\n",
    "            average_index.append((slice_average(index+1,index_inner+1,prefs),index,index_inner))\n",
    "            \n",
    "    min_value, min_index, min_index_inner = min(average_index)\n",
    "    print(average_index)\n",
    "    return min_index"
   ]
  },
  {
   "cell_type": "code",
   "execution_count": 37,
   "metadata": {},
   "outputs": [],
   "source": [
    "def prefix_sums(A):\n",
    "    result = [0]*(len(A)+1)\n",
    "    for index,value in enumerate(A):\n",
    "        result[index+1] += result[index] + value\n",
    "    \n",
    "    return result\n",
    "\n",
    "def slice_average(p,q,pref_sums):\n",
    "    if p==q:\n",
    "        return pref_sums[p]\n",
    "    \n",
    "    return (pref_sums[q] - pref_sums[p-1])/(q-p+1)\n",
    " "
   ]
  },
  {
   "cell_type": "code",
   "execution_count": 38,
   "metadata": {},
   "outputs": [
    {
     "name": "stdout",
     "output_type": "stream",
     "text": [
      "[0, 4, 6, 8, 13, 14, 19, 27]\n",
      "[(4, 0, 0), (3.0, 0, 1), (2.6666666666666665, 0, 2), (3.25, 0, 3), (2.8, 0, 4), (3.1666666666666665, 0, 5), (3.857142857142857, 0, 6), (6, 1, 1), (2.0, 1, 2), (3.0, 1, 3), (2.5, 1, 4), (3.0, 1, 5), (3.8333333333333335, 1, 6), (8, 2, 2), (3.5, 2, 3), (2.6666666666666665, 2, 4), (3.25, 2, 5), (4.2, 2, 6), (13, 3, 3), (3.0, 3, 4), (3.6666666666666665, 3, 5), (4.75, 3, 6), (14, 4, 4), (3.0, 4, 5), (4.666666666666667, 4, 6), (19, 5, 5), (6.5, 5, 6), (27, 6, 6)]\n"
     ]
    },
    {
     "data": {
      "text/plain": [
       "1"
      ]
     },
     "execution_count": 38,
     "metadata": {},
     "output_type": "execute_result"
    }
   ],
   "source": [
    "solution([4,2,2,5,1,5,8])"
   ]
  },
  {
   "cell_type": "code",
   "execution_count": null,
   "metadata": {},
   "outputs": [],
   "source": []
  }
 ],
 "metadata": {
  "kernelspec": {
   "display_name": "Python 3",
   "language": "python",
   "name": "python3"
  },
  "language_info": {
   "codemirror_mode": {
    "name": "ipython",
    "version": 3
   },
   "file_extension": ".py",
   "mimetype": "text/x-python",
   "name": "python",
   "nbconvert_exporter": "python",
   "pygments_lexer": "ipython3",
   "version": "3.6.5"
  }
 },
 "nbformat": 4,
 "nbformat_minor": 2
}
