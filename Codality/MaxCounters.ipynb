{
 "cells": [
  {
   "cell_type": "markdown",
   "metadata": {},
   "source": [
    "https://app.codility.com/programmers/lessons/4-counting_elements/max_counters/"
   ]
  },
  {
   "cell_type": "code",
   "execution_count": 1,
   "metadata": {},
   "outputs": [],
   "source": [
    "# codility estimates the complexity for this as O(n+m). Not sure why since to me it is O(n). \n",
    "# Several people reported erroneous complexity estimates for this question \n",
    "def solution(N,A):\n",
    "    counters = [0]*N\n",
    "    MAX = N+1\n",
    "    max_counter = 0\n",
    "    for index,value in enumerate(A):\n",
    "        if value==MAX:\n",
    "            counters = [max_counter]*N\n",
    "            continue\n",
    "        counters[value-1] += 1\n",
    "        max_counter = max(max_counter,counters[value-1])\n",
    "\n",
    "    return counters"
   ]
  },
  {
   "cell_type": "code",
   "execution_count": 2,
   "metadata": {},
   "outputs": [
    {
     "name": "stdout",
     "output_type": "stream",
     "text": [
      "[3, 2, 2, 4, 2]\n",
      "[2]\n",
      "[1, 2]\n"
     ]
    }
   ],
   "source": [
    "print(solution(5,[3,4,4,6,1,4,4]))\n",
    "print(solution(1,[1,2,1,2]))\n",
    "print(solution(2,[1,2,3,2]))"
   ]
  },
  {
   "cell_type": "code",
   "execution_count": null,
   "metadata": {},
   "outputs": [],
   "source": []
  }
 ],
 "metadata": {
  "kernelspec": {
   "display_name": "Python 3",
   "language": "python",
   "name": "python3"
  },
  "language_info": {
   "codemirror_mode": {
    "name": "ipython",
    "version": 3
   },
   "file_extension": ".py",
   "mimetype": "text/x-python",
   "name": "python",
   "nbconvert_exporter": "python",
   "pygments_lexer": "ipython3",
   "version": "3.6.5"
  }
 },
 "nbformat": 4,
 "nbformat_minor": 2
}
