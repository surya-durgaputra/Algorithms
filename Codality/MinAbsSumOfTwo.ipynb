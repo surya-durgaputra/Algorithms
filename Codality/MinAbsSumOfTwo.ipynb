{
 "cells": [
  {
   "cell_type": "markdown",
   "metadata": {},
   "source": [
    "https://app.codility.com/programmers/lessons/15-caterpillar_method/min_abs_sum_of_two/\n",
    "\n",
    "Sort the array with O(nlogn). Then for each element X in array, we could use binary search O(logn) to find the closest element Y to –X, so that |X+Y| is the closest to 0. To try all N elements, we need O(nlogn) to get N result as |X+Y|. Finally, linear time is needed to find the minimal one |X+Y|, which could be done while trying each round. Totally the time complexity is O(nlogn)."
   ]
  },
  {
   "cell_type": "code",
   "execution_count": null,
   "metadata": {},
   "outputs": [],
   "source": [
    "def binary_search_less_than(A,k):\n",
    "    lower_bound = 0\n",
    "    upper_bound = len(A)-1\n",
    "\n",
    "    result = lower_bound\n",
    "    while lower_bound <= upper_bound:\n",
    "        mid = (lower_bound + upper_bound)//2\n",
    "        if A[mid] <= k:\n",
    "            lower_bound = mid + 1\n",
    "            result = mid\n",
    "        else:\n",
    "            upper_bound = mid -1\n",
    "\n",
    "    return result\n",
    "\n",
    "def binary_search_greater_than(A,k):\n",
    "    lower_bound = 0\n",
    "    upper_bound = len(A)-1\n",
    "\n",
    "    result = upper_bound\n",
    "    while lower_bound <= upper_bound:\n",
    "        mid = (lower_bound + upper_bound)//2\n",
    "        if A[mid] >= k:\n",
    "            lower_bound = mid + 1\n",
    "            result = mid\n",
    "        else:\n",
    "            upper_bound = mid -1\n",
    "\n",
    "    return result\n",
    "\n",
    "def binary_search_closest(A,k):\n",
    "    less_than = binary_search_less_than(A,k)\n",
    "    greater_than = binary_search_greater_than(A,k)\n",
    "    if abs(A[less_than]-k) > abs(A[greater_than]-k):\n",
    "        return greater_than\n",
    "    return less_than\n",
    "\n",
    "def solution(A):\n",
    "    A = sorted(A)\n",
    "    abs_sums = [0]*len(A)\n",
    "    for index in range(len(A)):\n",
    "        abs_sums[index] = abs(A[index]+A[binary_search_closest(A,-A[index])])\n",
    "    return min(abs_sums)"
   ]
  }
 ],
 "metadata": {
  "kernelspec": {
   "display_name": "Python 3",
   "language": "python",
   "name": "python3"
  },
  "language_info": {
   "codemirror_mode": {
    "name": "ipython",
    "version": 3
   },
   "file_extension": ".py",
   "mimetype": "text/x-python",
   "name": "python",
   "nbconvert_exporter": "python",
   "pygments_lexer": "ipython3",
   "version": "3.6.5"
  }
 },
 "nbformat": 4,
 "nbformat_minor": 2
}
