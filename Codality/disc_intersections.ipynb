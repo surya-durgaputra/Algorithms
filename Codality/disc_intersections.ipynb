{
 "cells": [
  {
   "cell_type": "markdown",
   "metadata": {},
   "source": [
    "Given an array A of non-negative integers, $A[i]$ corresponds to the radius of a disc located at (0,i) on the Cartesian plane. Two discs are said to intersect iff they have at least one common point. Compute the total number of intersecting pairs of discs."
   ]
  },
  {
   "cell_type": "markdown",
   "metadata": {},
   "source": [
    "- Trick: the trick here is that \n",
    "    - distance between centers should be <= sum of radii for the cricles to intersect \n",
    "    - all the centers are on x-axis \n",
    "    - all radii are integers \n",
    "    - all centers are positive integers"
   ]
  },
  {
   "cell_type": "code",
   "execution_count": 37,
   "metadata": {},
   "outputs": [],
   "source": [
    "def Solution(A):\n",
    "    intersections = {}\n",
    "    \n",
    "    for index, radius in enumerate(A):\n",
    "        intersection = []\n",
    "        for index_inner,radius_inner in enumerate(A):\n",
    "            if index_inner == index:\n",
    "                continue\n",
    "            else:\n",
    "                #print('index: {} radius:{} index_inner: {} radius_inner:{}'.format(index,radius,index_inner,radius_inner))\n",
    "                if abs(index_inner - index) <= radius + radius_inner:\n",
    "                    if index_inner not in intersections:\n",
    "                        intersection.append(index_inner)  \n",
    "        intersections[index] = intersection\n",
    "    \n",
    "    count = 0\n",
    "    for intersection in intersections:\n",
    "        print('intersections[{}]->{}'.format(intersection,intersections[intersection]))\n",
    "        if len(intersections[intersection]):\n",
    "            count += len(intersections[intersection])\n",
    "    return count"
   ]
  },
  {
   "cell_type": "code",
   "execution_count": 38,
   "metadata": {},
   "outputs": [
    {
     "name": "stdout",
     "output_type": "stream",
     "text": [
      "intersections[0]->[1, 2]\n",
      "intersections[1]->[2, 3]\n",
      "intersections[2]->[3]\n",
      "intersections[3]->[]\n"
     ]
    },
    {
     "data": {
      "text/plain": [
       "5"
      ]
     },
     "execution_count": 38,
     "metadata": {},
     "output_type": "execute_result"
    }
   ],
   "source": [
    "Solution([1,1,1,1])"
   ]
  },
  {
   "cell_type": "code",
   "execution_count": null,
   "metadata": {},
   "outputs": [],
   "source": []
  }
 ],
 "metadata": {
  "kernelspec": {
   "display_name": "Python 3",
   "language": "python",
   "name": "python3"
  },
  "language_info": {
   "codemirror_mode": {
    "name": "ipython",
    "version": 3
   },
   "file_extension": ".py",
   "mimetype": "text/x-python",
   "name": "python",
   "nbconvert_exporter": "python",
   "pygments_lexer": "ipython3",
   "version": "3.6.5"
  }
 },
 "nbformat": 4,
 "nbformat_minor": 2
}
