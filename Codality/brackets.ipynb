{
 "cells": [
  {
   "cell_type": "markdown",
   "metadata": {},
   "source": [
    "A string S is considered to be properly nested if any of the following is true:\n",
    "* S is empty;\n",
    "* S has the form (U) or [U] or {U} where U is a properly nested string;\n",
    "* S has the form VW where V and W are properly nested strings.\n",
    "Write a function that returns 1 if S is properly nested and 0 otherwise."
   ]
  },
  {
   "cell_type": "code",
   "execution_count": 1,
   "metadata": {},
   "outputs": [],
   "source": [
    "# this problem was in stacks and queues section\n",
    "# a stack is just a python list. LIFO\n",
    "# a queue is python deque. FIFO (though a deque can also be LIFO)\n",
    "def Solution(seq):\n",
    "    stack = []\n",
    "    matched = {\"]\":\"[\", \"}\":\"{\",\")\":\"(\"}\n",
    "    if not len(seq):\n",
    "        return 1\n",
    "    # assume that string only contains braces in matched (keys or values). There are no other characters like \n",
    "    # alphabets\n",
    "    # always do a modulo check to make sure this string of braces has even characters. If odd,\n",
    "    # this string will always be incomplete\n",
    "    if len(seq) % 2:\n",
    "        return 0 \n",
    "    #start the loop\n",
    "    for char in seq:\n",
    "        if char in matched.values():\n",
    "            stack.append(char)\n",
    "        else:\n",
    "            #check '{}}'\n",
    "            if not len(stack):\n",
    "                return 0\n",
    "            last_val = stack[-1]\n",
    "            if char in matched:\n",
    "                # check '{]'\n",
    "                if last_val != matched[char]:\n",
    "                    return 0\n",
    "                stack.pop()\n",
    "    #check '{}{'    \n",
    "    if len(stack):\n",
    "        return 0\n",
    "    else:\n",
    "        return 1"
   ]
  },
  {
   "cell_type": "code",
   "execution_count": 2,
   "metadata": {},
   "outputs": [
    {
     "data": {
      "text/plain": [
       "0"
      ]
     },
     "execution_count": 2,
     "metadata": {},
     "output_type": "execute_result"
    }
   ],
   "source": [
    "Solution('{}}')"
   ]
  },
  {
   "cell_type": "code",
   "execution_count": null,
   "metadata": {},
   "outputs": [],
   "source": []
  }
 ],
 "metadata": {
  "kernelspec": {
   "display_name": "Python 3",
   "language": "python",
   "name": "python3"
  },
  "language_info": {
   "codemirror_mode": {
    "name": "ipython",
    "version": 3
   },
   "file_extension": ".py",
   "mimetype": "text/x-python",
   "name": "python",
   "nbconvert_exporter": "python",
   "pygments_lexer": "ipython3",
   "version": "3.6.5"
  }
 },
 "nbformat": 4,
 "nbformat_minor": 2
}
