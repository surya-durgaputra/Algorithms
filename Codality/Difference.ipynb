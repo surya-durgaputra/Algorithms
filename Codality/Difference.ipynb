{
 "cells": [
  {
   "cell_type": "markdown",
   "metadata": {},
   "source": [
    "#### Not Codility\n",
    "Given an array N of integers such as [1,3,5] and an integer K=2, find all pairs in N whose difference is K. You can use any language you want, as long as I can understand it."
   ]
  },
  {
   "cell_type": "code",
   "execution_count": 2,
   "metadata": {},
   "outputs": [
    {
     "data": {
      "text/plain": [
       "{1: [3], 2: [4]}"
      ]
     },
     "execution_count": 2,
     "metadata": {},
     "output_type": "execute_result"
    }
   ],
   "source": [
    "#Brute Force\n",
    "#O(N**2)\n",
    "def pairs(array,k):\n",
    "    pair = {}\n",
    "    for index,value in enumerate(array):\n",
    "        diff_list = []\n",
    "        for inner_index,inner_value in enumerate(array):\n",
    "            if inner_index == index:\n",
    "                continue\n",
    "            if abs(array[index]-array[inner_index]) ==k:\n",
    "                if array[inner_index] not in pair:\n",
    "                    diff_list.append(array[inner_index])\n",
    "        \n",
    "        if len(diff_list):\n",
    "            pair[array[index]] = diff_list\n",
    "    \n",
    "    return pair\n",
    "pairs([1,2,3,4],2)"
   ]
  },
  {
   "cell_type": "code",
   "execution_count": 3,
   "metadata": {},
   "outputs": [
    {
     "name": "stdout",
     "output_type": "stream",
     "text": [
      "value:1 position_gt:2 position_lt:0\n",
      "value:2 position_gt:3 position_lt:0\n",
      "value:3 position_gt:4 position_lt:0\n",
      "value:4 position_gt:4 position_lt:1\n"
     ]
    },
    {
     "data": {
      "text/plain": [
       "{1: [3], 2: [4]}"
      ]
     },
     "execution_count": 3,
     "metadata": {},
     "output_type": "execute_result"
    }
   ],
   "source": [
    "#O(NLogN)\n",
    "import bisect\n",
    "def pairs(array,k):\n",
    "    pair = {}\n",
    "    array = set(array)\n",
    "    array = sorted(array)\n",
    "    for index,value in enumerate(array):\n",
    "        diff_list = []\n",
    "        position_gt = bisect.bisect_left(array,value+k)\n",
    "        position_lt = bisect.bisect_left(array,value-k)\n",
    "        print('value:{} position_gt:{} position_lt:{}'.format(value,position_gt,position_lt))\n",
    "        if position_gt:\n",
    "            if (position_gt < len(array)) and (array[position_gt] not in pair):\n",
    "                diff_list.append(array[position_gt])\n",
    "        if position_lt:\n",
    "            if (position_gt < len(array)) and (array[position_lt] not in pair):\n",
    "                diff_list.append(array[position_lt])\n",
    "                \n",
    "        \n",
    "        \n",
    "        if len(diff_list):\n",
    "            pair[array[index]] = diff_list\n",
    "    \n",
    "    return pair\n",
    "pairs([1,2,3,4],2)"
   ]
  },
  {
   "cell_type": "code",
   "execution_count": null,
   "metadata": {},
   "outputs": [],
   "source": []
  }
 ],
 "metadata": {
  "kernelspec": {
   "display_name": "Python 3",
   "language": "python",
   "name": "python3"
  },
  "language_info": {
   "codemirror_mode": {
    "name": "ipython",
    "version": 3
   },
   "file_extension": ".py",
   "mimetype": "text/x-python",
   "name": "python",
   "nbconvert_exporter": "python",
   "pygments_lexer": "ipython3",
   "version": "3.6.5"
  }
 },
 "nbformat": 4,
 "nbformat_minor": 2
}
