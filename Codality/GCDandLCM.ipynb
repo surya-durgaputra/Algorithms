{
 "cells": [
  {
   "cell_type": "markdown",
   "metadata": {},
   "source": [
    "https://codility.com/media/train/10-Gcd.pdf"
   ]
  },
  {
   "cell_type": "code",
   "execution_count": 16,
   "metadata": {},
   "outputs": [],
   "source": [
    "def gcd2(a,b):\n",
    "    if b == 0:\n",
    "        return a\n",
    "    if a==b:\n",
    "        return a\n",
    "    if a>b:\n",
    "        return gcd2(b,a%b)\n",
    "    else:\n",
    "        return gcd2(a,b%a)"
   ]
  },
  {
   "cell_type": "code",
   "execution_count": 17,
   "metadata": {},
   "outputs": [
    {
     "data": {
      "text/plain": [
       "7"
      ]
     },
     "execution_count": 17,
     "metadata": {},
     "output_type": "execute_result"
    }
   ],
   "source": [
    "gcd2(14,21)"
   ]
  },
  {
   "cell_type": "code",
   "execution_count": 36,
   "metadata": {},
   "outputs": [],
   "source": [
    "def gcd_inner(a,b):\n",
    "    if a%b == 0:\n",
    "        return b\n",
    "    return gcd1(b,a%b)\n",
    "\n",
    "def gcd_not_shift(a,b):\n",
    "    return gcd_inner(max(a,b),min(a,b))\n",
    "\n",
    "# shift and parity check is faster when numbers are very big\n",
    "def gcd_shift(a,b,res):\n",
    "    if a == b:\n",
    "        return a*res\n",
    "    if a%2 == 0 and b%2 == 0:\n",
    "        return gcd_shift(a//2,b//2,2*res)\n",
    "    if a%2 == 0:\n",
    "        return gcd_shift(a//2,b,res)\n",
    "    if b%2 == 0:\n",
    "        return gcd_shift(a,b//2,res)\n",
    "    if a>b:\n",
    "        return gcd_shift(a-b,b,res)\n",
    "    return gcd_shift(a,b-a,res)\n",
    "\n",
    "def gcd(a,b):\n",
    "    if max(a,b) > 10000:\n",
    "        return gcd_shift(a,b,1)\n",
    "    return gcd_not_shift(a,b) "
   ]
  },
  {
   "cell_type": "code",
   "execution_count": 42,
   "metadata": {},
   "outputs": [
    {
     "data": {
      "text/plain": [
       "15"
      ]
     },
     "execution_count": 42,
     "metadata": {},
     "output_type": "execute_result"
    }
   ],
   "source": [
    "gcd(15,75)"
   ]
  },
  {
   "cell_type": "code",
   "execution_count": 38,
   "metadata": {},
   "outputs": [],
   "source": [
    "def lcm(a,b):\n",
    "    return (a*b)//gcd(a,b)"
   ]
  },
  {
   "cell_type": "code",
   "execution_count": 41,
   "metadata": {},
   "outputs": [
    {
     "data": {
      "text/plain": [
       "20"
      ]
     },
     "execution_count": 41,
     "metadata": {},
     "output_type": "execute_result"
    }
   ],
   "source": [
    "lcm(5,20)"
   ]
  },
  {
   "cell_type": "markdown",
   "metadata": {},
   "source": [
    "### LCM of series of integers:\n",
    "lcm(a,b,c,d,e) = lcm(a,lcm(b,c,d,e)) and so on"
   ]
  },
  {
   "cell_type": "code",
   "execution_count": null,
   "metadata": {},
   "outputs": [],
   "source": []
  }
 ],
 "metadata": {
  "kernelspec": {
   "display_name": "Python 3",
   "language": "python",
   "name": "python3"
  },
  "language_info": {
   "codemirror_mode": {
    "name": "ipython",
    "version": 3
   },
   "file_extension": ".py",
   "mimetype": "text/x-python",
   "name": "python",
   "nbconvert_exporter": "python",
   "pygments_lexer": "ipython3",
   "version": "3.6.5"
  }
 },
 "nbformat": 4,
 "nbformat_minor": 2
}
