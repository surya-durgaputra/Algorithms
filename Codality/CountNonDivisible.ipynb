{
 "cells": [
  {
   "cell_type": "code",
   "execution_count": null,
   "metadata": {},
   "outputs": [],
   "source": []
  },
  {
   "cell_type": "code",
   "execution_count": 1,
   "metadata": {},
   "outputs": [],
   "source": [
    "def solution(A):\n",
    "    A_max = max(A)\n",
    "\n",
    "    divisors = {}\n",
    "    count = {}\n",
    "    for element in A:\n",
    "        divisors[element] = list(set([1,element]))\n",
    "        if element in count:\n",
    "            count[element] += 1\n",
    "        else:\n",
    "            count[element] = 1\n",
    "     \n",
    "    divisor = 2\n",
    "    while divisor*divisor <= A_max:\n",
    "        possible_divisor = divisor\n",
    "        while possible_divisor <= A_max:\n",
    "            if possible_divisor in A and (divisor not in divisors[possible_divisor]):\n",
    "                divisors[possible_divisor] += list(set([divisor,possible_divisor//divisor]))\n",
    "            possible_divisor += divisor\n",
    "        divisor += 1\n",
    "\n",
    "    A_set = set(A)\n",
    "    \n",
    "    result = [0]*len(A)\n",
    "    for index,element in enumerate(A):\n",
    "        result[index] = len(A) - sum([count.get(divisor,0) for divisor in divisors[element]])\n",
    "\n",
    "    return result"
   ]
  },
  {
   "cell_type": "code",
   "execution_count": 2,
   "metadata": {},
   "outputs": [
    {
     "data": {
      "text/plain": [
       "[2, 4, 3, 2, 0]"
      ]
     },
     "execution_count": 2,
     "metadata": {},
     "output_type": "execute_result"
    }
   ],
   "source": [
    "solution([3,1,2,3,6])"
   ]
  },
  {
   "cell_type": "code",
   "execution_count": null,
   "metadata": {},
   "outputs": [],
   "source": []
  }
 ],
 "metadata": {
  "kernelspec": {
   "display_name": "Python 3",
   "language": "python",
   "name": "python3"
  },
  "language_info": {
   "codemirror_mode": {
    "name": "ipython",
    "version": 3
   },
   "file_extension": ".py",
   "mimetype": "text/x-python",
   "name": "python",
   "nbconvert_exporter": "python",
   "pygments_lexer": "ipython3",
   "version": "3.6.5"
  }
 },
 "nbformat": 4,
 "nbformat_minor": 2
}
