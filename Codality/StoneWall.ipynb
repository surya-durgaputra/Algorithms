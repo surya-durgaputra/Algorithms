{
 "cells": [
  {
   "cell_type": "markdown",
   "metadata": {},
   "source": [
    "https://app.codility.com/programmers/lessons/7-stacks_and_queues/stone_wall/"
   ]
  },
  {
   "cell_type": "code",
   "execution_count": 1,
   "metadata": {},
   "outputs": [],
   "source": [
    "def solution(A):\n",
    "    stack = []\n",
    "    stones = 0\n",
    "    \n",
    "    #remove all stones higher than the current one from stack\n",
    "    #idea is to keep ordered array of stone heights in stack\n",
    "    #next lower stone than present means keep removing stones from stack until\n",
    "    #either same height is found - continue\n",
    "    #less height - break\n",
    "    for height in A:\n",
    "        while len(stack)>0 and stack[-1]>height:\n",
    "            stack.pop()\n",
    "        #if height same, continue\n",
    "        if len(stack)>0 and height==stack[-1]:\n",
    "            continue\n",
    "        #else, new stone needed\n",
    "        else:\n",
    "            stones += 1\n",
    "            stack.append(height)\n",
    "        \n",
    "    return stones"
   ]
  },
  {
   "cell_type": "code",
   "execution_count": 2,
   "metadata": {},
   "outputs": [
    {
     "data": {
      "text/plain": [
       "7"
      ]
     },
     "execution_count": 2,
     "metadata": {},
     "output_type": "execute_result"
    }
   ],
   "source": [
    "solution([8,8,5,7,9,8,7,4,8])"
   ]
  },
  {
   "cell_type": "code",
   "execution_count": null,
   "metadata": {},
   "outputs": [],
   "source": []
  }
 ],
 "metadata": {
  "kernelspec": {
   "display_name": "Python 3",
   "language": "python",
   "name": "python3"
  },
  "language_info": {
   "codemirror_mode": {
    "name": "ipython",
    "version": 3
   },
   "file_extension": ".py",
   "mimetype": "text/x-python",
   "name": "python",
   "nbconvert_exporter": "python",
   "pygments_lexer": "ipython3",
   "version": "3.6.5"
  }
 },
 "nbformat": 4,
 "nbformat_minor": 2
}
