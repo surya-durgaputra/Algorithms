{
 "cells": [
  {
   "cell_type": "markdown",
   "metadata": {},
   "source": [
    "https://medium.com/@codingfreak/binary-search-practice-problems-4c856cd9f26c\n",
    "\n",
    "# Q1) Find number of rotations in a circularly sorted array\n",
    "\n",
    "Given a circularly sorted array of integers, find the number of times the array is rotated. Assume there are no duplicates in the array and the rotation is in anti-clockwise direction.\n",
    "\n",
    "\n",
    "For example,\n",
    "\n",
    "\n",
    "Input: arr = [8, 9, 10, 2, 5, 6]\n",
    "\n",
    "Output: The array is rotated 3 times\n",
    " \n",
    "\n",
    "Input: arr = [2, 5, 6, 8, 9, 10]\n",
    "\n",
    "Output: The array is rotated 0 times\n",
    "\n",
    " \n",
    "\n",
    " \n",
    "If we carefully analyze the problem, we can see that\n",
    "\n",
    "Number of rotations = Number of elements before minimum element of the array or index of the minimum element.\n",
    "\n",
    " \n",
    "A simple solution would be to run a linear search on the array and find the index of the minimum element. The problem with this approach is that its worst case time complexity is O(n). This solution also do not take advantage of the fact that the input is circularly sorted.\n",
    "\n",
    "We can easily solve this problem in O(log(n)) time by modifying binary search algorithm. We have already reduced the problem to finding out the first element of the sorted sequence. The first element (Pivot) has one special property (lets call it pivot property) – both next and previous element of the pivot element are greater than it. No other element in the array will have this property except the pivot element. Since the array is circularly sorted,\n",
    "\n",
    "If pivot is the last element, then the first element will be considered as its next element.\n",
    " \n",
    "If pivot is the first element, then the last element will be considered as its previous element.\n",
    "We know that the mid element always divides the array into two sub-arrays and pivot element can lie only in one of these halves. It is worth noticing that at-least one of these sub-arrays will always be sorted. If mid happens to be the point of rotation (minimum element), then both left and right sub-arrays will be sorted but but in any case one half (sub-array) must be sorted and we will make use of this property to discard left half or the right half at each iteration of the binary search."
   ]
  },
  {
   "cell_type": "code",
   "execution_count": 4,
   "metadata": {},
   "outputs": [],
   "source": [
    "def q1(A):\n",
    "    begin = 0\n",
    "    N = len(A)\n",
    "    end = N-1\n",
    "    while(begin <= end):\n",
    "        #if the search space is alredy sorted, we have found the minimum element at index begin\n",
    "        if(A[begin]<=A[end]):\n",
    "            return begin\n",
    "        \n",
    "        mid = (begin + end)//2\n",
    "        \n",
    "        # find the next and previous element of the mid-element in circular manner\n",
    "        next_elem = (mid + 1)%N\n",
    "        prev_elem = (mid - 1 + N)%N\n",
    "        \n",
    "        #if the mid element is less than both the next and previous neighbors\n",
    "        # then it is the minimum element of the array\n",
    "        if(A[mid] <= min(A[next_elem],A[prev_elem])):\n",
    "            return mid\n",
    "        \n",
    "        #if A[mid..end] is sorted and mid is not the min element, then the \n",
    "        # pivot element cannot be present in A[mid..end] and we can discard \n",
    "        # A[mid..end] and search in A[begin..mid]\n",
    "        if(A[mid]<=A[end]):\n",
    "            end = mid -1\n",
    "        \n",
    "        #if A[begin..mid] is sorted and mid is not the min element, then the \n",
    "        # pivot element cannot be present in A[begin..mid] and we can discard \n",
    "        # A[begin..mid] and search in A[mid..end]\n",
    "        if(A[mid] >= A[begin]):\n",
    "           begin = mid + 1\n",
    "           \n",
    "        return -1"
   ]
  },
  {
   "cell_type": "code",
   "execution_count": 5,
   "metadata": {},
   "outputs": [
    {
     "data": {
      "text/plain": [
       "-1"
      ]
     },
     "execution_count": 5,
     "metadata": {},
     "output_type": "execute_result"
    }
   ],
   "source": [
    "q1([8,9,10,11,1,2,3,4,5,6,7])"
   ]
  },
  {
   "cell_type": "code",
   "execution_count": null,
   "metadata": {},
   "outputs": [],
   "source": []
  }
 ],
 "metadata": {
  "kernelspec": {
   "display_name": "Python 3",
   "language": "python",
   "name": "python3"
  },
  "language_info": {
   "codemirror_mode": {
    "name": "ipython",
    "version": 3
   },
   "file_extension": ".py",
   "mimetype": "text/x-python",
   "name": "python",
   "nbconvert_exporter": "python",
   "pygments_lexer": "ipython3",
   "version": "3.6.5"
  }
 },
 "nbformat": 4,
 "nbformat_minor": 2
}
