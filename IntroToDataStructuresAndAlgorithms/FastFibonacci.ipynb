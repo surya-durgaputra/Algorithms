{
 "cells": [
  {
   "cell_type": "code",
   "execution_count": 1,
   "metadata": {},
   "outputs": [],
   "source": [
    "# (Public) Returns F(n).\n",
    "def fibonacci(n):\n",
    "    if n < 0:\n",
    "        raise ValueError(\"Negative arguments not implemented\")\n",
    "    return _fib(n)[0]\n",
    "\n",
    "\n",
    "# (Private) Returns the tuple (F(n), F(n+1)).\n",
    "def _fib(n):\n",
    "    if n == 0:\n",
    "        return (0, 1)\n",
    "    else:\n",
    "        a, b = _fib(n // 2)\n",
    "        c = a * (b * 2 - a)\n",
    "        d = a * a + b * b\n",
    "        if n % 2 == 0:\n",
    "            return (c, d)\n",
    "        else:\n",
    "            return (d, c + d)"
   ]
  },
  {
   "cell_type": "code",
   "execution_count": 7,
   "metadata": {},
   "outputs": [
    {
     "data": {
      "text/plain": [
       "1346269"
      ]
     },
     "execution_count": 7,
     "metadata": {},
     "output_type": "execute_result"
    }
   ],
   "source": [
    "fibonacci(31)"
   ]
  },
  {
   "cell_type": "code",
   "execution_count": null,
   "metadata": {},
   "outputs": [],
   "source": []
  }
 ],
 "metadata": {
  "kernelspec": {
   "display_name": "Python 3",
   "language": "python",
   "name": "python3"
  },
  "language_info": {
   "codemirror_mode": {
    "name": "ipython",
    "version": 3
   },
   "file_extension": ".py",
   "mimetype": "text/x-python",
   "name": "python",
   "nbconvert_exporter": "python",
   "pygments_lexer": "ipython3",
   "version": "3.6.5"
  }
 },
 "nbformat": 4,
 "nbformat_minor": 2
}
