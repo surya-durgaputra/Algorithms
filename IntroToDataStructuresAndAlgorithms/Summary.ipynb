{
 "cells": [
  {
   "cell_type": "markdown",
   "metadata": {},
   "source": [
    "#### Accessing array elements through index is very fast. In fact, it is a constant time operation O(1)"
   ]
  },
  {
   "cell_type": "code",
   "execution_count": 8,
   "metadata": {},
   "outputs": [],
   "source": [
    "a = list([1,2,3,4])"
   ]
  },
  {
   "cell_type": "code",
   "execution_count": 9,
   "metadata": {},
   "outputs": [],
   "source": [
    "#a[1] = 2 : O(1)  implies constant time operation"
   ]
  },
  {
   "cell_type": "markdown",
   "metadata": {},
   "source": [
    "#### Bubble sort is the most inefficient: O($n^2$)\n",
    "#### Selection sort is slightly better than Bubble sort. Though worst case is still O($n^2$)\n",
    "#### Insertion sort is the best among the three. Though the worst case is still O($n^2$), for small lists its quite fase. For nearly ordered lists (needing few shifts), the time complexity is nearly linear at O($n$)"
   ]
  },
  {
   "cell_type": "markdown",
   "metadata": {},
   "source": [
    "### Searching and Deleting elements\n",
    "#### It takes O($n$) in the worst case to search for an element in an array (worst cases being, if we started at one end, the element being at the other end or not being in the array at all) \n",
    "#### It takes O($n$) in the worst case to delete an element in an array, because we need to first search for it"
   ]
  },
  {
   "cell_type": "markdown",
   "metadata": {},
   "source": [
    "#### For ordered arrays, when we do binary search to look for an element, the equation becomes\n",
    "- First Search: n (check the middle item)\n",
    "- Second Search: $\\frac{n}{2}$ (check the middle term, but the array size is n/2)\n",
    "- Third Search: $\\frac{n}{4}$ (check the middle term, but the array size is n/4)\n",
    "- \n",
    "- \n",
    "- \n",
    "- $(i-1)^{th}$ Search: $2$ (check the middle term, but the array size is 2)\n",
    "- $i^{th}$ Search: $1$ = $\\frac{n}{2^{i-1}}$ (check the middle term, but the array size is 1)"
   ]
  },
  {
   "cell_type": "markdown",
   "metadata": {},
   "source": [
    "So we now just have to solve this equation to find the number of steps needed for a given n\n",
    "\n",
    "$1$ = $\\frac{n}{2^{i-1}}$\n",
    "\n",
    "$2^{i-1}=n$\n",
    "\n",
    "$(i-1)=log_{2}n$"
   ]
  },
  {
   "cell_type": "markdown",
   "metadata": {},
   "source": [
    "### Hence, Search in an Ordered array or list:\n",
    " #### for a given n, time complexity of a binary search is O($log_{2}n$)\n",
    " #### O($log_{2}n$) algorithms are really fast\n",
    "     - for n=2, steps = 1\n",
    "     - for n=1024, steps = 10\n",
    "     - for n=1048576(million), steps = 20\n",
    "     - for n= $2^{40}$ (1 trillion), steps = 40"
   ]
  },
  {
   "cell_type": "markdown",
   "metadata": {},
   "source": [
    "### Insert in an Ordered array or list\n",
    "#### since, we need to search before insertion (so that the resulting array is sorted as well)... O($log_{2}n$)\n",
    "#### since, we need to shift the rest of array after insertion.... O($n$)\n",
    "#### so total order of time complexity in Insertion in a sorted array ... O($n$) "
   ]
  },
  {
   "cell_type": "markdown",
   "metadata": {},
   "source": [
    "### Delete in an Ordered array or list\n",
    "#### since, we need to search the element before deletion ... O($log_{2}n$)\n",
    "#### since, we need to shift the rest of array after deletion.... O($n$)\n",
    "#### so total order of time complexity in Deletion in a sorted array ... O($n$)"
   ]
  },
  {
   "cell_type": "code",
   "execution_count": null,
   "metadata": {},
   "outputs": [],
   "source": []
  }
 ],
 "metadata": {
  "kernelspec": {
   "display_name": "Python 3",
   "language": "python",
   "name": "python3"
  },
  "language_info": {
   "codemirror_mode": {
    "name": "ipython",
    "version": 3
   },
   "file_extension": ".py",
   "mimetype": "text/x-python",
   "name": "python",
   "nbconvert_exporter": "python",
   "pygments_lexer": "ipython3",
   "version": "3.6.5"
  }
 },
 "nbformat": 4,
 "nbformat_minor": 2
}
