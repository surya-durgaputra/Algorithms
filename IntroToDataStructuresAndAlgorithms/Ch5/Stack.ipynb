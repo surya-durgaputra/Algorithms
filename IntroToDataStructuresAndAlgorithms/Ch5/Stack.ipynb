{
 "cells": [
  {
   "cell_type": "markdown",
   "metadata": {},
   "source": [
    "#### Both Stcks and Queues are abstract data-structures implemented using arrays or linked-lists. Abstract meaning they really dont exist and are conceptual, while arrays and linked lists actually exist."
   ]
  },
  {
   "cell_type": "markdown",
   "metadata": {},
   "source": [
    "#### Three major operations in stacks\n",
    "- PUSH : put an element at the top of the stack\n",
    "- POP: remove an element from the top of the stack\n",
    "- PEEK: get the topmost stack element without popping (removing) it\n",
    "- Push, Pop, Peek are all constant time operations since doing either does not depend on the size of the stack\n",
    "- Stacks are LIFO\n",
    "- We do all three operations in a stack using arrays by using a variable called pointer. For an empty stack (empty array), this pointer value is -1. \n",
    "    - When we push an element, what we really do is increment the pointer value by one and then write the new value at position in the array indexed by pointer. \n",
    "    - For popping, wesimply decrement the pointer. The prev value in stack get garbage collected as there is no reference to it.\n",
    "    - For peek, we return the value in array indexed by pointer. "
   ]
  },
  {
   "cell_type": "code",
   "execution_count": null,
   "metadata": {},
   "outputs": [],
   "source": []
  }
 ],
 "metadata": {
  "kernelspec": {
   "display_name": "Python 3",
   "language": "python",
   "name": "python3"
  },
  "language_info": {
   "codemirror_mode": {
    "name": "ipython",
    "version": 3
   },
   "file_extension": ".py",
   "mimetype": "text/x-python",
   "name": "python",
   "nbconvert_exporter": "python",
   "pygments_lexer": "ipython3",
   "version": "3.6.5"
  }
 },
 "nbformat": 4,
 "nbformat_minor": 2
}
