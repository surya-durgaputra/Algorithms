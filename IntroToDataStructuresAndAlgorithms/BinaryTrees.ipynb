{
 "cells": [
  {
   "cell_type": "markdown",
   "metadata": {},
   "source": [
    "#### Binary trees have these properties:\n",
    "- Binary tree itself has just one attribute: root\n",
    "    - root points to the node at the rood\n",
    "- nodes in a binary tree have:\n",
    "    - data\n",
    "    - leftChild pointer (points to child node at left)\n",
    "    - rightChild pointer (points to child node at right)\n",
    "- each node has only one path leading to it\n",
    "- binary tree can only be traversed downwards\n",
    "- in real life, binary trees are sorted binary trees\n",
    "    - leftChild is lower in value\n",
    "    - rightChild is higher in value\n",
    "- binary trees can be traversed in depth first or breadth first order\n",
    "- Depth first search has 3 flavors - in-order, pre-order and post-order\n",
    "- Pre-order traversal:\n",
    "    - Start at the root\n",
    "    - Check if current node is empty/null\n",
    "    - Display the data part of the node\n",
    "    - traverse the left subtree by recursively calling the pre-order function\n",
    "    - traverse the right subtree by recursively calling the pre-order function"
   ]
  },
  {
   "cell_type": "code",
   "execution_count": 97,
   "metadata": {},
   "outputs": [],
   "source": [
    "class Node:\n",
    "    def __init__(self,data):\n",
    "        self.data = data\n",
    "        self.left_child = None\n",
    "        self.right_child = None\n",
    "        \n",
    "    def find(self,data):\n",
    "        if self.data == data:\n",
    "            return self\n",
    "        \n",
    "        if (data < self.data) and self.left_child:\n",
    "            return self.left_child.find(data)\n",
    "        \n",
    "        if self.right_child:\n",
    "            return self.right_child.find(data)\n",
    "        \n",
    "        return None\n",
    "    \n",
    "    def insert(self,data):\n",
    "        if self.data > data:\n",
    "            if self.left_child:\n",
    "                self.left_child.insert(data)\n",
    "            else:\n",
    "                self.left_child = Node(data)\n",
    "        else:\n",
    "            if self.right_child:\n",
    "                self.right_child.insert(data)\n",
    "            else:\n",
    "                self.right_child = Node(data)\n",
    "                \n",
    "    def height(self):\n",
    "        if self.is_leaf():\n",
    "            return 1\n",
    "        \n",
    "        left = 0; right = 0\n",
    "        \n",
    "        if self.left_child is not None:\n",
    "            left = self.left_child.height()\n",
    "        \n",
    "        if self.right_child is not None:\n",
    "            right = self.right_child.height()\n",
    "        \n",
    "        return (left + 1) if (left > right) else right + 1\n",
    "        \n",
    "    def is_leaf(self):\n",
    "        if (self.left_child is None) and (self.right_child is None):\n",
    "            return True\n",
    "        \n",
    "        return False\n",
    "                \n",
    "    def __str__(self):\n",
    "        return str(self.data)\n",
    "        "
   ]
  },
  {
   "cell_type": "code",
   "execution_count": 92,
   "metadata": {},
   "outputs": [],
   "source": [
    "class BinaryTree:\n",
    "    def __init__(self,root=None):\n",
    "        \n",
    "        if root:\n",
    "            self.root = Node(root)\n",
    "        else:\n",
    "            self.root = None\n",
    "        \n",
    "    def preorder_print(self,start,traversal,direction=' root '):\n",
    "        if start: #checking if node is not null\n",
    "            traversal += direction + str(start.data) + '-'\n",
    "            traversal =  self.preorder_print(start.left_child, traversal,' left ')\n",
    "            traversal =  self.preorder_print(start.right_child, traversal,' right ')\n",
    "            \n",
    "        return traversal\n",
    "    \n",
    "    def find(self,data):\n",
    "        if self.root:\n",
    "            return self.root.find(data)\n",
    "        \n",
    "        return None\n",
    "    \n",
    "    def insert(self,data):\n",
    "        if self.root:\n",
    "            return self.root.insert(data)\n",
    "        else:\n",
    "            self.root = Node(data)\n",
    "    \n",
    "    def height(self):\n",
    "        if self.root:\n",
    "            return self.root.height()\n",
    "        \n",
    "        return 0\n",
    "    \n",
    "    def __str__(self):\n",
    "        return self.preorder_print(self.root,'')"
   ]
  },
  {
   "cell_type": "code",
   "execution_count": 93,
   "metadata": {},
   "outputs": [],
   "source": [
    "tree = BinaryTree()\n",
    "tree.insert(3)\n",
    "tree.insert(6)\n",
    "tree.insert(7)\n",
    "tree.insert(1)"
   ]
  },
  {
   "cell_type": "code",
   "execution_count": 94,
   "metadata": {},
   "outputs": [
    {
     "name": "stdout",
     "output_type": "stream",
     "text": [
      " root 3- left 1- right 6- right 7-\n"
     ]
    }
   ],
   "source": [
    "print(tree)"
   ]
  },
  {
   "cell_type": "code",
   "execution_count": 95,
   "metadata": {},
   "outputs": [
    {
     "name": "stdout",
     "output_type": "stream",
     "text": [
      "3\n"
     ]
    }
   ],
   "source": [
    "f = tree.find(3)\n",
    "print(f)"
   ]
  },
  {
   "cell_type": "code",
   "execution_count": 96,
   "metadata": {},
   "outputs": [
    {
     "data": {
      "text/plain": [
       "3"
      ]
     },
     "execution_count": 96,
     "metadata": {},
     "output_type": "execute_result"
    }
   ],
   "source": [
    "tree.height()"
   ]
  },
  {
   "cell_type": "code",
   "execution_count": 19,
   "metadata": {},
   "outputs": [],
   "source": [
    "tree.root.insert(3,tree.root)"
   ]
  },
  {
   "cell_type": "code",
   "execution_count": 20,
   "metadata": {},
   "outputs": [],
   "source": [
    "tree.root.insert(2,tree.root)"
   ]
  },
  {
   "cell_type": "code",
   "execution_count": 21,
   "metadata": {},
   "outputs": [],
   "source": [
    "tree.root.insert(1,tree.root)"
   ]
  },
  {
   "cell_type": "code",
   "execution_count": 22,
   "metadata": {},
   "outputs": [
    {
     "name": "stdout",
     "output_type": "stream",
     "text": [
      "5-4-3-2-1-\n"
     ]
    }
   ],
   "source": [
    "print(tree)"
   ]
  },
  {
   "cell_type": "code",
   "execution_count": 23,
   "metadata": {},
   "outputs": [],
   "source": [
    "tree.root.insert(6,tree.root)"
   ]
  },
  {
   "cell_type": "code",
   "execution_count": 24,
   "metadata": {},
   "outputs": [],
   "source": [
    "tree.root.insert(7,tree.root)"
   ]
  },
  {
   "cell_type": "code",
   "execution_count": 25,
   "metadata": {},
   "outputs": [
    {
     "name": "stdout",
     "output_type": "stream",
     "text": [
      "5-4-3-2-1-6-7-\n"
     ]
    }
   ],
   "source": [
    "print(tree)"
   ]
  },
  {
   "cell_type": "code",
   "execution_count": null,
   "metadata": {},
   "outputs": [],
   "source": []
  }
 ],
 "metadata": {
  "kernelspec": {
   "display_name": "Python 3",
   "language": "python",
   "name": "python3"
  },
  "language_info": {
   "codemirror_mode": {
    "name": "ipython",
    "version": 3
   },
   "file_extension": ".py",
   "mimetype": "text/x-python",
   "name": "python",
   "nbconvert_exporter": "python",
   "pygments_lexer": "ipython3",
   "version": "3.6.5"
  }
 },
 "nbformat": 4,
 "nbformat_minor": 2
}
