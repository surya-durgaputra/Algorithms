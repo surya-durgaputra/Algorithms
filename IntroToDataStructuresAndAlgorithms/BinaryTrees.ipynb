{
 "cells": [
  {
   "cell_type": "markdown",
   "metadata": {},
   "source": [
    "#### Binary trees have these properties:\n",
    "- Binary tree itself has just one attribute: root\n",
    "    - root points to the node at the rood\n",
    "- nodes in a binary tree have:\n",
    "    - data\n",
    "    - leftChild pointer (points to child node at left)\n",
    "    - rightChild pointer (points to child node at right)\n",
    "- each node has only one path leading to it\n",
    "- binary tree can only be traversed downwards\n",
    "- in real life, binary trees are sorted binary trees\n",
    "    - leftChild is lower in value\n",
    "    - rightChild is higher in value"
   ]
  },
  {
   "cell_type": "code",
   "execution_count": 1,
   "metadata": {},
   "outputs": [],
   "source": [
    "class TreeNode:\n",
    "    def __init__(self,data):\n",
    "        self.data = data\n",
    "        self.left_child = None\n",
    "        self.right_child = None\n",
    "    \n",
    "    def add_child_node(self,node):\n",
    "        if self.data < node.data:\n",
    "            self.left_child = node\n",
    "        else:\n",
    "            self.right_child = node\n",
    "    \n",
    "    def is_leaf_node(self):\n",
    "        return (node.left_child is not None) or (node.right_child is not None)"
   ]
  },
  {
   "cell_type": "code",
   "execution_count": null,
   "metadata": {},
   "outputs": [],
   "source": [
    "class BinaryTree:\n",
    "    def __init__(self):\n",
    "        self.root = none\n",
    "\n",
    "    def __str__(self):\n",
    "        \n",
    "    \n",
    "    def traverse(node):\n",
    "        if(node.left_child is not None) or (node.right_child is not None):\n",
    "            "
   ]
  }
 ],
 "metadata": {
  "kernelspec": {
   "display_name": "Python 3",
   "language": "python",
   "name": "python3"
  },
  "language_info": {
   "codemirror_mode": {
    "name": "ipython",
    "version": 3
   },
   "file_extension": ".py",
   "mimetype": "text/x-python",
   "name": "python",
   "nbconvert_exporter": "python",
   "pygments_lexer": "ipython3",
   "version": "3.6.5"
  }
 },
 "nbformat": 4,
 "nbformat_minor": 2
}
