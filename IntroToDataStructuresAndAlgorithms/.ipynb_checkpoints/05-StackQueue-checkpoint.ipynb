{
 "cells": [
  {
   "cell_type": "markdown",
   "metadata": {},
   "source": [
    "#### Both Stcks and Queues are abstract data-structures implemented using arrays or linked-lists. Abstract meaning they really dont exist and are conceptual, while arrays and linked lists actually exist."
   ]
  },
  {
   "cell_type": "markdown",
   "metadata": {},
   "source": [
    "#### Three major operations in stacks\n",
    "- PUSH : put an element at the top of the stack\n",
    "- POP: remove an element from the top of the stack\n",
    "- PEEK: get the topmost stack element without popping (removing) it\n",
    "- Push, Pop, Peek are all constant time operations O(1) since doing either does not depend on the size of the stack\n",
    "- Stacks are LIFO\n",
    "- We do all three operations in a stack using arrays by using a variable called pointer. For an empty stack (empty array), this pointer value is -1. \n",
    "    - When we push an element, what we really do is increment the pointer value by one and then write the new value at position in the array indexed by pointer. \n",
    "    - For popping, wesimply decrement the pointer. The prev value in stack get garbage collected as there is no reference to it.\n",
    "    - For peek, we return the value in array indexed by pointer. "
   ]
  },
  {
   "cell_type": "markdown",
   "metadata": {},
   "source": [
    "#### Three major operations in Queues\n",
    "- Enqueue: put the new item at the tail end of the queue\n",
    "- Dequeue: remove an item from the head of the queue\n",
    "- Peek: get the item at the head of the queue without dequeue it\n",
    "- Enqueue, Dequeue and Peek are all constant time operations O(1) since doing either does not depend on the size of the queue\n",
    "- Queues are FIFO\n",
    "- We do all three operations in a queue by using array and two variables called head and tail. For empty queue, head and tail both are set to -1\n",
    "- When adding (enqueue) the very first element to queue, we increment both head and tail to 0.\n",
    "- When adding (enqueue) subsequent elements to queue, we only increment tail by one and put the new item at the location indexed by tail.\n",
    "- When removing (dequeue) an element, we return the element at the head index and increment the head by one.The old value will automatically get garbage collected as nothing refers to it\n",
    "- When we add (enqueue) items when the tail has reached the end of the array, we check if there are empty spaces in the queue (there will be if some elements have been dequeued. space = abs(head-tail) < length_of_array)\n",
    "    - if space is true: we reset tail to 0 and add the new element at the position indexed by tail. This kind of queue, where we reset the tail to 0 after it has reached the end, is called a CIRCULAR QUEUE (because the tail traverses in a circle to come back to the position it started)\n",
    "    - subsequent adds (enqueue) keep incrementing tail."
   ]
  },
  {
   "cell_type": "code",
   "execution_count": null,
   "metadata": {},
   "outputs": [],
   "source": [
    "class Stack:\n",
    "    def __init__(self, size=100):\n",
    "        "
   ]
  }
 ],
 "metadata": {
  "kernelspec": {
   "display_name": "Python 3",
   "language": "python",
   "name": "python3"
  },
  "language_info": {
   "codemirror_mode": {
    "name": "ipython",
    "version": 3
   },
   "file_extension": ".py",
   "mimetype": "text/x-python",
   "name": "python",
   "nbconvert_exporter": "python",
   "pygments_lexer": "ipython3",
   "version": "3.6.5"
  }
 },
 "nbformat": 4,
 "nbformat_minor": 2
}
