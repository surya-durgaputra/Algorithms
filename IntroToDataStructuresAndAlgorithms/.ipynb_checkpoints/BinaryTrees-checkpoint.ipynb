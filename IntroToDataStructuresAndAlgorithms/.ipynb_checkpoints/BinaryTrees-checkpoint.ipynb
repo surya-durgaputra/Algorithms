{
 "cells": [
  {
   "cell_type": "markdown",
   "metadata": {},
   "source": [
    "#### Binary trees have these properties:\n",
    "- Binary tree itself has just one attribute: root\n",
    "    - root points to the node at the rood\n",
    "- nodes in a binary tree have:\n",
    "    - data\n",
    "    - leftChild pointer (points to child node at left)\n",
    "    - rightChild pointer (points to child node at right)\n",
    "- each node has only one path leading to it\n",
    "- binary tree can only be traversed downwards\n",
    "- in real life, binary trees are sorted binary trees\n",
    "    - leftChild is lower in value\n",
    "    - rightChild is higher in value\n",
    "- binary trees can be traversed in depth first or breadth first order\n",
    "- Depth first search has 3 flavors - in-order, pre-order and post-order\n",
    "- Pre-order traversal:\n",
    "    - Start at the root\n",
    "    - Check if current node is empty/null\n",
    "    - Display the data part of the node\n",
    "    - traverse the left subtree by recursively calling the pre-order function\n",
    "    - traverse the right subtree by recursively calling the pre-order function"
   ]
  },
  {
   "cell_type": "code",
   "execution_count": 8,
   "metadata": {},
   "outputs": [],
   "source": [
    "class Node:\n",
    "    def __init__(self,data):\n",
    "        self.data = data\n",
    "        self.left_child = None\n",
    "        self.right_child = None\n",
    "    "
   ]
  },
  {
   "cell_type": "code",
   "execution_count": 20,
   "metadata": {},
   "outputs": [],
   "source": [
    "class BinaryTree:\n",
    "    def __init__(self, root):\n",
    "        self.root = TreeNode(root)\n",
    "        self.size = 0\n",
    "        \n",
    "    def preorder_print(self,start,traversal):\n",
    "        if start: #checking if node is not null\n",
    "            traversal += str(start.data) + '-'\n",
    "            traversal = self.preorder_print(start.left_child, traversal)\n",
    "            traversal = self.preorder_print(start.right_child, traversal)\n",
    "        return traversal\n",
    "    \n",
    "    def __str__(self):\n",
    "        return self.preorder_print(self.root,'')"
   ]
  },
  {
   "cell_type": "code",
   "execution_count": 21,
   "metadata": {},
   "outputs": [],
   "source": [
    "tree = BinaryTree(1)\n",
    "tree.root.left_child = Node(2)\n",
    "tree.root.right_child = Node(3)\n",
    "tree.root.left_child.left_child = Node(4)\n",
    "tree.root.left_child.right_child = Node(5)\n",
    "tree.root.right_child.left_child = Node(6)\n",
    "tree.root.right_child.right_child = Node(7)"
   ]
  },
  {
   "cell_type": "code",
   "execution_count": 22,
   "metadata": {},
   "outputs": [
    {
     "name": "stdout",
     "output_type": "stream",
     "text": [
      "1-2-4-5-3-6-7-\n"
     ]
    }
   ],
   "source": [
    "print(tree)"
   ]
  },
  {
   "cell_type": "code",
   "execution_count": null,
   "metadata": {},
   "outputs": [],
   "source": []
  }
 ],
 "metadata": {
  "kernelspec": {
   "display_name": "Python 3",
   "language": "python",
   "name": "python3"
  },
  "language_info": {
   "codemirror_mode": {
    "name": "ipython",
    "version": 3
   },
   "file_extension": ".py",
   "mimetype": "text/x-python",
   "name": "python",
   "nbconvert_exporter": "python",
   "pygments_lexer": "ipython3",
   "version": "3.6.5"
  }
 },
 "nbformat": 4,
 "nbformat_minor": 2
}
