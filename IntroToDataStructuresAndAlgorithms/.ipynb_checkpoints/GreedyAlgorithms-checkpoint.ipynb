{
 "cells": [
  {
   "cell_type": "markdown",
   "metadata": {},
   "source": [
    "https://codility.com/media/train/14-GreedyAlgorithms.pdf\n",
    "    \n",
    "    \n",
    "The Coin Changing problem\n",
    "For a given set of denominations, you are asked to find the minimum number of coins with\n",
    "which a given amount of money can be paid. That problem can be approached by a greedy\n",
    "algorithm that always selects the largest denomination not exceeding the remaining amount\n",
    "of money to be paid. As long as the remaining amount is greater than zero, the process is\n",
    "repeated.\n",
    "A correct algorithm should always return the minimum number of coins. It turns out\n",
    "that the greedy algorithm is correct for only some denomination selections, but not for all.\n",
    "For example, for coins of values 1, 2 and 5 the algorithm returns the optimal number of\n",
    "coins for each amount of money, but for coins of values 1, 3 and 4 the algorithm may return\n",
    "a suboptimal result. An amount of 6 will be paid with three coins: 4, 1 and 1 by using the\n",
    "greedy algorithm. The optimal number of coins is actually only two: 3 and 3.\n",
    "Consider n denominations 0 < m0 ¬ m1 ¬ . . . ¬ mn−1 and the amount k to be paid.\n"
   ]
  },
  {
   "cell_type": "code",
   "execution_count": null,
   "metadata": {},
   "outputs": [],
   "source": [
    "def greedy(M,k):\n",
    "    n = len(M)\n",
    "    result = []\n",
    "    for i in range(n-1,-1,-1):\n",
    "        result += [(M[i],k//M[i])]\n",
    "        k %= M[i]\n",
    "    return result\n",
    "\n",
    "print(greedy([1,3,4],6))"
   ]
  }
 ],
 "metadata": {
  "kernelspec": {
   "display_name": "Python 3",
   "language": "python",
   "name": "python3"
  },
  "language_info": {
   "codemirror_mode": {
    "name": "ipython",
    "version": 3
   },
   "file_extension": ".py",
   "mimetype": "text/x-python",
   "name": "python",
   "nbconvert_exporter": "python",
   "pygments_lexer": "ipython3",
   "version": "3.6.5"
  }
 },
 "nbformat": 4,
 "nbformat_minor": 2
}
