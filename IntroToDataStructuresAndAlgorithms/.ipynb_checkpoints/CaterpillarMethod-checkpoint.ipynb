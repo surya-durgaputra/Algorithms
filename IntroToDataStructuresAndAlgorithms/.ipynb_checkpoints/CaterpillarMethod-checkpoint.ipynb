{
 "cells": [
  {
   "cell_type": "code",
   "execution_count": null,
   "metadata": {},
   "outputs": [],
   "source": [
    "https://codility.com/media/train/13-CaterpillarMethod.pdf"
   ]
  },
  {
   "cell_type": "code",
   "execution_count": null,
   "metadata": {},
   "outputs": [],
   "source": [
    "def caterpillar_method(A,s):\n",
    "    n = len(A)\n",
    "    front,total = 0,0\n",
    "    for back in range(n):\n",
    "        while total+A[front] <= s:\n",
    "            total += A[front]\n",
    "            front += 1\n",
    "        if total == s:\n",
    "            return True\n",
    "\n",
    "        total -= A[back]\n",
    "    return False\n",
    "\n",
    "print(caterpillar_method([1,2,3,4],6))"
   ]
  }
 ],
 "metadata": {
  "kernelspec": {
   "display_name": "Python 3",
   "language": "python",
   "name": "python3"
  },
  "language_info": {
   "codemirror_mode": {
    "name": "ipython",
    "version": 3
   },
   "file_extension": ".py",
   "mimetype": "text/x-python",
   "name": "python",
   "nbconvert_exporter": "python",
   "pygments_lexer": "ipython3",
   "version": "3.6.5"
  }
 },
 "nbformat": 4,
 "nbformat_minor": 2
}
