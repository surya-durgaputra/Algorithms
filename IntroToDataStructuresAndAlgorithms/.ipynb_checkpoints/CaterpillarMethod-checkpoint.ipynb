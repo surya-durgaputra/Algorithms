{
 "cells": [
  {
   "cell_type": "code",
   "execution_count": null,
   "metadata": {},
   "outputs": [],
   "source": [
    "https://codility.com/media/train/13-CaterpillarMethod.pdf"
   ]
  },
  {
   "cell_type": "code",
   "execution_count": 1,
   "metadata": {},
   "outputs": [
    {
     "name": "stdout",
     "output_type": "stream",
     "text": [
      "True\n"
     ]
    }
   ],
   "source": [
    "def caterpillar_method(A,s):\n",
    "    n = len(A)\n",
    "    front,total = 0,0\n",
    "    for back in range(n):\n",
    "        while total+A[front] <= s:\n",
    "            total += A[front]\n",
    "            front += 1\n",
    "        if total == s:\n",
    "            return True\n",
    "\n",
    "        total -= A[back]\n",
    "    return False\n",
    "\n",
    "print(caterpillar_method([1,2,3,4],6))"
   ]
  },
  {
   "cell_type": "markdown",
   "metadata": {},
   "source": [
    "#### Problem: \n",
    "Given an unsorted array of positive integers. Find the number of triangles that can be formed with three different array elements as three sides of triangles. For a triangle to be possible from 3 values, the sum of any two values (or sides) must be greater than the third value (or third side).\n",
    "For example, if the input array is {4, 6, 3, 7}, the output should be 3. There are three triangles possible {3, 4, 6}, {4, 6, 7} and {3, 6, 7}. Note that {3, 4, 7} is not a possible triangle.\n",
    "As another example, consider the array {10, 21, 22, 100, 101, 200, 300}. There can be 6 possible triangles: {10, 21, 22}, {21, 100, 101}, {22, 100, 101}, {10, 100, 101}, {100, 101, 200} and {101, 200, 300}"
   ]
  },
  {
   "cell_type": "markdown",
   "metadata": {},
   "source": [
    "##### Method 1 (Brute force)\n",
    "The brute force method is to run three loops and keep track of the number of triangles possible so far. The three loops select three different values from array, the innermost loop checks for the triangle property ( the sum of any two sides must be greater than the value of third side).\n",
    "\n",
    "Time Complexity: O(N^3) where N is the size of input array.\n",
    "\n",
    "##### Method 2 (Tricky and Efficient)\n",
    "Let a, b and c be three sides. The below condition must hold for a triangle (Sum of two sides is greater than the third side)\n",
    "i) a + b > c\n",
    "ii) b + c > a\n",
    "iii) a + c > b\n",
    "\n",
    "Following are steps to count triangle.\n",
    "\n",
    "1. Sort the array in non-decreasing order.\n",
    "\n",
    "2. Initialize two pointers ‘i’ and ‘j’ to first and second elements respectively, and initialize count of triangles as 0.\n",
    "\n",
    "3. Fix ‘i’ and ‘j’ and find the rightmost index ‘k’ (or largest ‘arr[k]’) such that ‘arr[i] + arr[j] > arr[k]’. The number of triangles that can be formed with ‘arr[i]’ and ‘arr[j]’ as two sides is ‘k – j’. Add ‘k – j’ to count of triangles.\n",
    "\n",
    "Let us consider ‘arr[i]’ as ‘a’, ‘arr[j]’ as b and all elements between ‘arr[j+1]’ and ‘arr[k]’ as ‘c’. The above mentioned conditions (ii) and (iii) are satisfied because ‘arr[i] < arr[j] < arr[k]'. And we check for condition (i) when we pick 'k'\n",
    "\n",
    "4. Increment ‘j’ to fix the second element again.\n",
    "\n",
    "Note that in step 3, we can use the previous value of ‘k’. The reason is simple, if we know that the value of ‘arr[i] + arr[j-1]’ is greater than ‘arr[k]’, then we can say ‘arr[i] + arr[j]’ will also be greater than ‘arr[k]’, because the array is sorted in increasing order.\n",
    "\n",
    "5. If ‘j’ has reached end, then increment ‘i’. Initialize ‘j’ as ‘i + 1’, ‘k’ as ‘i+2’ and repeat the steps 3 and 4.\n",
    "\n",
    "Following is implementation of the above approach."
   ]
  },
  {
   "cell_type": "code",
   "execution_count": 3,
   "metadata": {},
   "outputs": [
    {
     "name": "stdout",
     "output_type": "stream",
     "text": [
      "Number of Triangles: 6\n"
     ]
    }
   ],
   "source": [
    "def findnumberofTriangles(arr): \n",
    "  \n",
    "    # Sort array and initialize count as 0 \n",
    "    n = len(arr) \n",
    "    arr.sort() \n",
    "    count = 0\n",
    "  \n",
    "    # Fix the first element. We need to run till n-3 as \n",
    "    # the other two elements are selected from arr[i+1...n-1] \n",
    "    for i in range(0,n-2): \n",
    "  \n",
    "        # Initialize index of the rightmost third element \n",
    "        k = i + 2\n",
    "  \n",
    "        # Fix the second element \n",
    "        for j in range(i+1,n): \n",
    "  \n",
    "            # Find the rightmost element which is smaller \n",
    "            # than the sum of two fixed elements \n",
    "            # The important thing to note here is, we use \n",
    "            # the previous value of k. If value of arr[i] + \n",
    "            # arr[j-1] was greater than arr[k], then arr[i] + \n",
    "            # arr[j] must be greater than k, because the array \n",
    "            # is sorted. \n",
    "            while (k < n and arr[i] + arr[j] > arr[k]): \n",
    "                k += 1\n",
    "  \n",
    "            # Total number of possible triangles that can be \n",
    "            # formed with the two fixed elements is k - j - 1. \n",
    "            # The two fixed elements are arr[i] and arr[j]. All \n",
    "            # elements between arr[j+1] to arr[k-1] can form a \n",
    "            # triangle with arr[i] and arr[j]. One is subtracted \n",
    "            # from k because k is incremented one extra in above \n",
    "            # while loop. k will always be greater than j. If j \n",
    "            # becomes equal to k, then above loop will increment k, \n",
    "            # because arr[k] + arr[i] is always greater than arr[k] \n",
    "            if(k>j): \n",
    "                count += k - j - 1\n",
    "  \n",
    "    return count \n",
    "  \n",
    "# Driver function to test above function \n",
    "arr = [10, 21, 22, 100, 101, 200, 300] \n",
    "print(\"Number of Triangles:\",findnumberofTriangles(arr)) "
   ]
  },
  {
   "cell_type": "code",
   "execution_count": null,
   "metadata": {},
   "outputs": [],
   "source": []
  }
 ],
 "metadata": {
  "kernelspec": {
   "display_name": "Python 3",
   "language": "python",
   "name": "python3"
  },
  "language_info": {
   "codemirror_mode": {
    "name": "ipython",
    "version": 3
   },
   "file_extension": ".py",
   "mimetype": "text/x-python",
   "name": "python",
   "nbconvert_exporter": "python",
   "pygments_lexer": "ipython3",
   "version": "3.6.5"
  }
 },
 "nbformat": 4,
 "nbformat_minor": 2
}
