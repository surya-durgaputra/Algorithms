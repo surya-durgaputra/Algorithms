{
 "cells": [
  {
   "cell_type": "markdown",
   "metadata": {},
   "source": [
    "video tutorial of the code: https://www.youtube.com/watch?v=0Zsabo7ires\n",
    "\n",
    "github location: https://github.com/minsuk-heo/problemsolving/blob/master/graph/dfs.py"
   ]
  },
  {
   "cell_type": "code",
   "execution_count": null,
   "metadata": {},
   "outputs": [],
   "source": [
    "vertexList = ['0', '1', '2', '3', '4', '5', '6']\n",
    "edgeList = [(0,1), (0,2), (1,0) , (1,3) , (2,0) , (2,4) , (2,5) , (3,1), (4,2) , (4,6), (5,2), (6,4)]\n",
    "graphs = (vertexList, edgeList)\n",
    "\n",
    "def dfs(graph, start):\n",
    "    vertexList, edgeList = graph\n",
    "    visitedVertex = []\n",
    "    stack = [start]\n",
    "    adjacencyList = [[] for vertex in vertexList]\n",
    "\n",
    "    for edge in edgeList:\n",
    "        adjacencyList[edge[0]].append(edge[1])\n",
    "\n",
    "    while stack:\n",
    "        current = stack.pop()\n",
    "        for neighbor in adjacencyList[current]:\n",
    "            if not neighbor in visitedVertex:\n",
    "                stack.append(neighbor)\n",
    "        visitedVertex.append(current)\n",
    "    return visitedVertex\n",
    "\n",
    "print(dfs(graphs, 0))"
   ]
  }
 ],
 "metadata": {
  "kernelspec": {
   "display_name": "Python 3",
   "language": "python",
   "name": "python3"
  },
  "language_info": {
   "codemirror_mode": {
    "name": "ipython",
    "version": 3
   },
   "file_extension": ".py",
   "mimetype": "text/x-python",
   "name": "python",
   "nbconvert_exporter": "python",
   "pygments_lexer": "ipython3",
   "version": "3.6.5"
  }
 },
 "nbformat": 4,
 "nbformat_minor": 2
}
