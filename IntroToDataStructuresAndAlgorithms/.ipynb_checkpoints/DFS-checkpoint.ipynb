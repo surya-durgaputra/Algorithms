{
 "cells": [
  {
   "cell_type": "markdown",
   "metadata": {},
   "source": [
    "video tutorial of the code: https://www.youtube.com/watch?v=0Zsabo7ires\n",
    "\n",
    "github location: https://github.com/minsuk-heo/problemsolving/blob/master/graph/dfs.py"
   ]
  },
  {
   "cell_type": "code",
   "execution_count": 3,
   "metadata": {},
   "outputs": [
    {
     "name": "stdout",
     "output_type": "stream",
     "text": [
      "[0, 2, 5, 4, 6, 1, 7, 3]\n"
     ]
    }
   ],
   "source": [
    "#non class version\n",
    "vertexList = ['0', '1', '2', '3', '4', '5', '6','7','8','9']\n",
    "edgeList = [(0,1), (0,4), (1,0) , (1,5),(2,6) , (3,4) , (3,7) , (4,3) , (4,7), (5,1) , (5,8), (5,9), (6,5),(6,9),(6,2)]\n",
    "graphs = (vertexList, edgeList)\n",
    "\n",
    "def dfs1(graph, start):\n",
    "    vertexList, edgeList = graph\n",
    "    visitedVertex = []\n",
    "    stack = [start]\n",
    "    adjacencyList = [[] for vertex in vertexList]\n",
    "\n",
    "    for edge in edgeList:\n",
    "        adjacencyList[edge[0]].append(edge[1])\n",
    "\n",
    "    while stack:\n",
    "        current = stack.pop()\n",
    "        for neighbor in adjacencyList[current]:\n",
    "            if not neighbor in visitedVertex:\n",
    "                stack.append(neighbor)\n",
    "        visitedVertex.append(current)\n",
    "    return visitedVertex\n",
    "\n",
    "print(dfs1(graphs, 0))"
   ]
  },
  {
   "cell_type": "code",
   "execution_count": 2,
   "metadata": {},
   "outputs": [
    {
     "name": "stdout",
     "output_type": "stream",
     "text": [
      "visited nodes:['A', 'B', 'F', 'G', 'C', 'I', 'H', 'D', 'J', 'E']\n",
      "A ['E', 'B'] 0\n",
      "B ['F', 'A'] 1\n",
      "C ['G'] 4\n",
      "D ['H', 'E'] 5\n",
      "E ['H', 'D', 'A'] 1\n",
      "F ['J', 'I', 'G', 'B'] 2\n",
      "G ['J', 'F', 'C'] 3\n",
      "H ['I', 'E', 'D'] 4\n",
      "I ['H', 'F'] 3\n",
      "J ['G', 'F'] 3\n"
     ]
    }
   ],
   "source": [
    "#class version\n",
    "class Vertex:\n",
    "    def __init__(self, n, *args, **kwargs):\n",
    "        '''n is the vertex name in letter. \n",
    "        distance is set to a large value'''\n",
    "        self.name = n\n",
    "        self.neighbors = list()\n",
    "   \n",
    "        self.visited = False\n",
    "        return super().__init__(*args, **kwargs)\n",
    "\n",
    "    def add_neighbor(self,v):\n",
    "        ''' v is the vertex name in letter'''\n",
    "        if v not in self.neighbors:\n",
    "            self.neighbors.append(v)\n",
    "            self.neighbors.sort(reverse=True)\n",
    "\n",
    "class Graph:\n",
    "    def __init__(self, *args, **kwargs):\n",
    "        '''vertices is a dict of Vertex objects with vertex name as the key''' \n",
    "        self.vertices = {}\n",
    "        self.visited_nodes = list()\n",
    "        return super().__init__(*args, **kwargs)\n",
    "\n",
    "    def add_vertex(self,vertex):\n",
    "        if isinstance(vertex,Vertex) and vertex.name not in self.vertices:\n",
    "            self.vertices[vertex.name] = vertex\n",
    "            return True\n",
    "        else:\n",
    "            return False\n",
    "\n",
    "    def add_edge(self,u,v):\n",
    "        ''' u and v are the letter names of the vertex at each end of that edge'''\n",
    "        if u in self.vertices and v in self.vertices:\n",
    "            for key,vertex in self.vertices.items():\n",
    "                if key == u:\n",
    "                    vertex.add_neighbor(v)\n",
    "                if key == v:\n",
    "                    vertex.add_neighbor(u)\n",
    "            return True\n",
    "        else:\n",
    "            return False\n",
    "\n",
    "    def print_graph(self):\n",
    "        print('visited nodes:{}'.format(self.visited_nodes))\n",
    "        for vertex in sorted(self.vertices.keys()):\n",
    "            print(vertex + \" \" + str(self.vertices[vertex].neighbors) + \" \" + str(self.vertices[vertex].distance))\n",
    "\n",
    "    def dfs(self,vertex):\n",
    "        if isinstance(vertex,Vertex) and vertex.name in self.vertices:\n",
    "            vertex.distance = 0\n",
    "            stack = [vertex]\n",
    "            \n",
    "            while len(stack)>0:\n",
    "                current = stack.pop()\n",
    "                current.visited = True\n",
    "                self.visited_nodes.append(current.name)\n",
    "                for neighbor in current.neighbors:\n",
    "                    if (neighbor not in self.visited_nodes) and (self.vertices[neighbor] not in stack):\n",
    "                        self.vertices[neighbor].distance = current.distance + 1\n",
    "                        stack.append(self.vertices[neighbor])\n",
    "        else:\n",
    "            raise ValueError('Unknown vertex supplied')\n",
    "\n",
    "def create_and_run_graph():\n",
    "    g = Graph()\n",
    "    a = Vertex('A')\n",
    "    g.add_vertex(a)\n",
    "    g.add_vertex(Vertex('B'))\n",
    "    for i in range(ord('A'), ord('K')):\n",
    "        g.add_vertex(Vertex(chr(i)))\n",
    "\n",
    "    edges = ['AB', 'AE', 'BF', 'CG', 'DE', 'DH', 'EH', 'FG', 'FI', 'FJ', 'GJ', 'HI']\n",
    "    for edge in edges:\n",
    "        g.add_edge(edge[:1], edge[1:])\n",
    "    \n",
    "    g.dfs(a)\n",
    "    g.print_graph()\n",
    "\n",
    "create_and_run_graph()"
   ]
  },
  {
   "cell_type": "code",
   "execution_count": null,
   "metadata": {},
   "outputs": [],
   "source": []
  }
 ],
 "metadata": {
  "kernelspec": {
   "display_name": "Python 3",
   "language": "python",
   "name": "python3"
  },
  "language_info": {
   "codemirror_mode": {
    "name": "ipython",
    "version": 3
   },
   "file_extension": ".py",
   "mimetype": "text/x-python",
   "name": "python",
   "nbconvert_exporter": "python",
   "pygments_lexer": "ipython3",
   "version": "3.6.5"
  }
 },
 "nbformat": 4,
 "nbformat_minor": 2
}
