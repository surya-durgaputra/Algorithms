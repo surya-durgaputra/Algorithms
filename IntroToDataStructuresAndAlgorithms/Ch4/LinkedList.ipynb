{
 "cells": [
  {
   "cell_type": "code",
   "execution_count": 17,
   "metadata": {},
   "outputs": [],
   "source": [
    "class Node:\n",
    "    def __init__(self,data=None,next_node=None):\n",
    "        self.data = data\n",
    "        self.next_node = next_node\n",
    "    \n",
    "    @property\n",
    "    def data(self):\n",
    "        return self._data\n",
    "    \n",
    "    @property\n",
    "    def next_node(self):\n",
    "        return self._next_node\n",
    "    \n",
    "    @data.setter\n",
    "    def data(self, value):\n",
    "        self._data = value\n",
    "    \n",
    "    @next_node.setter\n",
    "    def next_node(self, value):\n",
    "        self._next_node = value\n",
    "        \n",
    "    @data.deleter\n",
    "    def data(self):\n",
    "        del self._data\n",
    "        \n",
    "    @next_node.deleter\n",
    "    def next_node(self):\n",
    "        del self._next_node"
   ]
  },
  {
   "cell_type": "code",
   "execution_count": 18,
   "metadata": {},
   "outputs": [],
   "source": [
    "class LinkedList:\n",
    "    def __init__(self,head=None):\n",
    "        self.head = head\n",
    "    \n",
    "    @property\n",
    "    def head(self):\n",
    "        return self._head\n",
    "    \n",
    "    @head.setter\n",
    "    def head(self, value):\n",
    "        self._head = value\n",
    "        \n",
    "    @head.deleter\n",
    "    def head(self):\n",
    "        del self._head\n",
    "        \n",
    "    def InsertAtHead(self,data):\n",
    "        node = Node(data)\n",
    "        node.next_node(self.head)\n",
    "        self.head = node\n"
   ]
  },
  {
   "cell_type": "code",
   "execution_count": 21,
   "metadata": {},
   "outputs": [],
   "source": [
    "node = Node(5)"
   ]
  },
  {
   "cell_type": "code",
   "execution_count": 22,
   "metadata": {},
   "outputs": [],
   "source": [
    "l = LinkedList(node)"
   ]
  },
  {
   "cell_type": "code",
   "execution_count": 24,
   "metadata": {},
   "outputs": [
    {
     "data": {
      "text/plain": [
       "5"
      ]
     },
     "execution_count": 24,
     "metadata": {},
     "output_type": "execute_result"
    }
   ],
   "source": [
    "node.data"
   ]
  },
  {
   "cell_type": "code",
   "execution_count": null,
   "metadata": {},
   "outputs": [],
   "source": []
  }
 ],
 "metadata": {
  "kernelspec": {
   "display_name": "Python 3",
   "language": "python",
   "name": "python3"
  },
  "language_info": {
   "codemirror_mode": {
    "name": "ipython",
    "version": 3
   },
   "file_extension": ".py",
   "mimetype": "text/x-python",
   "name": "python",
   "nbconvert_exporter": "python",
   "pygments_lexer": "ipython3",
   "version": "3.6.5"
  }
 },
 "nbformat": 4,
 "nbformat_minor": 2
}
