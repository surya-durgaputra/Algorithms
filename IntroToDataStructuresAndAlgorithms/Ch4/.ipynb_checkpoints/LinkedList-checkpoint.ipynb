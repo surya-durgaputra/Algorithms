{
 "cells": [
  {
   "cell_type": "code",
   "execution_count": 132,
   "metadata": {},
   "outputs": [],
   "source": [
    "class Node:\n",
    "    def __init__(self,data=None):\n",
    "        self._data = data\n",
    "        self._next_node = None\n",
    "    \n",
    "    @property\n",
    "    def data(self):\n",
    "        return self._data\n",
    "    \n",
    "    @property\n",
    "    def next_node(self):\n",
    "        return self._next_node\n",
    "    \n",
    "    @data.setter\n",
    "    def data(self, value):\n",
    "        self._data = value\n",
    "    \n",
    "    @next_node.setter\n",
    "    def next_node(self, value):\n",
    "        self._next_node = value\n",
    "        \n",
    "    @data.deleter\n",
    "    def data(self):\n",
    "        del self._data\n",
    "        \n",
    "    @next_node.deleter\n",
    "    def next_node(self):\n",
    "        del self._next_node\n",
    "        \n",
    "    def __str__(self):\n",
    "        return str(self._data)"
   ]
  },
  {
   "cell_type": "code",
   "execution_count": 161,
   "metadata": {},
   "outputs": [],
   "source": [
    "class LinkedList:\n",
    "    def __init__(self,head=None):\n",
    "        self._head = head\n",
    "    \n",
    "    @property\n",
    "    def head(self):\n",
    "        return self._head\n",
    "    \n",
    "    @head.setter\n",
    "    def head(self, value):\n",
    "        self._head = value\n",
    "        \n",
    "    @head.deleter\n",
    "    def head(self):\n",
    "        del self._head\n",
    "        \n",
    "    def insert_at_head(self,data):\n",
    "        node = Node(data)\n",
    "        node.next_node = self._head\n",
    "        self._head = node\n",
    "        \n",
    "    def length(self):\n",
    "        length = 0\n",
    "        current_node = self._head\n",
    "        while current_node is not None:\n",
    "            length += 1\n",
    "            current_node = current_node.next_node\n",
    "            \n",
    "        return length\n",
    "    \n",
    "    def delete_at_head(self):\n",
    "        self._head = self._head.next_node\n",
    "        \n",
    "    def find(self, data):\n",
    "        current_node = self._head\n",
    "        while current_node is not None:\n",
    "            if current_node.data == data:\n",
    "                return current_node\n",
    "            \n",
    "            current_node = current_node.next_node\n",
    "        \n",
    "        return None\n",
    "\n",
    "    def __str__(self):\n",
    "        result = \"{\"\n",
    "        current_node = self._head\n",
    "        while current_node is not None:\n",
    "            result += \"Data: \" + str(current_node) + \",\"\n",
    "            current_node = current_node.next_node\n",
    "            \n",
    "        result += \"}\"\n",
    "        return result"
   ]
  },
  {
   "cell_type": "code",
   "execution_count": 162,
   "metadata": {},
   "outputs": [],
   "source": [
    "node = Node(5)"
   ]
  },
  {
   "cell_type": "code",
   "execution_count": 163,
   "metadata": {},
   "outputs": [
    {
     "name": "stdout",
     "output_type": "stream",
     "text": [
      "5\n"
     ]
    }
   ],
   "source": [
    "print(node)"
   ]
  },
  {
   "cell_type": "code",
   "execution_count": 164,
   "metadata": {},
   "outputs": [],
   "source": [
    "l = LinkedList(node)"
   ]
  },
  {
   "cell_type": "code",
   "execution_count": 165,
   "metadata": {},
   "outputs": [
    {
     "name": "stdout",
     "output_type": "stream",
     "text": [
      "{Data: 5,}\n"
     ]
    }
   ],
   "source": [
    "print(l)"
   ]
  },
  {
   "cell_type": "code",
   "execution_count": 166,
   "metadata": {},
   "outputs": [],
   "source": [
    "l.insert_at_head(Node(6))"
   ]
  },
  {
   "cell_type": "code",
   "execution_count": 167,
   "metadata": {},
   "outputs": [
    {
     "name": "stdout",
     "output_type": "stream",
     "text": [
      "{Data: 6,Data: 5,}\n"
     ]
    }
   ],
   "source": [
    "print(l)"
   ]
  },
  {
   "cell_type": "code",
   "execution_count": 168,
   "metadata": {},
   "outputs": [
    {
     "data": {
      "text/plain": [
       "2"
      ]
     },
     "execution_count": 168,
     "metadata": {},
     "output_type": "execute_result"
    }
   ],
   "source": [
    "l.length()"
   ]
  },
  {
   "cell_type": "code",
   "execution_count": 169,
   "metadata": {},
   "outputs": [],
   "source": [
    "l.delete_at_head()"
   ]
  },
  {
   "cell_type": "code",
   "execution_count": 170,
   "metadata": {},
   "outputs": [
    {
     "data": {
      "text/plain": [
       "1"
      ]
     },
     "execution_count": 170,
     "metadata": {},
     "output_type": "execute_result"
    }
   ],
   "source": [
    "l.length()"
   ]
  },
  {
   "cell_type": "code",
   "execution_count": 171,
   "metadata": {},
   "outputs": [
    {
     "name": "stdout",
     "output_type": "stream",
     "text": [
      "{Data: 5,}\n"
     ]
    }
   ],
   "source": [
    "print(l)"
   ]
  },
  {
   "cell_type": "code",
   "execution_count": 173,
   "metadata": {},
   "outputs": [],
   "source": [
    "node = l.find(5)"
   ]
  },
  {
   "cell_type": "code",
   "execution_count": 174,
   "metadata": {},
   "outputs": [
    {
     "data": {
      "text/plain": [
       "5"
      ]
     },
     "execution_count": 174,
     "metadata": {},
     "output_type": "execute_result"
    }
   ],
   "source": [
    "node.data"
   ]
  },
  {
   "cell_type": "code",
   "execution_count": 177,
   "metadata": {},
   "outputs": [
    {
     "name": "stdout",
     "output_type": "stream",
     "text": [
      "Null\n"
     ]
    }
   ],
   "source": [
    "node1 = l.find(6)\n",
    "\n",
    "if node1 is None:\n",
    "    print(\"Null\")"
   ]
  },
  {
   "cell_type": "code",
   "execution_count": 178,
   "metadata": {},
   "outputs": [],
   "source": [
    "class DoublyNode:\n",
    "    def __init__(self,data=None):\n",
    "        self._data = data\n",
    "        self._next_node = None\n",
    "        self._prev_node = None\n",
    "    \n",
    "    @property\n",
    "    def data(self):\n",
    "        return self._data\n",
    "    \n",
    "    @property\n",
    "    def next_node(self):\n",
    "        return self._next_node\n",
    "    \n",
    "    @property\n",
    "    def prev_node(self):\n",
    "        return self._prev_node\n",
    "    \n",
    "    @data.setter\n",
    "    def data(self, value):\n",
    "        self._data = value\n",
    "    \n",
    "    @next_node.setter\n",
    "    def next_node(self, value):\n",
    "        self._next_node = value\n",
    "        \n",
    "    @prev_node.setter\n",
    "    def prev_node(self, value):\n",
    "        self._prev_node = value\n",
    "        \n",
    "    @data.deleter\n",
    "    def data(self):\n",
    "        del self._data\n",
    "        \n",
    "    @next_node.deleter\n",
    "    def next_node(self):\n",
    "        del self._next_node\n",
    "        \n",
    "    @prev_node.deleter\n",
    "    def prev_node(self):\n",
    "        del self._prev_node\n",
    "        \n",
    "    def __str__(self):\n",
    "        return str(self._data)"
   ]
  },
  {
   "cell_type": "code",
   "execution_count": 182,
   "metadata": {},
   "outputs": [],
   "source": [
    "class DoublyLinkedList:\n",
    "    def __init__(self,head=None):\n",
    "        self._head = head\n",
    "    \n",
    "    @property\n",
    "    def head(self):\n",
    "        return self._head\n",
    "    \n",
    "    @head.setter\n",
    "    def head(self, value):\n",
    "        self._head = value\n",
    "        \n",
    "    @head.deleter\n",
    "    def head(self):\n",
    "        del self._head\n",
    "        \n",
    "    def insert_at_head(self,data):\n",
    "        doubly_node = DoublyNode(data)\n",
    "        doubly_node.next_node = self._head\n",
    "        \n",
    "        if self._head is not None:\n",
    "            self._head.prev_node = doubly_node\n",
    "            \n",
    "        self._head = doubly_node\n",
    "        \n",
    "    def length(self):\n",
    "        length = 0\n",
    "        current_node = self._head\n",
    "        while current_node is not None:\n",
    "            length += 1\n",
    "            current_node = current_node.next_node\n",
    "            \n",
    "        return length\n",
    "    \n",
    "    def delete_at_head(self):\n",
    "        self._head = self._head.next_node\n",
    "        \n",
    "    def find(self, data):\n",
    "        current_node = self._head\n",
    "        while current_node is not None:\n",
    "            if current_node.data == data:\n",
    "                return current_node\n",
    "            \n",
    "            current_node = current_node.next_node\n",
    "        \n",
    "        return None\n",
    "\n",
    "    def __str__(self):\n",
    "        result = \"{\"\n",
    "        current_node = self._head\n",
    "        while current_node is not None:\n",
    "            result += \"Data: \" + str(current_node) + \",\"\n",
    "            current_node = current_node.next_node\n",
    "            \n",
    "        result += \"}\"\n",
    "        return result"
   ]
  },
  {
   "cell_type": "code",
   "execution_count": 183,
   "metadata": {},
   "outputs": [],
   "source": [
    "dl = DoublyLinkedList()"
   ]
  },
  {
   "cell_type": "code",
   "execution_count": 184,
   "metadata": {},
   "outputs": [],
   "source": [
    "dl.insert_at_head(DoublyNode(5))"
   ]
  },
  {
   "cell_type": "code",
   "execution_count": 185,
   "metadata": {},
   "outputs": [
    {
     "name": "stdout",
     "output_type": "stream",
     "text": [
      "{Data: 5,}\n"
     ]
    }
   ],
   "source": [
    "print(dl)"
   ]
  },
  {
   "cell_type": "code",
   "execution_count": null,
   "metadata": {},
   "outputs": [],
   "source": []
  }
 ],
 "metadata": {
  "kernelspec": {
   "display_name": "Python 3",
   "language": "python",
   "name": "python3"
  },
  "language_info": {
   "codemirror_mode": {
    "name": "ipython",
    "version": 3
   },
   "file_extension": ".py",
   "mimetype": "text/x-python",
   "name": "python",
   "nbconvert_exporter": "python",
   "pygments_lexer": "ipython3",
   "version": "3.6.5"
  }
 },
 "nbformat": 4,
 "nbformat_minor": 2
}
