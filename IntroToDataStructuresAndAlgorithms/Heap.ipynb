{
 "cells": [
  {
   "cell_type": "markdown",
   "metadata": {},
   "source": [
    "#### A heap is a binary tree which is:\n",
    "- Complete\n",
    "- Every node's key is larger than (or equal to) the keys of its children"
   ]
  },
  {
   "cell_type": "markdown",
   "metadata": {},
   "source": [
    "#### Deleting the root:\n",
    "- O($log_{2}n$) operation\n",
    "- you first swap a leaf-node with root\n",
    "- then compare the children's key-value with node, and swap the node with the child that has the highest value "
   ]
  },
  {
   "cell_type": "markdown",
   "metadata": {},
   "source": [
    "#### Inserting an item\n",
    "- put it the the leaf position, mainiting the completeness property\n",
    "- bubble the node value value until the heap tree's 2nd property holds for all nodes (this is also called fixing the heap)\n",
    "- O($log_{2}n$) operation"
   ]
  },
  {
   "cell_type": "markdown",
   "metadata": {},
   "source": [
    "#### Finding the max value in a heap:\n",
    "- constant time operation\n",
    "- max value is always at the root"
   ]
  },
  {
   "cell_type": "markdown",
   "metadata": {},
   "source": [
    "#### Heaps as priority queue:\n",
    "- Because the largest element is always at the root, the heap data structure can be used as a priority queue\n",
    "- Let's say that the keys at each node represent the priority of the node to be processed.\n",
    "    - then the node will always have the highest priority\n",
    "    - once we are done processing the root node, we can delete it from the heap\n",
    "    - after we Fix The Heap, the node with the next higher priority will become the root of the heap\n",
    "- We can change the priority of a node by changing its key value.\n",
    "    - Then we will need to Fix The Heap by bubbling it to the right place\n",
    "    - Changing a key in a priority queue will take O($log_{2}n$) time in the worst case"
   ]
  },
  {
   "cell_type": "markdown",
   "metadata": {},
   "source": [
    "#### Heaps can be represented as Arrays\n",
    "- if node $i$:\n",
    "    - left-child: $2i+1$\n",
    "    - right-child: $2i+2$\n",
    "- root is always at 0\n",
    "- root's children are always at indices 1 and 2 in the array"
   ]
  },
  {
   "cell_type": "markdown",
   "metadata": {},
   "source": [
    "#### Heap Sort\n",
    " - $nlog_{2}n$ algorithm\n",
    " - let's say we have some data in the form of a heap and we want to sort it (heap implemented as array)\n",
    " - we take the first element of the array (root) and swap it with the last element\n",
    " - then fix the heap\n",
    " - then swap the first element with the second last element \n",
    " - then fix the heap\n",
    " - repeat the above two steps until all array is sorted"
   ]
  },
  {
   "cell_type": "markdown",
   "metadata": {},
   "source": [
    "#### Shortcomings of heap sort\n",
    "- since fixing the heap takes $O(log_{2}n)$ time (worst case) and needs to be done n times for an n-element array (worst case), the time complexity of heap sort is $O(nlog_{2}n)$\n",
    "- Since an array needing sorting, needs to be converted into a heap before the heap sort can be performed, this creates an overhead"
   ]
  },
  {
   "cell_type": "markdown",
   "metadata": {},
   "source": [
    "#### Building a heap\n",
    "- lets take [8,3,5,7,2,15,17,19]. We will sort this array so that it becomes a heap\n",
    "#### Steps:\n",
    "- take 8. this is the root heap[8]\n",
    "- take 3. this is left child heap[8,3].\n",
    "- Fix the heap\n",
    "- take 5. this is the right child heap[8,3,5]\n",
    "- fix the heap\n",
    "- keep repeating the two steps until the entire array is sorted into a heap"
   ]
  },
  {
   "cell_type": "markdown",
   "metadata": {},
   "source": [
    "#### Time complexity of building a heap is $O(nlog_{2}n)$\n",
    "- $O(log_{2}n)$ for fixing the heap\n",
    "- above step needs to be done $n$ times (worst case)"
   ]
  },
  {
   "cell_type": "markdown",
   "metadata": {},
   "source": [
    "## Heaps are primarily used to implement priority queues"
   ]
  },
  {
   "cell_type": "markdown",
   "metadata": {},
   "source": [
    "#### max-Heap: (max value at the root)"
   ]
  },
  {
   "cell_type": "code",
   "execution_count": null,
   "metadata": {},
   "outputs": [],
   "source": [
    "class Heap:\n",
    "    HEAP_SIZE = 10\n",
    "        \n",
    "    def __init__(self):\n",
    "        self.heap = [0].*Heap.HEAP_SIZE\n",
    "        self.current_position = -1\n",
    "    \n",
    "    "
   ]
  }
 ],
 "metadata": {
  "kernelspec": {
   "display_name": "Python 3",
   "language": "python",
   "name": "python3"
  },
  "language_info": {
   "codemirror_mode": {
    "name": "ipython",
    "version": 3
   },
   "file_extension": ".py",
   "mimetype": "text/x-python",
   "name": "python",
   "nbconvert_exporter": "python",
   "pygments_lexer": "ipython3",
   "version": "3.6.5"
  }
 },
 "nbformat": 4,
 "nbformat_minor": 2
}
