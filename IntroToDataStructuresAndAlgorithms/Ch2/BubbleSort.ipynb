{
 "cells": [
  {
   "cell_type": "code",
   "execution_count": 72,
   "metadata": {},
   "outputs": [],
   "source": [
    "def BubbleSortAscending(arr = []):\n",
    "    #tackle base case\n",
    "    if len(arr) <= 1:\n",
    "        return arr\n",
    "    \n",
    "    for i in range(0,len(arr)-1):\n",
    "        for j in range(i,len(arr)-1):\n",
    "            if arr[j+1] < arr[i]:\n",
    "                print(\"before: \",arr)\n",
    "                tmp = arr[i]\n",
    "                arr[i] = arr[j+1]\n",
    "                arr[j+1] = tmp\n",
    "                print(\"after: \",arr)\n",
    "            \n",
    "    return arr"
   ]
  },
  {
   "cell_type": "code",
   "execution_count": 73,
   "metadata": {},
   "outputs": [],
   "source": [
    "def BubbleSortDescending(arr = []):\n",
    "    #tackle base case\n",
    "    if len(arr) <= 1:\n",
    "        return arr\n",
    "    \n",
    "    for i in range(0,len(arr)-1):\n",
    "        for j in range(i,len(arr)-1):\n",
    "            if arr[j+1] > arr[i]:\n",
    "                print(\"before: \",arr)\n",
    "                tmp = arr[i]\n",
    "                arr[i] = arr[j+1]\n",
    "                arr[j+1] = tmp\n",
    "                print(\"after: \",arr)\n",
    "            \n",
    "    return arr"
   ]
  },
  {
   "cell_type": "code",
   "execution_count": 71,
   "metadata": {},
   "outputs": [
    {
     "name": "stdout",
     "output_type": "stream",
     "text": [
      "before:  [1, 2, 3, 4]\n",
      "after:  [2, 1, 3, 4]\n",
      "before:  [2, 1, 3, 4]\n",
      "after:  [3, 1, 2, 4]\n",
      "before:  [3, 1, 2, 4]\n",
      "after:  [4, 1, 2, 3]\n",
      "before:  [4, 1, 2, 3]\n",
      "after:  [4, 2, 1, 3]\n",
      "before:  [4, 2, 1, 3]\n",
      "after:  [4, 3, 1, 2]\n",
      "before:  [4, 3, 1, 2]\n",
      "after:  [4, 3, 2, 1]\n"
     ]
    },
    {
     "data": {
      "text/plain": [
       "[4, 3, 2, 1]"
      ]
     },
     "execution_count": 71,
     "metadata": {},
     "output_type": "execute_result"
    }
   ],
   "source": [
    "BubbleSortDescending([1,2,3,4])"
   ]
  },
  {
   "cell_type": "code",
   "execution_count": 74,
   "metadata": {},
   "outputs": [
    {
     "name": "stdout",
     "output_type": "stream",
     "text": [
      "before:  [4, 3, 2, 1]\n",
      "after:  [3, 4, 2, 1]\n",
      "before:  [3, 4, 2, 1]\n",
      "after:  [2, 4, 3, 1]\n",
      "before:  [2, 4, 3, 1]\n",
      "after:  [1, 4, 3, 2]\n",
      "before:  [1, 4, 3, 2]\n",
      "after:  [1, 3, 4, 2]\n",
      "before:  [1, 3, 4, 2]\n",
      "after:  [1, 2, 4, 3]\n",
      "before:  [1, 2, 4, 3]\n",
      "after:  [1, 2, 3, 4]\n"
     ]
    },
    {
     "data": {
      "text/plain": [
       "[1, 2, 3, 4]"
      ]
     },
     "execution_count": 74,
     "metadata": {},
     "output_type": "execute_result"
    }
   ],
   "source": [
    "BubbleSortAscending([4,3,2,1])"
   ]
  },
  {
   "cell_type": "code",
   "execution_count": null,
   "metadata": {},
   "outputs": [],
   "source": []
  }
 ],
 "metadata": {
  "kernelspec": {
   "display_name": "Python 3",
   "language": "python",
   "name": "python3"
  },
  "language_info": {
   "codemirror_mode": {
    "name": "ipython",
    "version": 3
   },
   "file_extension": ".py",
   "mimetype": "text/x-python",
   "name": "python",
   "nbconvert_exporter": "python",
   "pygments_lexer": "ipython3",
   "version": "3.6.5"
  }
 },
 "nbformat": 4,
 "nbformat_minor": 2
}
