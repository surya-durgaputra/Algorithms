{
 "cells": [
  {
   "cell_type": "markdown",
   "metadata": {},
   "source": [
    "#### Euclid's Algorithm : Finding the gcd of two positive ints"
   ]
  },
  {
   "cell_type": "code",
   "execution_count": 9,
   "metadata": {},
   "outputs": [],
   "source": [
    "def gcd(greater_int,smaller_int):\n",
    "    # breaking condition\n",
    "    if greater_int % smaller_int == 0:\n",
    "        return smaller_int\n",
    "    \n",
    "    return gcd(smaller_int, greater_int % smaller_int)"
   ]
  },
  {
   "cell_type": "code",
   "execution_count": 10,
   "metadata": {},
   "outputs": [
    {
     "data": {
      "text/plain": [
       "2"
      ]
     },
     "execution_count": 10,
     "metadata": {},
     "output_type": "execute_result"
    }
   ],
   "source": [
    "gcd(6,4)"
   ]
  },
  {
   "cell_type": "markdown",
   "metadata": {},
   "source": [
    "#### Factorial"
   ]
  },
  {
   "cell_type": "code",
   "execution_count": 26,
   "metadata": {},
   "outputs": [],
   "source": [
    "#Iterative way\n",
    "def factorial(number):\n",
    "    if number <= 1:\n",
    "        return 1\n",
    "    \n",
    "    result = 1\n",
    "    for i in range(1,number+1):\n",
    "        result *= i\n",
    "    \n",
    "    return result"
   ]
  },
  {
   "cell_type": "code",
   "execution_count": 25,
   "metadata": {},
   "outputs": [
    {
     "data": {
      "text/plain": [
       "24"
      ]
     },
     "execution_count": 25,
     "metadata": {},
     "output_type": "execute_result"
    }
   ],
   "source": [
    "factorial(4)"
   ]
  },
  {
   "cell_type": "code",
   "execution_count": 36,
   "metadata": {},
   "outputs": [],
   "source": [
    "#recursive way\n",
    "def factorial(number):\n",
    "    #breaking condition\n",
    "    if number == 0:\n",
    "        return 1\n",
    "    else:\n",
    "        return number*factorial(number -1)"
   ]
  },
  {
   "cell_type": "code",
   "execution_count": 37,
   "metadata": {},
   "outputs": [
    {
     "data": {
      "text/plain": [
       "24"
      ]
     },
     "execution_count": 37,
     "metadata": {},
     "output_type": "execute_result"
    }
   ],
   "source": [
    "factorial(4)"
   ]
  },
  {
   "cell_type": "code",
   "execution_count": 43,
   "metadata": {},
   "outputs": [],
   "source": [
    "#Tower of Hanoi\n",
    "def move(number,source,target,mediary):\n",
    "    if number==1:\n",
    "        print(\"Moving: \"+source+\" to \"+target+\" : Discs:\"+str(number))\n",
    "    else:\n",
    "        move(number-1,source,mediary,target)\n",
    "        print(\"Moving: \"+source+\" to \"+target+\" : Discs:\"+str(number))\n",
    "        move(number-1,mediary,target,source)"
   ]
  },
  {
   "cell_type": "code",
   "execution_count": 44,
   "metadata": {},
   "outputs": [
    {
     "name": "stdout",
     "output_type": "stream",
     "text": [
      "Moving: A to B : Discs:1\n",
      "Moving: A to C : Discs:2\n",
      "Moving: B to C : Discs:1\n"
     ]
    }
   ],
   "source": [
    "move(2,\"A\",\"C\",\"B\")"
   ]
  },
  {
   "cell_type": "markdown",
   "metadata": {},
   "source": [
    "### MergeSort"
   ]
  },
  {
   "cell_type": "code",
   "execution_count": 150,
   "metadata": {},
   "outputs": [],
   "source": [
    "import math\n",
    "class MergeSort:\n",
    "    def __init__(self,data=[]):\n",
    "        self._data = data\n",
    "        self._sorted = [None for _ in range(0,len(data))]\n",
    "        self.sort()\n",
    "        \n",
    "    def sorted(self):\n",
    "        return self._sorted\n",
    "        \n",
    "    def sort(self):\n",
    "        if len(self._data) <= 1:\n",
    "            return self._data\n",
    "        \n",
    "        self.split(self._data)\n",
    "        \n",
    "    def split(self,data):\n",
    "        if len(data) > 1:\n",
    "            mid = len(data)//2\n",
    "            left_half = data[:mid]\n",
    "            right_half = data[mid:]\n",
    "            \n",
    "            self.split(left_half)\n",
    "            self.split(right_half)\n",
    "            print('lefthalf: {} righthalf: {}'.format(left_half,right_half))\n",
    "            #self.merge(left_half,right_half)\n",
    "            i = 0\n",
    "            j = 0\n",
    "            k = 0\n",
    "            while (i < len(left_half)) and (j < len(right_half)):\n",
    "                if left_half[i] < right_half[j]:\n",
    "                    self._sorted[k] = left_half[i]\n",
    "                    i += 1\n",
    "                else:\n",
    "                    self._sorted[k] = right_half[j]\n",
    "                    j += 1\n",
    "                k += 1\n",
    "                print('i:{} j:{} k:{}'.format(i,j,k))\n",
    "\n",
    "            while i < len(left_half):\n",
    "                self._sorted[k] = left_half[i]\n",
    "                i += 1\n",
    "                k += 1\n",
    "            while j < len(right_half):\n",
    "                self._sorted[k] = right_half[j]\n",
    "                j += 1\n",
    "                k += 1    \n",
    "            print('left: {} right: {} data: {}'.format(left_half,right_half,self._sorted))\n",
    "            \n",
    "    #def merge(self,left,right,i,j,k):\n",
    "        \n",
    "        #print('last data: '+str(data))"
   ]
  },
  {
   "cell_type": "code",
   "execution_count": 159,
   "metadata": {},
   "outputs": [],
   "source": [
    "def mergesort(data):\n",
    "    #print(\"Splitting \",str(data))\n",
    "    if len(data) > 1:\n",
    "        mid = len(data)//2\n",
    "        left_half = data[:mid]\n",
    "        right_half = data[mid:]\n",
    "\n",
    "        mergesort(left_half)\n",
    "        mergesort(right_half)\n",
    "        print('lefthalf: {} righthalf: {}'.format(left_half,right_half))\n",
    "        #self.merge(left_half,right_half)\n",
    "        i = 0\n",
    "        j = 0\n",
    "        k = 0\n",
    "        while (i < len(left_half)) and (j < len(right_half)):\n",
    "            if left_half[i] < right_half[j]:\n",
    "                data[k] = left_half[i]\n",
    "                i += 1\n",
    "            else:\n",
    "                data[k] = right_half[j]\n",
    "                j += 1\n",
    "            k += 1\n",
    "\n",
    "        while i < len(left_half):\n",
    "            data[k] = left_half[i]\n",
    "            i += 1\n",
    "            k += 1\n",
    "        while j < len(right_half):\n",
    "            data[k] = right_half[j]\n",
    "            j += 1\n",
    "            k += 1    \n",
    "        print(\"Merging \",str(data))\n",
    "            "
   ]
  },
  {
   "cell_type": "code",
   "execution_count": 160,
   "metadata": {},
   "outputs": [
    {
     "name": "stdout",
     "output_type": "stream",
     "text": [
      "lefthalf: [1] righthalf: [3]\n",
      "Merging  [1, 3]\n",
      "lefthalf: [7] righthalf: [6]\n",
      "Merging  [6, 7]\n",
      "lefthalf: [2] righthalf: [6, 7]\n",
      "Merging  [2, 6, 7]\n",
      "lefthalf: [1, 3] righthalf: [2, 6, 7]\n",
      "Merging  [1, 2, 3, 6, 7]\n"
     ]
    }
   ],
   "source": [
    "mergesort([1,3,2,7,6])"
   ]
  },
  {
   "cell_type": "code",
   "execution_count": null,
   "metadata": {},
   "outputs": [],
   "source": []
  }
 ],
 "metadata": {
  "kernelspec": {
   "display_name": "Python 3",
   "language": "python",
   "name": "python3"
  },
  "language_info": {
   "codemirror_mode": {
    "name": "ipython",
    "version": 3
   },
   "file_extension": ".py",
   "mimetype": "text/x-python",
   "name": "python",
   "nbconvert_exporter": "python",
   "pygments_lexer": "ipython3",
   "version": "3.6.5"
  }
 },
 "nbformat": 4,
 "nbformat_minor": 2
}
