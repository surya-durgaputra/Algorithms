{
 "cells": [
  {
   "cell_type": "markdown",
   "metadata": {},
   "source": [
    "good tutorial url:\n",
    "    https://www.machinelearningplus.com/python/python-regex-tutorial-examples/\n",
    "    https://www.rexegg.com/regex-disambiguation.html#lookarounds"
   ]
  },
  {
   "cell_type": "code",
   "execution_count": 2,
   "metadata": {},
   "outputs": [],
   "source": [
    "import re\n",
    "regex = re.compile('\\s+')"
   ]
  },
  {
   "cell_type": "markdown",
   "metadata": {},
   "source": [
    "- The above code imports the 're' package and compiles a regular expression pattern that can match at least one or more space characters.\n",
    "- If you intend to use a particular pattern multiple times, then you are better off compiling a regular expression.\n",
    "- '\\s+' matches any whitespace character. By adding a '+' notation at the end will make the pattern match at least 1 or more spaces. So, this pattern will match even tab '\\t' characters as well."
   ]
  },
  {
   "cell_type": "markdown",
   "metadata": {},
   "source": [
    "- Adding a '+' symbol to it mandates the presence of at least 1 digit to be present in order to be found.\n",
    "- Similar to '+', there is a '*' symbol which requires 0 or more digits in order to be found. It practically makes the presence of a digit optional in order to make a match"
   ]
  },
  {
   "cell_type": "code",
   "execution_count": 3,
   "metadata": {},
   "outputs": [],
   "source": [
    "text = \"\"\"101 COM    Computers\n",
    "205 MAT   Mathematics\n",
    "189 ENG   English\"\"\""
   ]
  },
  {
   "cell_type": "markdown",
   "metadata": {},
   "source": [
    "I have three course items in the format of “[Course Number] [Course Code] [Course Name]”. The spacing between the words are not equal.\n",
    "\n",
    "I want to split these three course items into individual units of numbers and words. How to do that?"
   ]
  },
  {
   "cell_type": "code",
   "execution_count": 4,
   "metadata": {},
   "outputs": [
    {
     "data": {
      "text/plain": [
       "['101',\n",
       " 'COM',\n",
       " 'Computers',\n",
       " '205',\n",
       " 'MAT',\n",
       " 'Mathematics',\n",
       " '189',\n",
       " 'ENG',\n",
       " 'English']"
      ]
     },
     "execution_count": 4,
     "metadata": {},
     "output_type": "execute_result"
    }
   ],
   "source": [
    "regex.split(text)"
   ]
  },
  {
   "cell_type": "markdown",
   "metadata": {},
   "source": [
    "### 4. Finding pattern matches using findall, search and match\n",
    "#### Let’s suppose you want to extract all the course numbers, that is, the numbers 101, 205 and 189 alone from the above text. How to do that?"
   ]
  },
  {
   "cell_type": "code",
   "execution_count": 5,
   "metadata": {},
   "outputs": [
    {
     "data": {
      "text/plain": [
       "['101', '205', '189']"
      ]
     },
     "execution_count": 5,
     "metadata": {},
     "output_type": "execute_result"
    }
   ],
   "source": [
    "regex_num = re.compile('[0-9]+')\n",
    "regex_num.findall(text)"
   ]
  },
  {
   "cell_type": "markdown",
   "metadata": {},
   "source": [
    "#### The findall method extracts all occurrences of the 1 or more digits from the text and returns them in a list."
   ]
  },
  {
   "cell_type": "code",
   "execution_count": 6,
   "metadata": {},
   "outputs": [
    {
     "data": {
      "text/plain": [
       "<_sre.SRE_Match object; span=(17, 20), match='205'>"
      ]
     },
     "execution_count": 6,
     "metadata": {},
     "output_type": "execute_result"
    }
   ],
   "source": [
    "text2 = \"\"\"COM    Computers\n",
    "205 MAT   Mathematics 189\"\"\"\n",
    "regex_num.search(text2)"
   ]
  },
  {
   "cell_type": "code",
   "execution_count": 7,
   "metadata": {},
   "outputs": [],
   "source": [
    "regex_num.match(text2)"
   ]
  },
  {
   "cell_type": "markdown",
   "metadata": {},
   "source": [
    "match returned nothing whereas search returned the match.\n",
    "#### regex.search() returns a particular match object that contains the starting and ending positions of the first occurrence of the pattern.\n",
    "#### Likewise, regex.match() also returns a match object. But the difference is, it requires the pattern to be present at the beginning of the text itself."
   ]
  },
  {
   "cell_type": "markdown",
   "metadata": {},
   "source": [
    "#### to get the matched text from .match or .search, use group() method"
   ]
  },
  {
   "cell_type": "code",
   "execution_count": 8,
   "metadata": {},
   "outputs": [
    {
     "data": {
      "text/plain": [
       "'205'"
      ]
     },
     "execution_count": 8,
     "metadata": {},
     "output_type": "execute_result"
    }
   ],
   "source": [
    "result = regex_num.search(text2)\n",
    "result.group()"
   ]
  },
  {
   "cell_type": "markdown",
   "metadata": {},
   "source": [
    "### 5. How to substitute one text with another using regex?\n",
    "#### To replace texts, use the regex.sub()\n"
   ]
  },
  {
   "cell_type": "code",
   "execution_count": 9,
   "metadata": {},
   "outputs": [
    {
     "name": "stdout",
     "output_type": "stream",
     "text": [
      "101   COM \t  Computers\n",
      "205   MAT \t  Mathematics\n",
      "189   ENG  \t  English\n"
     ]
    }
   ],
   "source": [
    "text = \"\"\"101   COM \\t  Computers\n",
    "205   MAT \\t  Mathematics\n",
    "189   ENG  \\t  English\"\"\"  \n",
    "print(text)"
   ]
  },
  {
   "cell_type": "markdown",
   "metadata": {},
   "source": [
    "From the above text, I want to even out all the extra spaces and put all the words in one single line."
   ]
  },
  {
   "cell_type": "code",
   "execution_count": 10,
   "metadata": {},
   "outputs": [
    {
     "data": {
      "text/plain": [
       "'101 COM Computers 205 MAT Mathematics 189 ENG English'"
      ]
     },
     "execution_count": 10,
     "metadata": {},
     "output_type": "execute_result"
    }
   ],
   "source": [
    "regex = re.compile('\\s+')#will match all variable spaces, including tab(\\t and newline \\n)\n",
    "regex.sub(' ',text) #replace variable spaces with single spcae."
   ]
  },
  {
   "cell_type": "markdown",
   "metadata": {},
   "source": [
    "Suppose you only want to get rid of the extra spaces but want to keep the course entries in the new line itself. \n",
    "\n",
    "This can be done using a negative lookahead (?!\\n). It checks for an upcoming newline character and excludes it from the pattern."
   ]
  },
  {
   "cell_type": "markdown",
   "metadata": {},
   "source": [
    "Question:  Write a Python program to check that a string contains only a certain set of characters (in this case a-z, A-Z and 0-9)."
   ]
  },
  {
   "cell_type": "code",
   "execution_count": 28,
   "metadata": {},
   "outputs": [],
   "source": [
    "def check(str_test):\n",
    "    regex = re.compile('^[a-zA-Z0-9]+$')\n",
    "    match = regex.findall(str_test)\n",
    "    if(len(match)):\n",
    "        print('passed')\n",
    "    else:\n",
    "        print('failed')"
   ]
  },
  {
   "cell_type": "code",
   "execution_count": 29,
   "metadata": {},
   "outputs": [
    {
     "name": "stdout",
     "output_type": "stream",
     "text": [
      "passed\n"
     ]
    }
   ],
   "source": [
    "str_test = \"sdfdh90\"\n",
    "check(str_test)"
   ]
  },
  {
   "cell_type": "code",
   "execution_count": 30,
   "metadata": {},
   "outputs": [
    {
     "name": "stdout",
     "output_type": "stream",
     "text": [
      "failed\n"
     ]
    }
   ],
   "source": [
    "str_test_failing = \"sdf fgfg 90\"\n",
    "check(str_test_failing)"
   ]
  },
  {
   "cell_type": "markdown",
   "metadata": {},
   "source": [
    "Write a Python program that matches a string that has an a followed by zero or more b's."
   ]
  },
  {
   "cell_type": "code",
   "execution_count": 35,
   "metadata": {},
   "outputs": [],
   "source": [
    "def check(test):\n",
    "    regex = re.compile('ab*')\n",
    "    return regex.findall(test)"
   ]
  },
  {
   "cell_type": "code",
   "execution_count": 36,
   "metadata": {},
   "outputs": [
    {
     "name": "stdout",
     "output_type": "stream",
     "text": [
      "passed\n",
      "passed\n"
     ]
    }
   ],
   "source": [
    "pass_str = 'ababab'\n",
    "fail_str = 'dsdfds'\n",
    "if len(check(pass_str)):\n",
    "    print('passed')\n",
    "if not len(check(fail_str)):\n",
    "    print('passed')"
   ]
  },
  {
   "cell_type": "markdown",
   "metadata": {},
   "source": [
    "Write a Python program that matches a string that has an a followed by one or more b's"
   ]
  },
  {
   "cell_type": "code",
   "execution_count": 37,
   "metadata": {},
   "outputs": [
    {
     "name": "stdout",
     "output_type": "stream",
     "text": [
      "passed\n",
      "passed\n"
     ]
    }
   ],
   "source": [
    "def check(test):\n",
    "    regex = re.compile('ab+')\n",
    "    return regex.findall(test)\n",
    "\n",
    "pass_str = 'abbabab'\n",
    "fail_str = 'adsdfds'\n",
    "if len(check(pass_str)):\n",
    "    print('passed')\n",
    "if not len(check(fail_str)):\n",
    "    print('passed')"
   ]
  },
  {
   "cell_type": "markdown",
   "metadata": {},
   "source": [
    "Write a Python program that matches a string that has an a followed by zero or one 'b'"
   ]
  },
  {
   "cell_type": "code",
   "execution_count": 47,
   "metadata": {},
   "outputs": [
    {
     "name": "stdout",
     "output_type": "stream",
     "text": [
      "pass_str passed\n",
      "passed\n"
     ]
    }
   ],
   "source": [
    "def check(test):\n",
    "    regex = re.compile('ab?')\n",
    "    return regex.findall(test)\n",
    "\n",
    "pass_str = 'aababab'\n",
    "fail_str = 'sdfds'\n",
    "if len(check(pass_str)):\n",
    "    print('pass_str passed')\n",
    "if not len(check(fail_str)):\n",
    "    print('passed')"
   ]
  },
  {
   "cell_type": "markdown",
   "metadata": {},
   "source": [
    "Write a Python program that matches a string that has an a followed by three 'b'"
   ]
  },
  {
   "cell_type": "code",
   "execution_count": 48,
   "metadata": {},
   "outputs": [
    {
     "name": "stdout",
     "output_type": "stream",
     "text": [
      "pass_str passed\n",
      "passed\n"
     ]
    }
   ],
   "source": [
    "def check(test):\n",
    "    regex = re.compile('ab{3}')\n",
    "    return regex.findall(test)\n",
    "\n",
    "pass_str = 'aabbbabab'\n",
    "fail_str = 'abbabsdfds'\n",
    "if len(check(pass_str)):\n",
    "    print('pass_str passed')\n",
    "if not len(check(fail_str)):\n",
    "    print('passed')"
   ]
  },
  {
   "cell_type": "markdown",
   "metadata": {},
   "source": [
    "Write a Python program that matches a string that has an a followed by two to three 'b'."
   ]
  },
  {
   "cell_type": "code",
   "execution_count": 49,
   "metadata": {},
   "outputs": [
    {
     "name": "stdout",
     "output_type": "stream",
     "text": [
      "pass_str passed\n",
      "passed\n"
     ]
    }
   ],
   "source": [
    "def check(test):\n",
    "    regex = re.compile('ab{2,3}')\n",
    "    return regex.findall(test)\n",
    "\n",
    "pass_str = 'aabbbabbab'\n",
    "fail_str = 'ababsdfds'\n",
    "if len(check(pass_str)):\n",
    "    print('pass_str passed')\n",
    "if not len(check(fail_str)):\n",
    "    print('passed')"
   ]
  },
  {
   "cell_type": "markdown",
   "metadata": {},
   "source": [
    "Write a Python program to find sequences of lowercase letters joined with a underscore."
   ]
  },
  {
   "cell_type": "code",
   "execution_count": 50,
   "metadata": {},
   "outputs": [
    {
     "name": "stdout",
     "output_type": "stream",
     "text": [
      "pass_str passed\n",
      "passed\n"
     ]
    }
   ],
   "source": [
    "def check(test):\n",
    "    regex = re.compile('[a-z]+(?=_[a-z]+)')\n",
    "    return regex.findall(test)\n",
    "\n",
    "pass_str = 'aabb_babbab'\n",
    "fail_str = 'aabb__babbab'\n",
    "if len(check(pass_str)):\n",
    "    print('pass_str passed')\n",
    "if not len(check(fail_str)):\n",
    "    print('passed')"
   ]
  },
  {
   "cell_type": "markdown",
   "metadata": {},
   "source": [
    "Write a Python program to find sequences of one upper case letter followed by lower case letters."
   ]
  },
  {
   "cell_type": "code",
   "execution_count": 51,
   "metadata": {},
   "outputs": [
    {
     "name": "stdout",
     "output_type": "stream",
     "text": [
      "pass_str passed\n",
      "passed\n"
     ]
    }
   ],
   "source": [
    "def check(test):\n",
    "    regex = re.compile('[A-Z](?=[a-z]+)')\n",
    "    return regex.findall(test)\n",
    "\n",
    "pass_str = 'AaabbCbabbab'\n",
    "fail_str = 'aabbCC'\n",
    "if len(check(pass_str)):\n",
    "    print('pass_str passed')\n",
    "if not len(check(fail_str)):\n",
    "    print('passed')"
   ]
  },
  {
   "cell_type": "markdown",
   "metadata": {},
   "source": [
    "Write a Python program that matches a string that has an 'a' followed by anything, ending in 'b'. "
   ]
  },
  {
   "cell_type": "code",
   "execution_count": 60,
   "metadata": {},
   "outputs": [
    {
     "name": "stdout",
     "output_type": "stream",
     "text": [
      "pass_str passed\n",
      "passed\n"
     ]
    }
   ],
   "source": [
    "def check(test):\n",
    "    regex = re.compile('a.*b$')\n",
    "    return regex.findall(test)\n",
    "\n",
    "pass_str = 'AaabbCbabbab'\n",
    "fail_str = 'aabbCC'\n",
    "if len(check(pass_str)):\n",
    "    print('pass_str passed')\n",
    "if not len(check(fail_str)):\n",
    "    print('passed')"
   ]
  },
  {
   "cell_type": "markdown",
   "metadata": {},
   "source": [
    "Write a Python program that matches a word at the beginning of a string."
   ]
  },
  {
   "cell_type": "code",
   "execution_count": 61,
   "metadata": {},
   "outputs": [
    {
     "name": "stdout",
     "output_type": "stream",
     "text": [
      "pass_str passed\n",
      "passed\n"
     ]
    }
   ],
   "source": [
    "def check(test):\n",
    "    regex = re.compile('^\\w+')\n",
    "    return regex.findall(test)\n",
    "\n",
    "pass_str = 'AaabbCbabbab'\n",
    "fail_str = ' aabbCC'\n",
    "if len(check(pass_str)):\n",
    "    print('pass_str passed')\n",
    "if not len(check(fail_str)):\n",
    "    print('passed')"
   ]
  },
  {
   "cell_type": "markdown",
   "metadata": {},
   "source": [
    "Write a Python program that matches a word at end of string, with optional punctuation."
   ]
  },
  {
   "cell_type": "code",
   "execution_count": 63,
   "metadata": {},
   "outputs": [
    {
     "name": "stdout",
     "output_type": "stream",
     "text": [
      "pass_str passed\n",
      "passed\n"
     ]
    }
   ],
   "source": [
    "def check(test):\n",
    "    regex = re.compile('\\w+[.,!]*$')\n",
    "    return regex.findall(test)\n",
    "\n",
    "pass_str = 'AaabbCbabba.'\n",
    "fail_str = ' aabbCC '\n",
    "if len(check(pass_str)):\n",
    "    print('pass_str passed')\n",
    "if not len(check(fail_str)):\n",
    "    print('passed')"
   ]
  },
  {
   "cell_type": "markdown",
   "metadata": {},
   "source": [
    " Write a Python program that matches a word containing 'z'."
   ]
  },
  {
   "cell_type": "code",
   "execution_count": 76,
   "metadata": {},
   "outputs": [
    {
     "name": "stdout",
     "output_type": "stream",
     "text": [
      "pass_str passed\n",
      "passed\n"
     ]
    }
   ],
   "source": [
    "def check(test):\n",
    "    regex = re.compile('\\w*z.\\w*')\n",
    "    return regex.findall(test)\n",
    "\n",
    "pass_str = 'Aaa zbbCbabba.'\n",
    "fail_str = 'mmm aabbCC '\n",
    "if len(check(pass_str)):\n",
    "    print('pass_str passed')\n",
    "if not len(check(fail_str)):\n",
    "    print('passed')"
   ]
  },
  {
   "cell_type": "markdown",
   "metadata": {},
   "source": [
    "Write a Python program that matches a word containing 'z', not start or end of the word"
   ]
  },
  {
   "cell_type": "code",
   "execution_count": 77,
   "metadata": {},
   "outputs": [
    {
     "name": "stdout",
     "output_type": "stream",
     "text": [
      "pass_str passed\n",
      "passed\n"
     ]
    }
   ],
   "source": [
    "def check(test):\n",
    "    regex = re.compile('[A-Ya-y]+z[A-Ya-y]+')\n",
    "    return regex.findall(test)\n",
    "\n",
    "pass_str = 'Aaa bzbCbabba.'\n",
    "fail_str = 'mmm zaabbCC '\n",
    "if len(check(pass_str)):\n",
    "    print('pass_str passed')\n",
    "if not len(check(fail_str)):\n",
    "    print('passed')"
   ]
  },
  {
   "cell_type": "markdown",
   "metadata": {},
   "source": [
    "https://www.w3resource.com/python-exercises/re/\n",
    "from exercise 14 and down"
   ]
  },
  {
   "cell_type": "code",
   "execution_count": 80,
   "metadata": {},
   "outputs": [
    {
     "name": "stdout",
     "output_type": "stream",
     "text": [
      "Q14\n",
      "pass_str passed\n",
      "passed\n"
     ]
    }
   ],
   "source": [
    "def check(test):\n",
    "    regex = re.compile('[^a-zA-Z0-9_]')\n",
    "    return regex.findall(test)\n",
    "\n",
    "print('Q14')\n",
    "fail_str = 'Aaa9bzbCbabba_'\n",
    "pass_str = 'mmm zaabbCC'\n",
    "if len(check(pass_str)):\n",
    "    print('pass_str passed')\n",
    "if not len(check(fail_str)):\n",
    "    print('passed')"
   ]
  },
  {
   "cell_type": "code",
   "execution_count": 82,
   "metadata": {},
   "outputs": [
    {
     "name": "stdout",
     "output_type": "stream",
     "text": [
      "Q15\n",
      "pass_str passed\n",
      "passed\n"
     ]
    }
   ],
   "source": [
    "def check(test):\n",
    "    regex = re.compile('^9')\n",
    "    return regex.findall(test)\n",
    "\n",
    "print('Q15')\n",
    "pass_str = '9bzbCbabba_'\n",
    "fail_str = '8mmm zaabbCC'\n",
    "if len(check(pass_str)):\n",
    "    print('pass_str passed')\n",
    "if not len(check(fail_str)):\n",
    "    print('passed')"
   ]
  },
  {
   "cell_type": "code",
   "execution_count": 83,
   "metadata": {},
   "outputs": [
    {
     "name": "stdout",
     "output_type": "stream",
     "text": [
      "Q16\n"
     ]
    },
    {
     "data": {
      "text/plain": [
       "'1.01.02.12'"
      ]
     },
     "execution_count": 83,
     "metadata": {},
     "output_type": "execute_result"
    }
   ],
   "source": [
    "def check(test):\n",
    "    regex = re.compile('^0+')\n",
    "    return regex.sub('',test)\n",
    "\n",
    "print('Q16')\n",
    "test_str = '001.01.02.12'\n",
    "check(test_str)"
   ]
  },
  {
   "cell_type": "code",
   "execution_count": 84,
   "metadata": {},
   "outputs": [
    {
     "name": "stdout",
     "output_type": "stream",
     "text": [
      "Q17\n",
      "pass_str passed\n",
      "passed\n"
     ]
    }
   ],
   "source": [
    "def check(test):\n",
    "    regex = re.compile('[0-9]$')\n",
    "    return regex.findall(test)\n",
    "\n",
    "print('Q17')\n",
    "pass_str = '9bzbCbabba1'\n",
    "fail_str = '8mmm zaabbCC'\n",
    "if len(check(pass_str)):\n",
    "    print('pass_str passed')\n",
    "if not len(check(fail_str)):\n",
    "    print('passed')"
   ]
  },
  {
   "cell_type": "code",
   "execution_count": 95,
   "metadata": {},
   "outputs": [
    {
     "name": "stdout",
     "output_type": "stream",
     "text": [
      "Q18\n"
     ]
    },
    {
     "data": {
      "text/plain": [
       "['9', '234', '1']"
      ]
     },
     "execution_count": 95,
     "metadata": {},
     "output_type": "execute_result"
    }
   ],
   "source": [
    "def check(test):\n",
    "    regex = re.compile('(?<![0-9])[0-9]{1,3}(?![0-9])')\n",
    "    return regex.findall(test)\n",
    "\n",
    "print('Q18')\n",
    "pass_str = '9bzbC234b4444abba1'\n",
    "check(pass_str)"
   ]
  },
  {
   "cell_type": "code",
   "execution_count": 98,
   "metadata": {},
   "outputs": [
    {
     "name": "stdout",
     "output_type": "stream",
     "text": [
      "Q19\n",
      "not found: horse\n"
     ]
    }
   ],
   "source": [
    "def check(test):\n",
    "    regex = re.compile('fox|dog|horse')\n",
    "    return regex.findall(test)\n",
    "\n",
    "print('Q19')\n",
    "pass_str = 'The quick brown fox jumps over the lazy dog.'\n",
    "patterns = ['fox','dog','horse']\n",
    "result = check(pass_str)\n",
    "for pattern in patterns:\n",
    "    if pattern not in result:\n",
    "        print(\"not found: \"+pattern)"
   ]
  },
  {
   "cell_type": "code",
   "execution_count": 108,
   "metadata": {},
   "outputs": [
    {
     "name": "stdout",
     "output_type": "stream",
     "text": [
      "Q20\n"
     ]
    },
    {
     "data": {
      "text/plain": [
       "(16, 19, 'fox')"
      ]
     },
     "execution_count": 108,
     "metadata": {},
     "output_type": "execute_result"
    }
   ],
   "source": [
    "def check(test):\n",
    "    regex = re.compile('fox')\n",
    "    return regex.search(test)\n",
    "\n",
    "print('Q20')\n",
    "pass_str = 'The quick brown fox jumps over the lazy dog.'\n",
    "match = check(pass_str)\n",
    "(match.start(),match.end(),match.group())"
   ]
  },
  {
   "cell_type": "code",
   "execution_count": 109,
   "metadata": {},
   "outputs": [
    {
     "name": "stdout",
     "output_type": "stream",
     "text": [
      "Q22\n"
     ]
    },
    {
     "ename": "TypeError",
     "evalue": "must be str, not int",
     "output_type": "error",
     "traceback": [
      "\u001b[1;31m---------------------------------------------------------------------------\u001b[0m",
      "\u001b[1;31mTypeError\u001b[0m                                 Traceback (most recent call last)",
      "\u001b[1;32m<ipython-input-109-0cf948b8b248>\u001b[0m in \u001b[0;36m<module>\u001b[1;34m()\u001b[0m\n\u001b[0;32m      7\u001b[0m \u001b[0mprint\u001b[0m\u001b[1;33m(\u001b[0m\u001b[1;34m'Q22'\u001b[0m\u001b[1;33m)\u001b[0m\u001b[1;33m\u001b[0m\u001b[0m\n\u001b[0;32m      8\u001b[0m \u001b[0mpass_str\u001b[0m \u001b[1;33m=\u001b[0m \u001b[1;34m'Python exercises, PHP exercises, C# exercises'\u001b[0m\u001b[1;33m\u001b[0m\u001b[0m\n\u001b[1;32m----> 9\u001b[1;33m \u001b[0mcheck\u001b[0m\u001b[1;33m(\u001b[0m\u001b[0mpass_str\u001b[0m\u001b[1;33m)\u001b[0m\u001b[1;33m\u001b[0m\u001b[0m\n\u001b[0m",
      "\u001b[1;32m<ipython-input-109-0cf948b8b248>\u001b[0m in \u001b[0;36mcheck\u001b[1;34m(test)\u001b[0m\n\u001b[0;32m      2\u001b[0m     \u001b[0mregex\u001b[0m \u001b[1;33m=\u001b[0m \u001b[0mre\u001b[0m\u001b[1;33m.\u001b[0m\u001b[0mcompile\u001b[0m\u001b[1;33m(\u001b[0m\u001b[1;34m'exercise'\u001b[0m\u001b[1;33m)\u001b[0m\u001b[1;33m\u001b[0m\u001b[0m\n\u001b[0;32m      3\u001b[0m     \u001b[1;32mfor\u001b[0m \u001b[0mmatch\u001b[0m \u001b[1;32min\u001b[0m \u001b[0mregex\u001b[0m\u001b[1;33m.\u001b[0m\u001b[0mfinditer\u001b[0m\u001b[1;33m(\u001b[0m\u001b[0mtest\u001b[0m\u001b[1;33m)\u001b[0m\u001b[1;33m:\u001b[0m\u001b[1;33m\u001b[0m\u001b[0m\n\u001b[1;32m----> 4\u001b[1;33m         \u001b[0mprint\u001b[0m\u001b[1;33m(\u001b[0m\u001b[1;34m'start:'\u001b[0m\u001b[1;33m+\u001b[0m\u001b[0mmatch\u001b[0m\u001b[1;33m.\u001b[0m\u001b[0mstart\u001b[0m\u001b[1;33m(\u001b[0m\u001b[1;33m)\u001b[0m\u001b[1;33m)\u001b[0m\u001b[1;33m\u001b[0m\u001b[0m\n\u001b[0m\u001b[0;32m      5\u001b[0m         \u001b[0mprint\u001b[0m\u001b[1;33m(\u001b[0m\u001b[1;34m'end:'\u001b[0m\u001b[1;33m+\u001b[0m\u001b[0mmatch\u001b[0m\u001b[1;33m.\u001b[0m\u001b[0mend\u001b[0m\u001b[1;33m(\u001b[0m\u001b[1;33m)\u001b[0m\u001b[1;33m)\u001b[0m\u001b[1;33m\u001b[0m\u001b[0m\n\u001b[0;32m      6\u001b[0m \u001b[1;33m\u001b[0m\u001b[0m\n",
      "\u001b[1;31mTypeError\u001b[0m: must be str, not int"
     ]
    }
   ],
   "source": [
    "def check(test):\n",
    "    regex = re.compile('exercise')\n",
    "    for match in regex.finditer(test):\n",
    "        print('start:'+str(match.start())\n",
    "        print('end:'+match.end())\n",
    "\n",
    "print('Q22')\n",
    "pass_str = 'Python exercises, PHP exercises, C# exercises'\n",
    "check(pass_str)"
   ]
  },
  {
   "cell_type": "code",
   "execution_count": null,
   "metadata": {},
   "outputs": [],
   "source": []
  }
 ],
 "metadata": {
  "kernelspec": {
   "display_name": "Python 3",
   "language": "python",
   "name": "python3"
  },
  "language_info": {
   "codemirror_mode": {
    "name": "ipython",
    "version": 3
   },
   "file_extension": ".py",
   "mimetype": "text/x-python",
   "name": "python",
   "nbconvert_exporter": "python",
   "pygments_lexer": "ipython3",
   "version": "3.6.5"
  }
 },
 "nbformat": 4,
 "nbformat_minor": 2
}
