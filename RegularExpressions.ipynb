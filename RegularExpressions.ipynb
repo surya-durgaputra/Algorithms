{
 "cells": [
  {
   "cell_type": "markdown",
   "metadata": {},
   "source": [
    "good tutorial url:\n",
    "    https://www.machinelearningplus.com/python/python-regex-tutorial-examples/\n",
    "    https://www.rexegg.com/regex-disambiguation.html#lookarounds"
   ]
  },
  {
   "cell_type": "code",
   "execution_count": 1,
   "metadata": {},
   "outputs": [],
   "source": [
    "import re\n",
    "regex = re.compile('\\s+')"
   ]
  },
  {
   "cell_type": "markdown",
   "metadata": {},
   "source": [
    "- The above code imports the 're' package and compiles a regular expression pattern that can match at least one or more space characters.\n",
    "- If you intend to use a particular pattern multiple times, then you are better off compiling a regular expression.\n",
    "- '\\s+' matches any whitespace character. By adding a '+' notation at the end will make the pattern match at least 1 or more spaces. So, this pattern will match even tab '\\t' characters as well."
   ]
  },
  {
   "cell_type": "markdown",
   "metadata": {},
   "source": [
    "- Adding a '+' symbol to it mandates the presence of at least 1 digit to be present in order to be found.\n",
    "- Similar to '+', there is a '*' symbol which requires 0 or more digits in order to be found. It practically makes the presence of a digit optional in order to make a match"
   ]
  },
  {
   "cell_type": "code",
   "execution_count": 2,
   "metadata": {},
   "outputs": [],
   "source": [
    "text = \"\"\"101 COM    Computers\n",
    "205 MAT   Mathematics\n",
    "189 ENG   English\"\"\""
   ]
  },
  {
   "cell_type": "markdown",
   "metadata": {},
   "source": [
    "I have three course items in the format of “[Course Number] [Course Code] [Course Name]”. The spacing between the words are not equal.\n",
    "\n",
    "I want to split these three course items into individual units of numbers and words. How to do that?"
   ]
  },
  {
   "cell_type": "code",
   "execution_count": 3,
   "metadata": {},
   "outputs": [
    {
     "data": {
      "text/plain": [
       "['101',\n",
       " 'COM',\n",
       " 'Computers',\n",
       " '205',\n",
       " 'MAT',\n",
       " 'Mathematics',\n",
       " '189',\n",
       " 'ENG',\n",
       " 'English']"
      ]
     },
     "execution_count": 3,
     "metadata": {},
     "output_type": "execute_result"
    }
   ],
   "source": [
    "regex.split(text)"
   ]
  },
  {
   "cell_type": "markdown",
   "metadata": {},
   "source": [
    "### 4. Finding pattern matches using findall, search and match\n",
    "#### Let’s suppose you want to extract all the course numbers, that is, the numbers 101, 205 and 189 alone from the above text. How to do that?"
   ]
  },
  {
   "cell_type": "code",
   "execution_count": 4,
   "metadata": {},
   "outputs": [
    {
     "data": {
      "text/plain": [
       "['101', '205', '189']"
      ]
     },
     "execution_count": 4,
     "metadata": {},
     "output_type": "execute_result"
    }
   ],
   "source": [
    "regex_num = re.compile('[0-9]+')\n",
    "regex_num.findall(text)"
   ]
  },
  {
   "cell_type": "markdown",
   "metadata": {},
   "source": [
    "#### The findall method extracts all occurrences of the 1 or more digits from the text and returns them in a list."
   ]
  },
  {
   "cell_type": "code",
   "execution_count": 5,
   "metadata": {},
   "outputs": [
    {
     "data": {
      "text/plain": [
       "<_sre.SRE_Match object; span=(17, 20), match='205'>"
      ]
     },
     "execution_count": 5,
     "metadata": {},
     "output_type": "execute_result"
    }
   ],
   "source": [
    "text2 = \"\"\"COM    Computers\n",
    "205 MAT   Mathematics 189\"\"\"\n",
    "regex_num.search(text2)"
   ]
  },
  {
   "cell_type": "code",
   "execution_count": 6,
   "metadata": {},
   "outputs": [],
   "source": [
    "regex_num.match(text2)"
   ]
  },
  {
   "cell_type": "markdown",
   "metadata": {},
   "source": [
    "match returned nothing whereas search returned the match.\n",
    "#### regex.search() returns a particular match object that contains the starting and ending positions of the first occurrence of the pattern.\n",
    "#### Likewise, regex.match() also returns a match object. But the difference is, it requires the pattern to be present at the beginning of the text itself."
   ]
  },
  {
   "cell_type": "markdown",
   "metadata": {},
   "source": [
    "#### to get the matched text from .match or .search, use group() method"
   ]
  },
  {
   "cell_type": "code",
   "execution_count": 7,
   "metadata": {},
   "outputs": [
    {
     "data": {
      "text/plain": [
       "'205'"
      ]
     },
     "execution_count": 7,
     "metadata": {},
     "output_type": "execute_result"
    }
   ],
   "source": [
    "result = regex_num.search(text2)\n",
    "result.group()"
   ]
  },
  {
   "cell_type": "markdown",
   "metadata": {},
   "source": [
    "### 5. How to substitute one text with another using regex?\n",
    "#### To replace texts, use the regex.sub()\n"
   ]
  },
  {
   "cell_type": "code",
   "execution_count": 8,
   "metadata": {},
   "outputs": [
    {
     "name": "stdout",
     "output_type": "stream",
     "text": [
      "101   COM \t  Computers\n",
      "205   MAT \t  Mathematics\n",
      "189   ENG  \t  English\n"
     ]
    }
   ],
   "source": [
    "text = \"\"\"101   COM \\t  Computers\n",
    "205   MAT \\t  Mathematics\n",
    "189   ENG  \\t  English\"\"\"  \n",
    "print(text)"
   ]
  },
  {
   "cell_type": "markdown",
   "metadata": {},
   "source": [
    "From the above text, I want to even out all the extra spaces and put all the words in one single line."
   ]
  },
  {
   "cell_type": "code",
   "execution_count": 9,
   "metadata": {},
   "outputs": [
    {
     "data": {
      "text/plain": [
       "'101 COM Computers 205 MAT Mathematics 189 ENG English'"
      ]
     },
     "execution_count": 9,
     "metadata": {},
     "output_type": "execute_result"
    }
   ],
   "source": [
    "regex = re.compile('\\s+')#will match all variable spaces, including tab(\\t and newline \\n)\n",
    "regex.sub(' ',text) #replace variable spaces with single spcae."
   ]
  },
  {
   "cell_type": "markdown",
   "metadata": {},
   "source": [
    "Suppose you only want to get rid of the extra spaces but want to keep the course entries in the new line itself. \n",
    "\n",
    "This can be done using a negative lookahead (?!\\n). It checks for an upcoming newline character and excludes it from the pattern."
   ]
  },
  {
   "cell_type": "markdown",
   "metadata": {},
   "source": [
    "Question:  Write a Python program to check that a string contains only a certain set of characters (in this case a-z, A-Z and 0-9)."
   ]
  },
  {
   "cell_type": "code",
   "execution_count": 10,
   "metadata": {},
   "outputs": [],
   "source": [
    "def check(str_test):\n",
    "    regex = re.compile('^[a-zA-Z0-9]+$')\n",
    "    match = regex.findall(str_test)\n",
    "    if(len(match)):\n",
    "        print('passed')\n",
    "    else:\n",
    "        print('failed')"
   ]
  },
  {
   "cell_type": "code",
   "execution_count": 11,
   "metadata": {},
   "outputs": [
    {
     "name": "stdout",
     "output_type": "stream",
     "text": [
      "passed\n"
     ]
    }
   ],
   "source": [
    "str_test = \"sdfdh90\"\n",
    "check(str_test)"
   ]
  },
  {
   "cell_type": "code",
   "execution_count": 12,
   "metadata": {},
   "outputs": [
    {
     "name": "stdout",
     "output_type": "stream",
     "text": [
      "failed\n"
     ]
    }
   ],
   "source": [
    "str_test_failing = \"sdf fgfg 90\"\n",
    "check(str_test_failing)"
   ]
  },
  {
   "cell_type": "markdown",
   "metadata": {},
   "source": [
    "Write a Python program that matches a string that has an a followed by zero or more b's."
   ]
  },
  {
   "cell_type": "code",
   "execution_count": 13,
   "metadata": {},
   "outputs": [],
   "source": [
    "def check(test):\n",
    "    regex = re.compile('ab*')\n",
    "    return regex.findall(test)"
   ]
  },
  {
   "cell_type": "code",
   "execution_count": 14,
   "metadata": {},
   "outputs": [
    {
     "name": "stdout",
     "output_type": "stream",
     "text": [
      "passed\n",
      "passed\n"
     ]
    }
   ],
   "source": [
    "pass_str = 'ababab'\n",
    "fail_str = 'dsdfds'\n",
    "if len(check(pass_str)):\n",
    "    print('passed')\n",
    "if not len(check(fail_str)):\n",
    "    print('passed')"
   ]
  },
  {
   "cell_type": "markdown",
   "metadata": {},
   "source": [
    "Write a Python program that matches a string that has an a followed by one or more b's"
   ]
  },
  {
   "cell_type": "code",
   "execution_count": 15,
   "metadata": {},
   "outputs": [
    {
     "name": "stdout",
     "output_type": "stream",
     "text": [
      "passed\n",
      "passed\n"
     ]
    }
   ],
   "source": [
    "def check(test):\n",
    "    regex = re.compile('ab+')\n",
    "    return regex.findall(test)\n",
    "\n",
    "pass_str = 'abbabab'\n",
    "fail_str = 'adsdfds'\n",
    "if len(check(pass_str)):\n",
    "    print('passed')\n",
    "if not len(check(fail_str)):\n",
    "    print('passed')"
   ]
  },
  {
   "cell_type": "markdown",
   "metadata": {},
   "source": [
    "Write a Python program that matches a string that has an a followed by zero or one 'b'"
   ]
  },
  {
   "cell_type": "code",
   "execution_count": 16,
   "metadata": {},
   "outputs": [
    {
     "name": "stdout",
     "output_type": "stream",
     "text": [
      "pass_str passed\n",
      "passed\n"
     ]
    }
   ],
   "source": [
    "def check(test):\n",
    "    regex = re.compile('ab?')\n",
    "    return regex.findall(test)\n",
    "\n",
    "pass_str = 'aababab'\n",
    "fail_str = 'sdfds'\n",
    "if len(check(pass_str)):\n",
    "    print('pass_str passed')\n",
    "if not len(check(fail_str)):\n",
    "    print('passed')"
   ]
  },
  {
   "cell_type": "markdown",
   "metadata": {},
   "source": [
    "Write a Python program that matches a string that has an a followed by three 'b'"
   ]
  },
  {
   "cell_type": "code",
   "execution_count": 17,
   "metadata": {},
   "outputs": [
    {
     "name": "stdout",
     "output_type": "stream",
     "text": [
      "pass_str passed\n",
      "passed\n"
     ]
    }
   ],
   "source": [
    "def check(test):\n",
    "    regex = re.compile('ab{3}')\n",
    "    return regex.findall(test)\n",
    "\n",
    "pass_str = 'aabbbabab'\n",
    "fail_str = 'abbabsdfds'\n",
    "if len(check(pass_str)):\n",
    "    print('pass_str passed')\n",
    "if not len(check(fail_str)):\n",
    "    print('passed')"
   ]
  },
  {
   "cell_type": "markdown",
   "metadata": {},
   "source": [
    "Write a Python program that matches a string that has an a followed by two to three 'b'."
   ]
  },
  {
   "cell_type": "code",
   "execution_count": 18,
   "metadata": {},
   "outputs": [
    {
     "name": "stdout",
     "output_type": "stream",
     "text": [
      "pass_str passed\n",
      "passed\n"
     ]
    }
   ],
   "source": [
    "def check(test):\n",
    "    regex = re.compile('ab{2,3}')\n",
    "    return regex.findall(test)\n",
    "\n",
    "pass_str = 'aabbbabbab'\n",
    "fail_str = 'ababsdfds'\n",
    "if len(check(pass_str)):\n",
    "    print('pass_str passed')\n",
    "if not len(check(fail_str)):\n",
    "    print('passed')"
   ]
  },
  {
   "cell_type": "markdown",
   "metadata": {},
   "source": [
    "Write a Python program to find sequences of lowercase letters joined with a underscore."
   ]
  },
  {
   "cell_type": "code",
   "execution_count": 19,
   "metadata": {},
   "outputs": [
    {
     "name": "stdout",
     "output_type": "stream",
     "text": [
      "pass_str passed\n",
      "passed\n"
     ]
    }
   ],
   "source": [
    "def check(test):\n",
    "    regex = re.compile('[a-z]+(?=_[a-z]+)')\n",
    "    return regex.findall(test)\n",
    "\n",
    "pass_str = 'aabb_babbab'\n",
    "fail_str = 'aabb__babbab'\n",
    "if len(check(pass_str)):\n",
    "    print('pass_str passed')\n",
    "if not len(check(fail_str)):\n",
    "    print('passed')"
   ]
  },
  {
   "cell_type": "markdown",
   "metadata": {},
   "source": [
    "Write a Python program to find sequences of one upper case letter followed by lower case letters."
   ]
  },
  {
   "cell_type": "code",
   "execution_count": 20,
   "metadata": {},
   "outputs": [
    {
     "name": "stdout",
     "output_type": "stream",
     "text": [
      "pass_str passed\n",
      "passed\n"
     ]
    }
   ],
   "source": [
    "def check(test):\n",
    "    regex = re.compile('[A-Z](?=[a-z]+)')\n",
    "    return regex.findall(test)\n",
    "\n",
    "pass_str = 'AaabbCbabbab'\n",
    "fail_str = 'aabbCC'\n",
    "if len(check(pass_str)):\n",
    "    print('pass_str passed')\n",
    "if not len(check(fail_str)):\n",
    "    print('passed')"
   ]
  },
  {
   "cell_type": "markdown",
   "metadata": {},
   "source": [
    "Write a Python program that matches a string that has an 'a' followed by anything, ending in 'b'. "
   ]
  },
  {
   "cell_type": "code",
   "execution_count": 21,
   "metadata": {},
   "outputs": [
    {
     "name": "stdout",
     "output_type": "stream",
     "text": [
      "pass_str passed\n",
      "passed\n"
     ]
    }
   ],
   "source": [
    "def check(test):\n",
    "    regex = re.compile('a.*b$')\n",
    "    return regex.findall(test)\n",
    "\n",
    "pass_str = 'AaabbCbabbab'\n",
    "fail_str = 'aabbCC'\n",
    "if len(check(pass_str)):\n",
    "    print('pass_str passed')\n",
    "if not len(check(fail_str)):\n",
    "    print('passed')"
   ]
  },
  {
   "cell_type": "markdown",
   "metadata": {},
   "source": [
    "Write a Python program that matches a word at the beginning of a string."
   ]
  },
  {
   "cell_type": "code",
   "execution_count": 22,
   "metadata": {},
   "outputs": [
    {
     "name": "stdout",
     "output_type": "stream",
     "text": [
      "pass_str passed\n",
      "passed\n"
     ]
    }
   ],
   "source": [
    "def check(test):\n",
    "    regex = re.compile('^\\w+')\n",
    "    return regex.findall(test)\n",
    "\n",
    "pass_str = 'AaabbCbabbab'\n",
    "fail_str = ' aabbCC'\n",
    "if len(check(pass_str)):\n",
    "    print('pass_str passed')\n",
    "if not len(check(fail_str)):\n",
    "    print('passed')"
   ]
  },
  {
   "cell_type": "markdown",
   "metadata": {},
   "source": [
    "Write a Python program that matches a word at end of string, with optional punctuation."
   ]
  },
  {
   "cell_type": "code",
   "execution_count": 23,
   "metadata": {},
   "outputs": [
    {
     "name": "stdout",
     "output_type": "stream",
     "text": [
      "pass_str passed\n",
      "passed\n"
     ]
    }
   ],
   "source": [
    "def check(test):\n",
    "    regex = re.compile('\\w+[.,!]*$')\n",
    "    return regex.findall(test)\n",
    "\n",
    "pass_str = 'AaabbCbabba.'\n",
    "fail_str = ' aabbCC '\n",
    "if len(check(pass_str)):\n",
    "    print('pass_str passed')\n",
    "if not len(check(fail_str)):\n",
    "    print('passed')"
   ]
  },
  {
   "cell_type": "markdown",
   "metadata": {},
   "source": [
    " Write a Python program that matches a word containing 'z'."
   ]
  },
  {
   "cell_type": "code",
   "execution_count": 24,
   "metadata": {},
   "outputs": [
    {
     "name": "stdout",
     "output_type": "stream",
     "text": [
      "pass_str passed\n",
      "passed\n"
     ]
    }
   ],
   "source": [
    "def check(test):\n",
    "    regex = re.compile('\\w*z.\\w*')\n",
    "    return regex.findall(test)\n",
    "\n",
    "pass_str = 'Aaa zbbCbabba.'\n",
    "fail_str = 'mmm aabbCC '\n",
    "if len(check(pass_str)):\n",
    "    print('pass_str passed')\n",
    "if not len(check(fail_str)):\n",
    "    print('passed')"
   ]
  },
  {
   "cell_type": "markdown",
   "metadata": {},
   "source": [
    "Write a Python program that matches a word containing 'z', not start or end of the word"
   ]
  },
  {
   "cell_type": "code",
   "execution_count": 25,
   "metadata": {},
   "outputs": [
    {
     "name": "stdout",
     "output_type": "stream",
     "text": [
      "pass_str passed\n",
      "passed\n"
     ]
    }
   ],
   "source": [
    "def check(test):\n",
    "    regex = re.compile('[A-Ya-y]+z[A-Ya-y]+')\n",
    "    return regex.findall(test)\n",
    "\n",
    "pass_str = 'Aaa bzbCbabba.'\n",
    "fail_str = 'mmm zaabbCC '\n",
    "if len(check(pass_str)):\n",
    "    print('pass_str passed')\n",
    "if not len(check(fail_str)):\n",
    "    print('passed')"
   ]
  },
  {
   "cell_type": "markdown",
   "metadata": {},
   "source": [
    "https://www.w3resource.com/python-exercises/re/\n",
    "from exercise 14 and down"
   ]
  },
  {
   "cell_type": "code",
   "execution_count": 26,
   "metadata": {},
   "outputs": [
    {
     "name": "stdout",
     "output_type": "stream",
     "text": [
      "Q14\n",
      "pass_str passed\n",
      "passed\n"
     ]
    }
   ],
   "source": [
    "def check(test):\n",
    "    regex = re.compile('[^a-zA-Z0-9_]')\n",
    "    return regex.findall(test)\n",
    "\n",
    "print('Q14')\n",
    "fail_str = 'Aaa9bzbCbabba_'\n",
    "pass_str = 'mmm zaabbCC'\n",
    "if len(check(pass_str)):\n",
    "    print('pass_str passed')\n",
    "if not len(check(fail_str)):\n",
    "    print('passed')"
   ]
  },
  {
   "cell_type": "code",
   "execution_count": 27,
   "metadata": {},
   "outputs": [
    {
     "name": "stdout",
     "output_type": "stream",
     "text": [
      "Q15\n",
      "pass_str passed\n",
      "passed\n"
     ]
    }
   ],
   "source": [
    "def check(test):\n",
    "    regex = re.compile('^9')\n",
    "    return regex.findall(test)\n",
    "\n",
    "print('Q15')\n",
    "pass_str = '9bzbCbabba_'\n",
    "fail_str = '8mmm zaabbCC'\n",
    "if len(check(pass_str)):\n",
    "    print('pass_str passed')\n",
    "if not len(check(fail_str)):\n",
    "    print('passed')"
   ]
  },
  {
   "cell_type": "code",
   "execution_count": 28,
   "metadata": {},
   "outputs": [
    {
     "name": "stdout",
     "output_type": "stream",
     "text": [
      "Q16\n"
     ]
    },
    {
     "data": {
      "text/plain": [
       "'1.01.02.12'"
      ]
     },
     "execution_count": 28,
     "metadata": {},
     "output_type": "execute_result"
    }
   ],
   "source": [
    "def check(test):\n",
    "    regex = re.compile('^0+')\n",
    "    return regex.sub('',test)\n",
    "\n",
    "print('Q16')\n",
    "test_str = '001.01.02.12'\n",
    "check(test_str)"
   ]
  },
  {
   "cell_type": "code",
   "execution_count": 29,
   "metadata": {},
   "outputs": [
    {
     "name": "stdout",
     "output_type": "stream",
     "text": [
      "Q17\n",
      "pass_str passed\n",
      "passed\n"
     ]
    }
   ],
   "source": [
    "def check(test):\n",
    "    regex = re.compile('[0-9]$')\n",
    "    return regex.findall(test)\n",
    "\n",
    "print('Q17')\n",
    "pass_str = '9bzbCbabba1'\n",
    "fail_str = '8mmm zaabbCC'\n",
    "if len(check(pass_str)):\n",
    "    print('pass_str passed')\n",
    "if not len(check(fail_str)):\n",
    "    print('passed')"
   ]
  },
  {
   "cell_type": "code",
   "execution_count": 30,
   "metadata": {},
   "outputs": [
    {
     "name": "stdout",
     "output_type": "stream",
     "text": [
      "Q18\n"
     ]
    },
    {
     "data": {
      "text/plain": [
       "['9', '234', '1']"
      ]
     },
     "execution_count": 30,
     "metadata": {},
     "output_type": "execute_result"
    }
   ],
   "source": [
    "def check(test):\n",
    "    regex = re.compile('(?<![0-9])[0-9]{1,3}(?![0-9])')\n",
    "    return regex.findall(test)\n",
    "\n",
    "print('Q18')\n",
    "pass_str = '9bzbC234b4444abba1'\n",
    "check(pass_str)"
   ]
  },
  {
   "cell_type": "code",
   "execution_count": 31,
   "metadata": {},
   "outputs": [
    {
     "name": "stdout",
     "output_type": "stream",
     "text": [
      "Q19\n",
      "not found: horse\n"
     ]
    }
   ],
   "source": [
    "def check(test):\n",
    "    regex = re.compile('fox|dog|horse')\n",
    "    return regex.findall(test)\n",
    "\n",
    "print('Q19')\n",
    "pass_str = 'The quick brown fox jumps over the lazy dog.'\n",
    "patterns = ['fox','dog','horse']\n",
    "result = check(pass_str)\n",
    "for pattern in patterns:\n",
    "    if pattern not in result:\n",
    "        print(\"not found: \"+pattern)"
   ]
  },
  {
   "cell_type": "code",
   "execution_count": 32,
   "metadata": {},
   "outputs": [
    {
     "name": "stdout",
     "output_type": "stream",
     "text": [
      "Q20\n"
     ]
    },
    {
     "data": {
      "text/plain": [
       "(16, 19, 'fox')"
      ]
     },
     "execution_count": 32,
     "metadata": {},
     "output_type": "execute_result"
    }
   ],
   "source": [
    "def check(test):\n",
    "    regex = re.compile('fox')\n",
    "    return regex.search(test)\n",
    "\n",
    "print('Q20')\n",
    "pass_str = 'The quick brown fox jumps over the lazy dog.'\n",
    "match = check(pass_str)\n",
    "(match.start(),match.end(),match.group())"
   ]
  },
  {
   "cell_type": "code",
<<<<<<< HEAD
   "execution_count": 33,
=======
   "execution_count": 35,
>>>>>>> f879cdf174e0b3cec02989b6bcc5d598c3cd7e94
   "metadata": {},
   "outputs": [
    {
     "name": "stdout",
     "output_type": "stream",
     "text": [
      "Q22\n",
      "start:7\n",
      "end:15\n",
      "start:22\n",
      "end:30\n",
      "start:36\n",
      "end:44\n"
     ]
    }
   ],
   "source": [
    "def check(test):\n",
    "    regex = re.compile('exercise')\n",
    "    for match in regex.finditer(test):\n",
    "        print('start:'+str(match.start()))\n",
    "        print('end:'+str(match.end()))\n",
    "\n",
    "print('Q22')\n",
    "pass_str = 'Python exercises, PHP exercises, C# exercises'\n",
    "check(pass_str)"
   ]
  },
  {
   "cell_type": "code",
<<<<<<< HEAD
   "execution_count": 43,
=======
   "execution_count": 40,
>>>>>>> f879cdf174e0b3cec02989b6bcc5d598c3cd7e94
   "metadata": {},
   "outputs": [
    {
     "name": "stdout",
     "output_type": "stream",
     "text": [
<<<<<<< HEAD
      "<_sre.SRE_Match object; span=(0, 8), match='<sdssd/>'>\n",
      "<_sre.SRE_Match object; span=(8, 12), match='<s/>'>\n"
=======
      "Q23\n",
      "pyth_exer\n",
      "pyth exer\n"
>>>>>>> f879cdf174e0b3cec02989b6bcc5d598c3cd7e94
     ]
    }
   ],
   "source": [
<<<<<<< HEAD
    "# ? in .*? makes it non-greedy. So <.*?> matches any series of characters after < until it encounters first >. \n",
    "# If there was no ?, the search would have been greedy and .*> would have matched until the last >\n",
    "# r'' .. the r means raw mode. In raw mode, there is no need to escape special characters. Use raw mode always\n",
    "for match in re.finditer(r'<.*?>','<sdssd/><s/>'):\n",
    "    print(match)"
=======
    "test_str = \"pyth exer\"\n",
    "test_str = re.sub(' ','_',test_str)\n",
    "print('Q23')\n",
    "print(test_str)\n",
    "test_str = re.sub('_',' ',test_str)\n",
    "print(test_str)"
>>>>>>> f879cdf174e0b3cec02989b6bcc5d598c3cd7e94
   ]
  },
  {
   "cell_type": "code",
<<<<<<< HEAD
   "execution_count": 44,
=======
   "execution_count": 45,
>>>>>>> f879cdf174e0b3cec02989b6bcc5d598c3cd7e94
   "metadata": {},
   "outputs": [
    {
     "name": "stdout",
     "output_type": "stream",
     "text": [
<<<<<<< HEAD
      "Q25\n"
=======
      "Q24\n"
>>>>>>> f879cdf174e0b3cec02989b6bcc5d598c3cd7e94
     ]
    },
    {
     "data": {
      "text/plain": [
<<<<<<< HEAD
       "'18-02-2014'"
      ]
     },
     "execution_count": 44,
=======
       "[('2016', '09', '02')]"
      ]
     },
     "execution_count": 45,
>>>>>>> f879cdf174e0b3cec02989b6bcc5d598c3cd7e94
     "metadata": {},
     "output_type": "execute_result"
    }
   ],
   "source": [
<<<<<<< HEAD
    "#  the parentheses create groups that are numbered and can be accessed by their number like \\1, \\2 etc.\n",
    "# if not using raw, \\1 will be \\\\1\n",
    "def format_date(date):\n",
    "    expr = re.compile(r'(\\d{2})-(\\d{2})-(\\d{4})')\n",
    "    return expr.sub(r'\\2-\\1-\\3', date)\n",
    "\n",
    "print('Q25')\n",
    "format_date('02-18-2014')"
   ]
  },
  {
   "cell_type": "code",
   "execution_count": 53,
   "metadata": {},
   "outputs": [
    {
     "name": "stdout",
     "output_type": "stream",
     "text": [
      "Q26\n"
     ]
    },
    {
     "data": {
      "text/plain": [
       "['Python', 'PHP', 'Perl', 'P']"
      ]
     },
     "execution_count": 53,
     "metadata": {},
     "output_type": "execute_result"
    }
   ],
   "source": [
    "print(\"Q26\")\n",
    "re.findall(r'\\bP.*?\\b','Python PHP,Perl,P, Java Javascript')"
   ]
  },
  {
   "cell_type": "code",
   "execution_count": 56,
   "metadata": {},
   "outputs": [
    {
     "name": "stdout",
     "output_type": "stream",
     "text": [
      "Q27\n"
     ]
    },
    {
     "data": {
      "text/plain": [
       "['10', '20', '30']"
      ]
     },
     "execution_count": 56,
     "metadata": {},
     "output_type": "execute_result"
    }
   ],
   "source": [
    "print('Q27')\n",
    "re.findall(r'[0-9]+','Ten 10, Twenty 20, Thirty 30')"
   ]
  },
  {
   "cell_type": "code",
   "execution_count": 59,
   "metadata": {},
   "outputs": [
    {
     "name": "stdout",
     "output_type": "stream",
     "text": [
      "Q28\n"
     ]
    },
    {
     "data": {
      "text/plain": [
       "['aero', 'euro']"
      ]
     },
     "execution_count": 59,
     "metadata": {},
     "output_type": "execute_result"
    }
   ],
   "source": [
    "print('Q28')\n",
    "re.findall(r'\\b[ae].*?\\b','aero pound euro dollar rupee')"
   ]
  },
  {
   "cell_type": "code",
   "execution_count": 75,
   "metadata": {},
   "outputs": [
    {
     "name": "stdout",
     "output_type": "stream",
     "text": [
      "Q31\n"
     ]
    },
    {
     "data": {
      "text/plain": [
       "'r:m:s:'"
      ]
     },
     "execution_count": 75,
     "metadata": {},
     "output_type": "execute_result"
    }
   ],
   "source": [
    "print('Q31')\n",
    "re.sub(r'[ ,.]+',':','r m, s.')"
   ]
  },
  {
   "cell_type": "code",
   "execution_count": 74,
   "metadata": {},
   "outputs": [
    {
     "name": "stdout",
     "output_type": "stream",
     "text": [
      "Q32\n"
     ]
    },
    {
     "data": {
      "text/plain": [
       "'r:m: s. m.r,s,t.'"
      ]
     },
     "execution_count": 74,
     "metadata": {},
     "output_type": "execute_result"
    }
   ],
   "source": [
    "print('Q32')\n",
    "re.sub(r'[ ,.]',':','r m, s. m.r,s,t.',2)"
   ]
  },
  {
   "cell_type": "code",
   "execution_count": 77,
   "metadata": {},
   "outputs": [
    {
     "name": "stdout",
     "output_type": "stream",
     "text": [
      "Q33\n"
     ]
    },
    {
     "data": {
      "text/plain": [
       "['india', 'great']"
      ]
     },
     "execution_count": 77,
     "metadata": {},
     "output_type": "execute_result"
    }
   ],
   "source": [
    "print('Q33')\n",
    "re.findall(r'\\b[a-zA-Z]{5}\\b','india is a great country')"
   ]
  },
  {
   "cell_type": "code",
   "execution_count": 78,
   "metadata": {},
   "outputs": [
    {
     "name": "stdout",
     "output_type": "stream",
     "text": [
      "Q34\n"
     ]
    },
    {
     "data": {
      "text/plain": [
       "['our', 'india', 'great', 'Yess']"
      ]
     },
     "execution_count": 78,
     "metadata": {},
     "output_type": "execute_result"
    }
   ],
   "source": [
    "print('Q34')\n",
    "re.findall(r'\\b[a-zA-Z]{3,5}\\b','our india is a great country. Yess')"
   ]
  },
  {
   "cell_type": "code",
   "execution_count": 79,
   "metadata": {},
   "outputs": [
    {
     "name": "stdout",
     "output_type": "stream",
     "text": [
      "Q35\n"
     ]
    },
    {
     "data": {
      "text/plain": [
       "['india', 'great', 'country', 'Yess']"
      ]
     },
     "execution_count": 79,
     "metadata": {},
     "output_type": "execute_result"
    }
   ],
   "source": [
    "print('Q35')\n",
    "re.findall(r'\\b[a-zA-Z]{4,}\\b','our india is a great country. Yess')"
   ]
  },
  {
   "cell_type": "code",
   "execution_count": 80,
   "metadata": {},
   "outputs": [
    {
     "name": "stdout",
     "output_type": "stream",
     "text": [
      "Q36\n"
     ]
    }
   ],
   "source": [
    "print('Q36')\n",
    "# The first regex handles the edge case of an acronym followed by another word \n",
    "# (e.g. \"HTTPResponse\" -> \"HTTP_Response\") OR the more normal case of an initial \n",
    "# lowercase word followed by a capitalized word (e.g. \"getResponse\" -> \"get_Response\". \n",
    "# The second regex handles the normal case of two non-acronyms (e.g. \"ResponseCode\" -> \"Response_Code\") \n",
    "# followed by a final call to lowercase everything. \n",
    "# Thus \"getHTTPResponseCode\" -> \"getHTTP_ResponseCode\" -> \"get_HTTP_Response_Code\" -> \"get_http_response_code\"\n",
    "def camel_to_snake(name):\n",
    "    s1 = re.sub('(.)([A-Z][a-z]+)', r'\\1_\\2', name)\n",
    "    return re.sub('([a-z0-9])([A-Z])', r'\\1_\\2', s1).lower()"
   ]
  },
  {
   "cell_type": "code",
   "execution_count": 81,
   "metadata": {},
   "outputs": [
    {
     "data": {
      "text/plain": [
       "'HTTP_Response'"
      ]
     },
     "execution_count": 81,
     "metadata": {},
     "output_type": "execute_result"
    }
   ],
   "source": [
    "re.sub('(.)([A-Z][a-z]+)', r'\\1_\\2', 'HTTPResponse')"
   ]
  },
  {
   "cell_type": "code",
   "execution_count": 96,
   "metadata": {},
   "outputs": [
    {
     "data": {
      "text/plain": [
       "'HTTPResponse'"
      ]
     },
     "execution_count": 96,
     "metadata": {},
     "output_type": "execute_result"
    }
   ],
   "source": [
    "re.sub('(.)', r'\\1', 'HTTPResponse')"
=======
    "url = \"https://www.washingtonpost.com/news/football-insider/wp/2016/09/02/odell-beckhams-fame-rests-on-one-stupid-little-ball-josh-norman-tells-author/\"\n",
    "expr = re.compile(r'(\\d{4})/(\\d{2})/(\\d{2})')\n",
    "print('Q24')\n",
    "expr.findall(url)"
>>>>>>> f879cdf174e0b3cec02989b6bcc5d598c3cd7e94
   ]
  },
  {
   "cell_type": "code",
   "execution_count": null,
   "metadata": {},
   "outputs": [],
   "source": []
  }
 ],
 "metadata": {
  "kernelspec": {
   "display_name": "Python 3",
   "language": "python",
   "name": "python3"
  },
  "language_info": {
   "codemirror_mode": {
    "name": "ipython",
    "version": 3
   },
   "file_extension": ".py",
   "mimetype": "text/x-python",
   "name": "python",
   "nbconvert_exporter": "python",
   "pygments_lexer": "ipython3",
   "version": "3.6.5"
  }
 },
 "nbformat": 4,
 "nbformat_minor": 2
}
